{
 "cells": [
  {
   "cell_type": "markdown",
   "metadata": {
    "toc": true
   },
   "source": [
    "<h1>Содержание<span class=\"tocSkip\"></span></h1>\n",
    "<div class=\"toc\"><ul class=\"toc-item\"><li><span><a href=\"#Подготовка-данных\" data-toc-modified-id=\"Подготовка-данных-1\"><span class=\"toc-item-num\">1&nbsp;&nbsp;</span>Подготовка данных</a></span><ul class=\"toc-item\"><li><span><a href=\"#Обзор-данных\" data-toc-modified-id=\"Обзор-данных-1.1\"><span class=\"toc-item-num\">1.1&nbsp;&nbsp;</span>Обзор данных</a></span></li><li><span><a href=\"#Предобработка-данных\" data-toc-modified-id=\"Предобработка-данных-1.2\"><span class=\"toc-item-num\">1.2&nbsp;&nbsp;</span>Предобработка данных</a></span></li></ul></li><li><span><a href=\"#Анализ-данных\" data-toc-modified-id=\"Анализ-данных-2\"><span class=\"toc-item-num\">2&nbsp;&nbsp;</span>Анализ данных</a></span></li><li><span><a href=\"#Модель\" data-toc-modified-id=\"Модель-3\"><span class=\"toc-item-num\">3&nbsp;&nbsp;</span>Модель</a></span></li><li><span><a href=\"#Вывод\" data-toc-modified-id=\"Вывод-4\"><span class=\"toc-item-num\">4&nbsp;&nbsp;</span>Вывод</a></span></li><li><span><a href=\"#Чек-лист-готовности-проекта\" data-toc-modified-id=\"Чек-лист-готовности-проекта-5\"><span class=\"toc-item-num\">5&nbsp;&nbsp;</span>Чек-лист готовности проекта</a></span></li></ul></div>"
   ]
  },
  {
   "cell_type": "markdown",
   "metadata": {},
   "source": [
    "# Восстановление золота из руды"
   ]
  },
  {
   "cell_type": "markdown",
   "metadata": {},
   "source": [
    "Подготовьте прототип модели машинного обучения для «Цифры». Компания разрабатывает решения для эффективной работы промышленных предприятий.\n",
    "\n",
    "Модель должна предсказать коэффициент восстановления золота из золотосодержащей руды. Используйте данные с параметрами добычи и очистки. \n",
    "\n",
    "Модель поможет оптимизировать производство, чтобы не запускать предприятие с убыточными характеристиками.\n",
    "\n",
    "Вам нужно:\n",
    "\n",
    "1. Подготовить данные;\n",
    "2. Провести исследовательский анализ данных;\n",
    "3. Построить и обучить модель.\n",
    "\n",
    "Чтобы выполнить проект, обращайтесь к библиотекам *pandas*, *matplotlib* и *sklearn.* Вам поможет их документация."
   ]
  },
  {
   "cell_type": "markdown",
   "metadata": {},
   "source": [
    "## Подготовка данных"
   ]
  },
  {
   "cell_type": "markdown",
   "metadata": {},
   "source": [
    "### Обзор данных"
   ]
  },
  {
   "cell_type": "markdown",
   "metadata": {},
   "source": [
    "Импортируем необходимые библиотеки и откроем полученные файлы"
   ]
  },
  {
   "cell_type": "code",
   "execution_count": 1,
   "metadata": {},
   "outputs": [],
   "source": [
    "import pandas as pd\n",
    "import random\n",
    "import numpy as np\n",
    "import matplotlib.pyplot as plt\n",
    "import seaborn as sns\n",
    "from sklearn.preprocessing import StandardScaler \n",
    "from sklearn.model_selection import cross_val_score\n",
    "from sklearn.model_selection import GridSearchCV\n",
    "from sklearn.metrics import mean_squared_error \n",
    "from sklearn.metrics import mean_absolute_error\n",
    "from sklearn.metrics import make_scorer\n",
    "from sklearn.linear_model import LinearRegression\n",
    "from sklearn.tree import DecisionTreeRegressor\n",
    "from sklearn.ensemble import RandomForestRegressor\n",
    "from sklearn.dummy import DummyRegressor\n",
    "import warnings\n",
    "warnings.filterwarnings('ignore')"
   ]
  },
  {
   "cell_type": "code",
   "execution_count": 2,
   "metadata": {},
   "outputs": [],
   "source": [
    "df_train = pd.read_csv('/datasets/gold_recovery_train_new.csv')\n",
    "df_test = pd.read_csv('/datasets/gold_recovery_test_new.csv')\n",
    "df_full = pd.read_csv('/datasets/gold_recovery_full_new.csv')"
   ]
  },
  {
   "cell_type": "code",
   "execution_count": 3,
   "metadata": {},
   "outputs": [
    {
     "name": "stdout",
     "output_type": "stream",
     "text": [
      "<class 'pandas.core.frame.DataFrame'>\n",
      "RangeIndex: 14149 entries, 0 to 14148\n",
      "Data columns (total 87 columns):\n",
      " #   Column                                              Non-Null Count  Dtype  \n",
      "---  ------                                              --------------  -----  \n",
      " 0   date                                                14149 non-null  object \n",
      " 1   final.output.concentrate_ag                         14148 non-null  float64\n",
      " 2   final.output.concentrate_pb                         14148 non-null  float64\n",
      " 3   final.output.concentrate_sol                        13938 non-null  float64\n",
      " 4   final.output.concentrate_au                         14149 non-null  float64\n",
      " 5   final.output.recovery                               14149 non-null  float64\n",
      " 6   final.output.tail_ag                                14149 non-null  float64\n",
      " 7   final.output.tail_pb                                14049 non-null  float64\n",
      " 8   final.output.tail_sol                               14144 non-null  float64\n",
      " 9   final.output.tail_au                                14149 non-null  float64\n",
      " 10  primary_cleaner.input.sulfate                       14129 non-null  float64\n",
      " 11  primary_cleaner.input.depressant                    14117 non-null  float64\n",
      " 12  primary_cleaner.input.feed_size                     14149 non-null  float64\n",
      " 13  primary_cleaner.input.xanthate                      14049 non-null  float64\n",
      " 14  primary_cleaner.output.concentrate_ag               14149 non-null  float64\n",
      " 15  primary_cleaner.output.concentrate_pb               14063 non-null  float64\n",
      " 16  primary_cleaner.output.concentrate_sol              13863 non-null  float64\n",
      " 17  primary_cleaner.output.concentrate_au               14149 non-null  float64\n",
      " 18  primary_cleaner.output.tail_ag                      14148 non-null  float64\n",
      " 19  primary_cleaner.output.tail_pb                      14134 non-null  float64\n",
      " 20  primary_cleaner.output.tail_sol                     14103 non-null  float64\n",
      " 21  primary_cleaner.output.tail_au                      14149 non-null  float64\n",
      " 22  primary_cleaner.state.floatbank8_a_air              14145 non-null  float64\n",
      " 23  primary_cleaner.state.floatbank8_a_level            14148 non-null  float64\n",
      " 24  primary_cleaner.state.floatbank8_b_air              14145 non-null  float64\n",
      " 25  primary_cleaner.state.floatbank8_b_level            14148 non-null  float64\n",
      " 26  primary_cleaner.state.floatbank8_c_air              14147 non-null  float64\n",
      " 27  primary_cleaner.state.floatbank8_c_level            14148 non-null  float64\n",
      " 28  primary_cleaner.state.floatbank8_d_air              14146 non-null  float64\n",
      " 29  primary_cleaner.state.floatbank8_d_level            14148 non-null  float64\n",
      " 30  rougher.calculation.sulfate_to_au_concentrate       14148 non-null  float64\n",
      " 31  rougher.calculation.floatbank10_sulfate_to_au_feed  14148 non-null  float64\n",
      " 32  rougher.calculation.floatbank11_sulfate_to_au_feed  14148 non-null  float64\n",
      " 33  rougher.calculation.au_pb_ratio                     14149 non-null  float64\n",
      " 34  rougher.input.feed_ag                               14149 non-null  float64\n",
      " 35  rougher.input.feed_pb                               14049 non-null  float64\n",
      " 36  rougher.input.feed_rate                             14141 non-null  float64\n",
      " 37  rougher.input.feed_size                             14005 non-null  float64\n",
      " 38  rougher.input.feed_sol                              14071 non-null  float64\n",
      " 39  rougher.input.feed_au                               14149 non-null  float64\n",
      " 40  rougher.input.floatbank10_sulfate                   14120 non-null  float64\n",
      " 41  rougher.input.floatbank10_xanthate                  14141 non-null  float64\n",
      " 42  rougher.input.floatbank11_sulfate                   14113 non-null  float64\n",
      " 43  rougher.input.floatbank11_xanthate                  13721 non-null  float64\n",
      " 44  rougher.output.concentrate_ag                       14149 non-null  float64\n",
      " 45  rougher.output.concentrate_pb                       14149 non-null  float64\n",
      " 46  rougher.output.concentrate_sol                      14127 non-null  float64\n",
      " 47  rougher.output.concentrate_au                       14149 non-null  float64\n",
      " 48  rougher.output.recovery                             14149 non-null  float64\n",
      " 49  rougher.output.tail_ag                              14148 non-null  float64\n",
      " 50  rougher.output.tail_pb                              14149 non-null  float64\n",
      " 51  rougher.output.tail_sol                             14149 non-null  float64\n",
      " 52  rougher.output.tail_au                              14149 non-null  float64\n",
      " 53  rougher.state.floatbank10_a_air                     14148 non-null  float64\n",
      " 54  rougher.state.floatbank10_a_level                   14148 non-null  float64\n",
      " 55  rougher.state.floatbank10_b_air                     14148 non-null  float64\n",
      " 56  rougher.state.floatbank10_b_level                   14148 non-null  float64\n",
      " 57  rougher.state.floatbank10_c_air                     14148 non-null  float64\n",
      " 58  rougher.state.floatbank10_c_level                   14148 non-null  float64\n",
      " 59  rougher.state.floatbank10_d_air                     14149 non-null  float64\n",
      " 60  rougher.state.floatbank10_d_level                   14149 non-null  float64\n",
      " 61  rougher.state.floatbank10_e_air                     13713 non-null  float64\n",
      " 62  rougher.state.floatbank10_e_level                   14149 non-null  float64\n",
      " 63  rougher.state.floatbank10_f_air                     14149 non-null  float64\n",
      " 64  rougher.state.floatbank10_f_level                   14149 non-null  float64\n",
      " 65  secondary_cleaner.output.tail_ag                    14147 non-null  float64\n",
      " 66  secondary_cleaner.output.tail_pb                    14139 non-null  float64\n",
      " 67  secondary_cleaner.output.tail_sol                   12544 non-null  float64\n",
      " 68  secondary_cleaner.output.tail_au                    14149 non-null  float64\n",
      " 69  secondary_cleaner.state.floatbank2_a_air            13932 non-null  float64\n",
      " 70  secondary_cleaner.state.floatbank2_a_level          14148 non-null  float64\n",
      " 71  secondary_cleaner.state.floatbank2_b_air            14128 non-null  float64\n",
      " 72  secondary_cleaner.state.floatbank2_b_level          14148 non-null  float64\n",
      " 73  secondary_cleaner.state.floatbank3_a_air            14145 non-null  float64\n",
      " 74  secondary_cleaner.state.floatbank3_a_level          14148 non-null  float64\n",
      " 75  secondary_cleaner.state.floatbank3_b_air            14148 non-null  float64\n",
      " 76  secondary_cleaner.state.floatbank3_b_level          14148 non-null  float64\n",
      " 77  secondary_cleaner.state.floatbank4_a_air            14143 non-null  float64\n",
      " 78  secondary_cleaner.state.floatbank4_a_level          14148 non-null  float64\n",
      " 79  secondary_cleaner.state.floatbank4_b_air            14148 non-null  float64\n",
      " 80  secondary_cleaner.state.floatbank4_b_level          14148 non-null  float64\n",
      " 81  secondary_cleaner.state.floatbank5_a_air            14148 non-null  float64\n",
      " 82  secondary_cleaner.state.floatbank5_a_level          14148 non-null  float64\n",
      " 83  secondary_cleaner.state.floatbank5_b_air            14148 non-null  float64\n",
      " 84  secondary_cleaner.state.floatbank5_b_level          14148 non-null  float64\n",
      " 85  secondary_cleaner.state.floatbank6_a_air            14147 non-null  float64\n",
      " 86  secondary_cleaner.state.floatbank6_a_level          14148 non-null  float64\n",
      "dtypes: float64(86), object(1)\n",
      "memory usage: 9.4+ MB\n"
     ]
    }
   ],
   "source": [
    "df_train.info()"
   ]
  },
  {
   "cell_type": "code",
   "execution_count": 4,
   "metadata": {},
   "outputs": [
    {
     "data": {
      "text/plain": [
       "date                                          0.000000\n",
       "final.output.concentrate_ag                   0.000071\n",
       "final.output.concentrate_pb                   0.000071\n",
       "final.output.concentrate_sol                  0.014913\n",
       "final.output.concentrate_au                   0.000000\n",
       "                                                ...   \n",
       "secondary_cleaner.state.floatbank5_a_level    0.000071\n",
       "secondary_cleaner.state.floatbank5_b_air      0.000071\n",
       "secondary_cleaner.state.floatbank5_b_level    0.000071\n",
       "secondary_cleaner.state.floatbank6_a_air      0.000141\n",
       "secondary_cleaner.state.floatbank6_a_level    0.000071\n",
       "Length: 87, dtype: float64"
      ]
     },
     "execution_count": 4,
     "metadata": {},
     "output_type": "execute_result"
    }
   ],
   "source": [
    "df_train.isna().mean()"
   ]
  },
  {
   "cell_type": "code",
   "execution_count": 5,
   "metadata": {},
   "outputs": [
    {
     "name": "stdout",
     "output_type": "stream",
     "text": [
      "<class 'pandas.core.frame.DataFrame'>\n",
      "RangeIndex: 5290 entries, 0 to 5289\n",
      "Data columns (total 53 columns):\n",
      " #   Column                                      Non-Null Count  Dtype  \n",
      "---  ------                                      --------------  -----  \n",
      " 0   date                                        5290 non-null   object \n",
      " 1   primary_cleaner.input.sulfate               5286 non-null   float64\n",
      " 2   primary_cleaner.input.depressant            5285 non-null   float64\n",
      " 3   primary_cleaner.input.feed_size             5290 non-null   float64\n",
      " 4   primary_cleaner.input.xanthate              5286 non-null   float64\n",
      " 5   primary_cleaner.state.floatbank8_a_air      5290 non-null   float64\n",
      " 6   primary_cleaner.state.floatbank8_a_level    5290 non-null   float64\n",
      " 7   primary_cleaner.state.floatbank8_b_air      5290 non-null   float64\n",
      " 8   primary_cleaner.state.floatbank8_b_level    5290 non-null   float64\n",
      " 9   primary_cleaner.state.floatbank8_c_air      5290 non-null   float64\n",
      " 10  primary_cleaner.state.floatbank8_c_level    5290 non-null   float64\n",
      " 11  primary_cleaner.state.floatbank8_d_air      5290 non-null   float64\n",
      " 12  primary_cleaner.state.floatbank8_d_level    5290 non-null   float64\n",
      " 13  rougher.input.feed_ag                       5290 non-null   float64\n",
      " 14  rougher.input.feed_pb                       5290 non-null   float64\n",
      " 15  rougher.input.feed_rate                     5287 non-null   float64\n",
      " 16  rougher.input.feed_size                     5289 non-null   float64\n",
      " 17  rougher.input.feed_sol                      5269 non-null   float64\n",
      " 18  rougher.input.feed_au                       5290 non-null   float64\n",
      " 19  rougher.input.floatbank10_sulfate           5285 non-null   float64\n",
      " 20  rougher.input.floatbank10_xanthate          5290 non-null   float64\n",
      " 21  rougher.input.floatbank11_sulfate           5282 non-null   float64\n",
      " 22  rougher.input.floatbank11_xanthate          5265 non-null   float64\n",
      " 23  rougher.state.floatbank10_a_air             5290 non-null   float64\n",
      " 24  rougher.state.floatbank10_a_level           5290 non-null   float64\n",
      " 25  rougher.state.floatbank10_b_air             5290 non-null   float64\n",
      " 26  rougher.state.floatbank10_b_level           5290 non-null   float64\n",
      " 27  rougher.state.floatbank10_c_air             5290 non-null   float64\n",
      " 28  rougher.state.floatbank10_c_level           5290 non-null   float64\n",
      " 29  rougher.state.floatbank10_d_air             5290 non-null   float64\n",
      " 30  rougher.state.floatbank10_d_level           5290 non-null   float64\n",
      " 31  rougher.state.floatbank10_e_air             5290 non-null   float64\n",
      " 32  rougher.state.floatbank10_e_level           5290 non-null   float64\n",
      " 33  rougher.state.floatbank10_f_air             5290 non-null   float64\n",
      " 34  rougher.state.floatbank10_f_level           5290 non-null   float64\n",
      " 35  secondary_cleaner.state.floatbank2_a_air    5287 non-null   float64\n",
      " 36  secondary_cleaner.state.floatbank2_a_level  5290 non-null   float64\n",
      " 37  secondary_cleaner.state.floatbank2_b_air    5288 non-null   float64\n",
      " 38  secondary_cleaner.state.floatbank2_b_level  5290 non-null   float64\n",
      " 39  secondary_cleaner.state.floatbank3_a_air    5281 non-null   float64\n",
      " 40  secondary_cleaner.state.floatbank3_a_level  5290 non-null   float64\n",
      " 41  secondary_cleaner.state.floatbank3_b_air    5290 non-null   float64\n",
      " 42  secondary_cleaner.state.floatbank3_b_level  5290 non-null   float64\n",
      " 43  secondary_cleaner.state.floatbank4_a_air    5290 non-null   float64\n",
      " 44  secondary_cleaner.state.floatbank4_a_level  5290 non-null   float64\n",
      " 45  secondary_cleaner.state.floatbank4_b_air    5290 non-null   float64\n",
      " 46  secondary_cleaner.state.floatbank4_b_level  5290 non-null   float64\n",
      " 47  secondary_cleaner.state.floatbank5_a_air    5290 non-null   float64\n",
      " 48  secondary_cleaner.state.floatbank5_a_level  5290 non-null   float64\n",
      " 49  secondary_cleaner.state.floatbank5_b_air    5290 non-null   float64\n",
      " 50  secondary_cleaner.state.floatbank5_b_level  5290 non-null   float64\n",
      " 51  secondary_cleaner.state.floatbank6_a_air    5290 non-null   float64\n",
      " 52  secondary_cleaner.state.floatbank6_a_level  5290 non-null   float64\n",
      "dtypes: float64(52), object(1)\n",
      "memory usage: 2.1+ MB\n"
     ]
    }
   ],
   "source": [
    "df_test.info()"
   ]
  },
  {
   "cell_type": "code",
   "execution_count": 6,
   "metadata": {},
   "outputs": [
    {
     "data": {
      "text/plain": [
       "date                                          0.000000\n",
       "primary_cleaner.input.sulfate                 0.000756\n",
       "primary_cleaner.input.depressant              0.000945\n",
       "primary_cleaner.input.feed_size               0.000000\n",
       "primary_cleaner.input.xanthate                0.000756\n",
       "primary_cleaner.state.floatbank8_a_air        0.000000\n",
       "primary_cleaner.state.floatbank8_a_level      0.000000\n",
       "primary_cleaner.state.floatbank8_b_air        0.000000\n",
       "primary_cleaner.state.floatbank8_b_level      0.000000\n",
       "primary_cleaner.state.floatbank8_c_air        0.000000\n",
       "primary_cleaner.state.floatbank8_c_level      0.000000\n",
       "primary_cleaner.state.floatbank8_d_air        0.000000\n",
       "primary_cleaner.state.floatbank8_d_level      0.000000\n",
       "rougher.input.feed_ag                         0.000000\n",
       "rougher.input.feed_pb                         0.000000\n",
       "rougher.input.feed_rate                       0.000567\n",
       "rougher.input.feed_size                       0.000189\n",
       "rougher.input.feed_sol                        0.003970\n",
       "rougher.input.feed_au                         0.000000\n",
       "rougher.input.floatbank10_sulfate             0.000945\n",
       "rougher.input.floatbank10_xanthate            0.000000\n",
       "rougher.input.floatbank11_sulfate             0.001512\n",
       "rougher.input.floatbank11_xanthate            0.004726\n",
       "rougher.state.floatbank10_a_air               0.000000\n",
       "rougher.state.floatbank10_a_level             0.000000\n",
       "rougher.state.floatbank10_b_air               0.000000\n",
       "rougher.state.floatbank10_b_level             0.000000\n",
       "rougher.state.floatbank10_c_air               0.000000\n",
       "rougher.state.floatbank10_c_level             0.000000\n",
       "rougher.state.floatbank10_d_air               0.000000\n",
       "rougher.state.floatbank10_d_level             0.000000\n",
       "rougher.state.floatbank10_e_air               0.000000\n",
       "rougher.state.floatbank10_e_level             0.000000\n",
       "rougher.state.floatbank10_f_air               0.000000\n",
       "rougher.state.floatbank10_f_level             0.000000\n",
       "secondary_cleaner.state.floatbank2_a_air      0.000567\n",
       "secondary_cleaner.state.floatbank2_a_level    0.000000\n",
       "secondary_cleaner.state.floatbank2_b_air      0.000378\n",
       "secondary_cleaner.state.floatbank2_b_level    0.000000\n",
       "secondary_cleaner.state.floatbank3_a_air      0.001701\n",
       "secondary_cleaner.state.floatbank3_a_level    0.000000\n",
       "secondary_cleaner.state.floatbank3_b_air      0.000000\n",
       "secondary_cleaner.state.floatbank3_b_level    0.000000\n",
       "secondary_cleaner.state.floatbank4_a_air      0.000000\n",
       "secondary_cleaner.state.floatbank4_a_level    0.000000\n",
       "secondary_cleaner.state.floatbank4_b_air      0.000000\n",
       "secondary_cleaner.state.floatbank4_b_level    0.000000\n",
       "secondary_cleaner.state.floatbank5_a_air      0.000000\n",
       "secondary_cleaner.state.floatbank5_a_level    0.000000\n",
       "secondary_cleaner.state.floatbank5_b_air      0.000000\n",
       "secondary_cleaner.state.floatbank5_b_level    0.000000\n",
       "secondary_cleaner.state.floatbank6_a_air      0.000000\n",
       "secondary_cleaner.state.floatbank6_a_level    0.000000\n",
       "dtype: float64"
      ]
     },
     "execution_count": 6,
     "metadata": {},
     "output_type": "execute_result"
    }
   ],
   "source": [
    "df_test.isna().mean()"
   ]
  },
  {
   "cell_type": "code",
   "execution_count": 7,
   "metadata": {
    "scrolled": true
   },
   "outputs": [
    {
     "name": "stdout",
     "output_type": "stream",
     "text": [
      "<class 'pandas.core.frame.DataFrame'>\n",
      "RangeIndex: 19439 entries, 0 to 19438\n",
      "Data columns (total 87 columns):\n",
      " #   Column                                              Non-Null Count  Dtype  \n",
      "---  ------                                              --------------  -----  \n",
      " 0   date                                                19439 non-null  object \n",
      " 1   final.output.concentrate_ag                         19438 non-null  float64\n",
      " 2   final.output.concentrate_pb                         19438 non-null  float64\n",
      " 3   final.output.concentrate_sol                        19228 non-null  float64\n",
      " 4   final.output.concentrate_au                         19439 non-null  float64\n",
      " 5   final.output.recovery                               19439 non-null  float64\n",
      " 6   final.output.tail_ag                                19438 non-null  float64\n",
      " 7   final.output.tail_pb                                19338 non-null  float64\n",
      " 8   final.output.tail_sol                               19433 non-null  float64\n",
      " 9   final.output.tail_au                                19439 non-null  float64\n",
      " 10  primary_cleaner.input.sulfate                       19415 non-null  float64\n",
      " 11  primary_cleaner.input.depressant                    19402 non-null  float64\n",
      " 12  primary_cleaner.input.feed_size                     19439 non-null  float64\n",
      " 13  primary_cleaner.input.xanthate                      19335 non-null  float64\n",
      " 14  primary_cleaner.output.concentrate_ag               19439 non-null  float64\n",
      " 15  primary_cleaner.output.concentrate_pb               19323 non-null  float64\n",
      " 16  primary_cleaner.output.concentrate_sol              19069 non-null  float64\n",
      " 17  primary_cleaner.output.concentrate_au               19439 non-null  float64\n",
      " 18  primary_cleaner.output.tail_ag                      19435 non-null  float64\n",
      " 19  primary_cleaner.output.tail_pb                      19418 non-null  float64\n",
      " 20  primary_cleaner.output.tail_sol                     19377 non-null  float64\n",
      " 21  primary_cleaner.output.tail_au                      19439 non-null  float64\n",
      " 22  primary_cleaner.state.floatbank8_a_air              19435 non-null  float64\n",
      " 23  primary_cleaner.state.floatbank8_a_level            19438 non-null  float64\n",
      " 24  primary_cleaner.state.floatbank8_b_air              19435 non-null  float64\n",
      " 25  primary_cleaner.state.floatbank8_b_level            19438 non-null  float64\n",
      " 26  primary_cleaner.state.floatbank8_c_air              19437 non-null  float64\n",
      " 27  primary_cleaner.state.floatbank8_c_level            19438 non-null  float64\n",
      " 28  primary_cleaner.state.floatbank8_d_air              19436 non-null  float64\n",
      " 29  primary_cleaner.state.floatbank8_d_level            19438 non-null  float64\n",
      " 30  rougher.calculation.sulfate_to_au_concentrate       19437 non-null  float64\n",
      " 31  rougher.calculation.floatbank10_sulfate_to_au_feed  19437 non-null  float64\n",
      " 32  rougher.calculation.floatbank11_sulfate_to_au_feed  19437 non-null  float64\n",
      " 33  rougher.calculation.au_pb_ratio                     19439 non-null  float64\n",
      " 34  rougher.input.feed_ag                               19439 non-null  float64\n",
      " 35  rougher.input.feed_pb                               19339 non-null  float64\n",
      " 36  rougher.input.feed_rate                             19428 non-null  float64\n",
      " 37  rougher.input.feed_size                             19294 non-null  float64\n",
      " 38  rougher.input.feed_sol                              19340 non-null  float64\n",
      " 39  rougher.input.feed_au                               19439 non-null  float64\n",
      " 40  rougher.input.floatbank10_sulfate                   19405 non-null  float64\n",
      " 41  rougher.input.floatbank10_xanthate                  19431 non-null  float64\n",
      " 42  rougher.input.floatbank11_sulfate                   19395 non-null  float64\n",
      " 43  rougher.input.floatbank11_xanthate                  18986 non-null  float64\n",
      " 44  rougher.output.concentrate_ag                       19439 non-null  float64\n",
      " 45  rougher.output.concentrate_pb                       19439 non-null  float64\n",
      " 46  rougher.output.concentrate_sol                      19416 non-null  float64\n",
      " 47  rougher.output.concentrate_au                       19439 non-null  float64\n",
      " 48  rougher.output.recovery                             19439 non-null  float64\n",
      " 49  rougher.output.tail_ag                              19438 non-null  float64\n",
      " 50  rougher.output.tail_pb                              19439 non-null  float64\n",
      " 51  rougher.output.tail_sol                             19439 non-null  float64\n",
      " 52  rougher.output.tail_au                              19439 non-null  float64\n",
      " 53  rougher.state.floatbank10_a_air                     19438 non-null  float64\n",
      " 54  rougher.state.floatbank10_a_level                   19438 non-null  float64\n",
      " 55  rougher.state.floatbank10_b_air                     19438 non-null  float64\n",
      " 56  rougher.state.floatbank10_b_level                   19438 non-null  float64\n",
      " 57  rougher.state.floatbank10_c_air                     19438 non-null  float64\n",
      " 58  rougher.state.floatbank10_c_level                   19438 non-null  float64\n",
      " 59  rougher.state.floatbank10_d_air                     19439 non-null  float64\n",
      " 60  rougher.state.floatbank10_d_level                   19439 non-null  float64\n",
      " 61  rougher.state.floatbank10_e_air                     19003 non-null  float64\n",
      " 62  rougher.state.floatbank10_e_level                   19439 non-null  float64\n",
      " 63  rougher.state.floatbank10_f_air                     19439 non-null  float64\n",
      " 64  rougher.state.floatbank10_f_level                   19439 non-null  float64\n",
      " 65  secondary_cleaner.output.tail_ag                    19437 non-null  float64\n",
      " 66  secondary_cleaner.output.tail_pb                    19427 non-null  float64\n",
      " 67  secondary_cleaner.output.tail_sol                   17691 non-null  float64\n",
      " 68  secondary_cleaner.output.tail_au                    19439 non-null  float64\n",
      " 69  secondary_cleaner.state.floatbank2_a_air            19219 non-null  float64\n",
      " 70  secondary_cleaner.state.floatbank2_a_level          19438 non-null  float64\n",
      " 71  secondary_cleaner.state.floatbank2_b_air            19416 non-null  float64\n",
      " 72  secondary_cleaner.state.floatbank2_b_level          19438 non-null  float64\n",
      " 73  secondary_cleaner.state.floatbank3_a_air            19426 non-null  float64\n",
      " 74  secondary_cleaner.state.floatbank3_a_level          19438 non-null  float64\n",
      " 75  secondary_cleaner.state.floatbank3_b_air            19438 non-null  float64\n",
      " 76  secondary_cleaner.state.floatbank3_b_level          19438 non-null  float64\n",
      " 77  secondary_cleaner.state.floatbank4_a_air            19433 non-null  float64\n",
      " 78  secondary_cleaner.state.floatbank4_a_level          19438 non-null  float64\n",
      " 79  secondary_cleaner.state.floatbank4_b_air            19438 non-null  float64\n",
      " 80  secondary_cleaner.state.floatbank4_b_level          19438 non-null  float64\n",
      " 81  secondary_cleaner.state.floatbank5_a_air            19438 non-null  float64\n",
      " 82  secondary_cleaner.state.floatbank5_a_level          19438 non-null  float64\n",
      " 83  secondary_cleaner.state.floatbank5_b_air            19438 non-null  float64\n",
      " 84  secondary_cleaner.state.floatbank5_b_level          19438 non-null  float64\n",
      " 85  secondary_cleaner.state.floatbank6_a_air            19437 non-null  float64\n",
      " 86  secondary_cleaner.state.floatbank6_a_level          19438 non-null  float64\n",
      "dtypes: float64(86), object(1)\n",
      "memory usage: 12.9+ MB\n"
     ]
    }
   ],
   "source": [
    "df_full.info()"
   ]
  },
  {
   "cell_type": "markdown",
   "metadata": {},
   "source": [
    "Много пропущенных значений, по условию задачи соседние по времени параметры часто похожи. Заменим недостающие значения на соседние"
   ]
  },
  {
   "cell_type": "code",
   "execution_count": 8,
   "metadata": {},
   "outputs": [
    {
     "name": "stdout",
     "output_type": "stream",
     "text": [
      "0\n",
      "0\n",
      "0\n"
     ]
    }
   ],
   "source": [
    "df_train = df_train.fillna(method='ffill')\n",
    "df_test = df_test.fillna(method='ffill')\n",
    "df_full = df_full.fillna(method='ffill')\n",
    "print(df_train.isna().sum().sum())\n",
    "print(df_test.isna().sum().sum())\n",
    "print(df_full.isna().sum().sum())"
   ]
  },
  {
   "cell_type": "markdown",
   "metadata": {},
   "source": [
    "Готово. Далее проверим, что эффективность обогащения рассчитана правильно."
   ]
  },
  {
   "cell_type": "code",
   "execution_count": 9,
   "metadata": {},
   "outputs": [
    {
     "name": "stdout",
     "output_type": "stream",
     "text": [
      "MAE составило 9.73512347450521e-15\n"
     ]
    }
   ],
   "source": [
    "df_train['mae_recovery'] = (df_train['rougher.output.concentrate_au'] * (df_train['rougher.input.feed_au']-\n",
    "    df_train['rougher.output.tail_au'])) / (df_train['rougher.input.feed_au']*(df_train['rougher.output.concentrate_au']-\n",
    "  df_train['rougher.output.tail_au'])) * 100\n",
    "print('MAE составило', mean_absolute_error(df_train['rougher.output.recovery'], df_train['mae_recovery']))"
   ]
  },
  {
   "cell_type": "markdown",
   "metadata": {},
   "source": [
    "Достаточно низкий показатель, значит recovery рассчитан верно"
   ]
  },
  {
   "cell_type": "markdown",
   "metadata": {},
   "source": [
    "При обзоре данных мы заметили, что в тестовой выборке отсутсвует часть признаков. Для тестирования модели необходимо наличие всех признаков обучающей выборки, посмотрим каких параметров не хватает"
   ]
  },
  {
   "cell_type": "code",
   "execution_count": 10,
   "metadata": {},
   "outputs": [
    {
     "data": {
      "text/plain": [
       "{'final.output.concentrate_ag',\n",
       " 'final.output.concentrate_au',\n",
       " 'final.output.concentrate_pb',\n",
       " 'final.output.concentrate_sol',\n",
       " 'final.output.recovery',\n",
       " 'final.output.tail_ag',\n",
       " 'final.output.tail_au',\n",
       " 'final.output.tail_pb',\n",
       " 'final.output.tail_sol',\n",
       " 'mae_recovery',\n",
       " 'primary_cleaner.output.concentrate_ag',\n",
       " 'primary_cleaner.output.concentrate_au',\n",
       " 'primary_cleaner.output.concentrate_pb',\n",
       " 'primary_cleaner.output.concentrate_sol',\n",
       " 'primary_cleaner.output.tail_ag',\n",
       " 'primary_cleaner.output.tail_au',\n",
       " 'primary_cleaner.output.tail_pb',\n",
       " 'primary_cleaner.output.tail_sol',\n",
       " 'rougher.calculation.au_pb_ratio',\n",
       " 'rougher.calculation.floatbank10_sulfate_to_au_feed',\n",
       " 'rougher.calculation.floatbank11_sulfate_to_au_feed',\n",
       " 'rougher.calculation.sulfate_to_au_concentrate',\n",
       " 'rougher.output.concentrate_ag',\n",
       " 'rougher.output.concentrate_au',\n",
       " 'rougher.output.concentrate_pb',\n",
       " 'rougher.output.concentrate_sol',\n",
       " 'rougher.output.recovery',\n",
       " 'rougher.output.tail_ag',\n",
       " 'rougher.output.tail_au',\n",
       " 'rougher.output.tail_pb',\n",
       " 'rougher.output.tail_sol',\n",
       " 'secondary_cleaner.output.tail_ag',\n",
       " 'secondary_cleaner.output.tail_au',\n",
       " 'secondary_cleaner.output.tail_pb',\n",
       " 'secondary_cleaner.output.tail_sol'}"
      ]
     },
     "metadata": {},
     "output_type": "display_data"
    }
   ],
   "source": [
    "display(set(df_train.columns) - set(df_test.columns))"
   ]
  },
  {
   "cell_type": "markdown",
   "metadata": {},
   "source": [
    "В тестовой выборке не хватает тех признаков которые не могут быть посчитаны до получения финальных сплавов. Из обучающей выборки их нужно удалить, кроме  final.output.recovery, rougher.output.recovery, эти признаки добавим в тестовую выборку"
   ]
  },
  {
   "cell_type": "markdown",
   "metadata": {},
   "source": [
    "### Предобработка данных"
   ]
  },
  {
   "cell_type": "markdown",
   "metadata": {},
   "source": [
    "Пропуски мы уже заполнили осталось добавить недостающие столбцы в тестовую выборку"
   ]
  },
  {
   "cell_type": "code",
   "execution_count": 11,
   "metadata": {},
   "outputs": [
    {
     "name": "stdout",
     "output_type": "stream",
     "text": [
      "date\n",
      "2016-09-01 00:59:59    70.273583\n",
      "2016-09-01 01:59:59    68.910432\n",
      "2016-09-01 02:59:59    68.143213\n",
      "2016-09-01 03:59:59    67.776393\n",
      "2016-09-01 04:59:59    61.467078\n",
      "Name: final.output.recovery, dtype: float64\n",
      "date\n",
      "2016-01-15 00:00:00    70.541216\n",
      "2016-01-15 01:00:00    69.266198\n",
      "2016-01-15 02:00:00    68.116445\n",
      "2016-01-15 03:00:00    68.347543\n",
      "2016-01-15 04:00:00    66.927016\n",
      "Name: final.output.recovery, dtype: float64\n"
     ]
    }
   ],
   "source": [
    "df_full = df_full.set_index('date')\n",
    "df_test = df_test.set_index('date')\n",
    "df_test['final.output.recovery'] = df_full['final.output.recovery']\n",
    "df_test['rougher.output.recovery'] = df_full['rougher.output.recovery']\n",
    "print(df_test['final.output.recovery'].head())\n",
    "print(df_full['final.output.recovery'].head())"
   ]
  },
  {
   "cell_type": "code",
   "execution_count": 12,
   "metadata": {},
   "outputs": [
    {
     "name": "stdout",
     "output_type": "stream",
     "text": [
      "0\n",
      "0\n",
      "0\n"
     ]
    }
   ],
   "source": [
    "print(df_train.duplicated().sum())\n",
    "print(df_test.duplicated().sum())\n",
    "print(df_full.duplicated().sum())"
   ]
  },
  {
   "cell_type": "markdown",
   "metadata": {},
   "source": [
    "Столбцы недостающие в тестовой выборке удалим перед обучением модели, в процессе анализа они нам еще понадобятся. "
   ]
  },
  {
   "cell_type": "markdown",
   "metadata": {},
   "source": [
    "## Анализ данных"
   ]
  },
  {
   "cell_type": "markdown",
   "metadata": {},
   "source": [
    "Проанализируем как меняется концентрация металлов на разных этапах очистки, для этого построим графики для каждого металла"
   ]
  },
  {
   "cell_type": "code",
   "execution_count": 13,
   "metadata": {},
   "outputs": [
    {
     "data": {
      "image/png": "[encoded data removed]",
      "text/plain": [
       "<Figure size 720x432 with 1 Axes>"
      ]
     },
     "metadata": {
      "needs_background": "light"
     },
     "output_type": "display_data"
    }
   ],
   "source": [
    "fig = plt.figure(figsize=(10,6))\n",
    "sns.distplot(df_train['rougher.output.concentrate_au'])\n",
    "sns.distplot(df_train['primary_cleaner.output.concentrate_au'])\n",
    "sns.distplot(df_train['final.output.concentrate_au'])\n",
    "plt.title('Концентрация Au на разных этапах очистки')\n",
    "plt.legend(labels=['Флотация','Первичная очистка', 'Финальные характеристики'])\n",
    "plt.show()"
   ]
  },
  {
   "cell_type": "code",
   "execution_count": 14,
   "metadata": {},
   "outputs": [
    {
     "data": {
      "image/png": "[encoded data removed]",
      "text/plain": [
       "<Figure size 720x432 with 1 Axes>"
      ]
     },
     "metadata": {
      "needs_background": "light"
     },
     "output_type": "display_data"
    }
   ],
   "source": [
    "fig = plt.figure(figsize=(10,6))\n",
    "sns.distplot(df_train['rougher.output.concentrate_ag'])\n",
    "sns.distplot(df_train['primary_cleaner.output.concentrate_ag'])\n",
    "sns.distplot(df_train['final.output.concentrate_ag'])\n",
    "plt.title('Концентрация Ag на разных этапах очистки')\n",
    "plt.legend(labels=['Флотация','Первичная очистка', 'Финальные характеристики'])\n",
    "plt.show()"
   ]
  },
  {
   "cell_type": "code",
   "execution_count": 15,
   "metadata": {},
   "outputs": [
    {
     "data": {
      "image/png": "[encoded data removed]",
      "text/plain": [
       "<Figure size 720x432 with 1 Axes>"
      ]
     },
     "metadata": {
      "needs_background": "light"
     },
     "output_type": "display_data"
    }
   ],
   "source": [
    "fig = plt.figure(figsize=(10,6))\n",
    "sns.distplot(df_train['rougher.output.concentrate_pb'])\n",
    "sns.distplot(df_train['primary_cleaner.output.concentrate_pb'])\n",
    "sns.distplot(df_train['final.output.concentrate_pb'])\n",
    "plt.title('Концентрация Pb на разных этапах очистки')\n",
    "plt.legend(labels=['Флотация','Первичная очистка', 'Финальные характеристики'])\n",
    "plt.show()"
   ]
  },
  {
   "cell_type": "markdown",
   "metadata": {},
   "source": [
    "Конценртация золота и свинца на этапе флотации и финальном этапе выше чем после первичной очистки, концентрация серебра на каждом этапе снижается. На всех графиках наблюдается аномальное значение около 0."
   ]
  },
  {
   "cell_type": "markdown",
   "metadata": {},
   "source": [
    " Сравним распределения размеров гранул сырья на обучающей и тестовой выборках"
   ]
  },
  {
   "cell_type": "code",
   "execution_count": 16,
   "metadata": {},
   "outputs": [
    {
     "data": {
      "image/png": "[encoded data removed]",
      "text/plain": [
       "<Figure size 720x432 with 1 Axes>"
      ]
     },
     "metadata": {
      "needs_background": "light"
     },
     "output_type": "display_data"
    }
   ],
   "source": [
    "fig = plt.figure(figsize=(10,6))\n",
    "sns.distplot(df_test['rougher.input.feed_size'])\n",
    "sns.distplot(df_train['rougher.input.feed_size'])\n",
    "plt.title('Распределение размера гранул на стадии флотации')\n",
    "plt.legend(labels=['Размер гранул в тестовой выборке','Размер гранул в обучающей выборке'])\n",
    "plt.show()"
   ]
  },
  {
   "cell_type": "code",
   "execution_count": 17,
   "metadata": {},
   "outputs": [
    {
     "data": {
      "image/png": "[encoded data removed]",
      "text/plain": [
       "<Figure size 720x432 with 1 Axes>"
      ]
     },
     "metadata": {
      "needs_background": "light"
     },
     "output_type": "display_data"
    }
   ],
   "source": [
    "fig = plt.figure(figsize=(10,6))\n",
    "sns.distplot(df_test['primary_cleaner.input.feed_size'])\n",
    "sns.distplot(df_train['primary_cleaner.input.feed_size'])\n",
    "plt.title('Распределение размера гранул на стадии флотации')\n",
    "plt.xlabel('Размер гранул')\n",
    "plt.legend(labels=['Размер гранул в тестовой выборке','Размер гранул в обучающей выборке'])\n",
    "plt.show()"
   ]
  },
  {
   "cell_type": "markdown",
   "metadata": {},
   "source": [
    "На графиках видно, что распределения размеров гранул сырья на тестовой и обучающей выборках не имеют значительных отличий."
   ]
  },
  {
   "cell_type": "markdown",
   "metadata": {},
   "source": [
    " Исследуем суммарную концентрацию всех веществ на разных стадиях"
   ]
  },
  {
   "cell_type": "code",
   "execution_count": 18,
   "metadata": {},
   "outputs": [
    {
     "data": {
      "image/png": "[encoded data removed]",
      "text/plain": [
       "<Figure size 720x432 with 1 Axes>"
      ]
     },
     "metadata": {
      "needs_background": "light"
     },
     "output_type": "display_data"
    }
   ],
   "source": [
    "sum_rougher = (df_train['rougher.input.feed_ag'] + df_train['rougher.input.feed_pb'] + df_train['rougher.input.feed_sol'] + df_train['rougher.input.feed_au'])\n",
    "sum_primary = (df_train['rougher.output.concentrate_ag'] + df_train['rougher.output.concentrate_pb'] + df_train['rougher.output.concentrate_sol'] + df_train['rougher.output.concentrate_au'])\n",
    "sum_final = (df_train['final.output.concentrate_ag'] + df_train['final.output.concentrate_pb'] + df_train['final.output.concentrate_sol'] + df_train['final.output.concentrate_au'])\n",
    "fig = plt.figure(figsize=(10,6))\n",
    "sns.distplot(sum_rougher)\n",
    "sns.distplot(sum_primary)\n",
    "sns.distplot(sum_final)\n",
    "plt.legend(labels=['сырье','черновой','финальный'])\n",
    "plt.title('Суммарная концентрация всех веществ на разных стадиях')\n",
    "plt.show()"
   ]
  },
  {
   "cell_type": "markdown",
   "metadata": {},
   "source": [
    "Значение концентраций веществ на начальном этапе меньше чем после флотаций и в финальном концентраций . В финальном этапе распределение стремится к нормальному, что свиделтсвует о работе технологического процесса. "
   ]
  },
  {
   "cell_type": "markdown",
   "metadata": {},
   "source": [
    "Готово!"
   ]
  },
  {
   "cell_type": "markdown",
   "metadata": {},
   "source": [
    "## Модель"
   ]
  },
  {
   "cell_type": "markdown",
   "metadata": {},
   "source": [
    "Функция для вычисления итоговой sMAPE"
   ]
  },
  {
   "cell_type": "code",
   "execution_count": 19,
   "metadata": {},
   "outputs": [],
   "source": [
    "def smape (target, predictions):\n",
    "    numerator = abs(predictions - target)\n",
    "    denominator = (abs(target) + abs(predictions)) / 2\n",
    "    summa = (numerator / denominator).sum()\n",
    "    smape = (1 / len(target)) * summa * 100\n",
    "    return smape"
   ]
  },
  {
   "cell_type": "code",
   "execution_count": 20,
   "metadata": {},
   "outputs": [],
   "source": [
    "def fin_smape(target, predictions):\n",
    "    return .25 * smape(target[:, 0], predictions[:,0]) + .75 * smape(target[:, 1], predictions[:, 1])"
   ]
  },
  {
   "cell_type": "markdown",
   "metadata": {},
   "source": [
    "Готово!"
   ]
  },
  {
   "cell_type": "markdown",
   "metadata": {},
   "source": [
    "Удалим столбец с датой"
   ]
  },
  {
   "cell_type": "code",
   "execution_count": 21,
   "metadata": {},
   "outputs": [],
   "source": [
    "df_train = df_train.drop(set(df_train.columns) - set(df_test.columns), axis=1)"
   ]
  },
  {
   "cell_type": "markdown",
   "metadata": {},
   "source": [
    "Необходимо обучить разные модели и оценить их качество кросс-валидацией"
   ]
  },
  {
   "cell_type": "code",
   "execution_count": 22,
   "metadata": {},
   "outputs": [],
   "source": [
    "features_train = df_train.drop(['rougher.output.recovery','final.output.recovery'], axis=1)\n",
    "target_train = df_train[['rougher.output.recovery','final.output.recovery']]\n",
    "features_test = df_test.drop(['rougher.output.recovery','final.output.recovery'], axis=1)\n",
    "target_test = df_test[['rougher.output.recovery','final.output.recovery']]"
   ]
  },
  {
   "cell_type": "markdown",
   "metadata": {},
   "source": [
    "Проведем масштабирование"
   ]
  },
  {
   "cell_type": "code",
   "execution_count": 23,
   "metadata": {},
   "outputs": [],
   "source": [
    "ss = StandardScaler()\n",
    "features_train = ss.fit_transform(features_train)\n",
    "features_test = ss.transform(features_test)\n",
    "target_train = np.array(target_train)\n",
    "target_test = np.array(target_test)"
   ]
  },
  {
   "cell_type": "markdown",
   "metadata": {},
   "source": [
    "Обучение моделей"
   ]
  },
  {
   "cell_type": "code",
   "execution_count": 24,
   "metadata": {},
   "outputs": [
    {
     "name": "stdout",
     "output_type": "stream",
     "text": [
      "-12.38459610484721\n"
     ]
    }
   ],
   "source": [
    "smape_score = make_scorer(fin_smape,greater_is_better = False)\n",
    "model = LinearRegression()\n",
    "smape_lr = cross_val_score(model, features_train, target_train, cv=5, scoring=smape_score).mean()\n",
    "print(smape_lr)"
   ]
  },
  {
   "cell_type": "code",
   "execution_count": 67,
   "metadata": {},
   "outputs": [
    {
     "name": "stdout",
     "output_type": "stream",
     "text": [
      "-12.33643684371671\n",
      "{'n_estimators': 30}\n"
     ]
    }
   ],
   "source": [
    "model = RandomForestRegressor(random_state=12345)\n",
    "parametrs = {'n_estimators': range (30,50,70)}\n",
    "\n",
    "gr_model = GridSearchCV(model, parametrs, cv=5, n_jobs=-1, scoring=smape_score)\n",
    "gr_model.fit(features_train, target_train)\n",
    "\n",
    "print(gr_model.best_score_)\n",
    "print(gr_model.best_params_)"
   ]
  },
  {
   "cell_type": "code",
   "execution_count": 25,
   "metadata": {},
   "outputs": [
    {
     "name": "stdout",
     "output_type": "stream",
     "text": [
      "-11.008386560119696\n",
      "{'max_depth': 4}\n"
     ]
    }
   ],
   "source": [
    "model =DecisionTreeRegressor(random_state=12345)\n",
    "parametrs = {'max_depth': range(4, 7, 10)}\n",
    "\n",
    "gr_model = GridSearchCV(model, parametrs, cv=5, n_jobs=-1, scoring=smape_score)\n",
    "gr_model.fit(features_train, target_train)\n",
    "\n",
    "print(gr_model.best_score_)\n",
    "print(gr_model.best_params_)"
   ]
  },
  {
   "cell_type": "markdown",
   "metadata": {},
   "source": [
    "Лучший показатель у модели Дерево решений"
   ]
  },
  {
   "cell_type": "markdown",
   "metadata": {},
   "source": [
    "Проверим лучшую модель на тестовой выборке"
   ]
  },
  {
   "cell_type": "code",
   "execution_count": 26,
   "metadata": {},
   "outputs": [
    {
     "name": "stdout",
     "output_type": "stream",
     "text": [
      "9.770087850011732\n"
     ]
    }
   ],
   "source": [
    "model =DecisionTreeRegressor(random_state=12345, max_depth=4)\n",
    "model.fit(features_train, target_train)\n",
    "pred_test = model.predict(features_test)\n",
    "print(fin_smape(target_test, pred_test))"
   ]
  },
  {
   "cell_type": "code",
   "execution_count": 27,
   "metadata": {},
   "outputs": [
    {
     "name": "stdout",
     "output_type": "stream",
     "text": [
      "10.289630376021035\n"
     ]
    }
   ],
   "source": [
    "dummy_mod = DummyRegressor(strategy='mean')\n",
    "dummy_mod.fit(features_train,target_train)\n",
    "pred = dummy_mod.predict(features_test)\n",
    "print(fin_smape(target_test, pred))"
   ]
  },
  {
   "cell_type": "markdown",
   "metadata": {},
   "source": [
    "Готово!"
   ]
  },
  {
   "cell_type": "markdown",
   "metadata": {},
   "source": [
    "## Вывод"
   ]
  },
  {
   "cell_type": "markdown",
   "metadata": {},
   "source": [
    "Перед нами стояла задача построить модель которая должна предсказать коэффициент восстановления золота из золотосодержащей руды. Для этого были выполнены следующие задания:\n",
    "1. Провели обзор полученных данных и проверили, что эффективность обогащения рассчитана правильно\n",
    "2. Проанализировали тестовую и обучающую выборки, обнаружили недостающие признаки в тесте и добавили их\n",
    "4. Проанализировали данные и приступили к обучению модели\n",
    "5. Обучили 3 разные модели и оценили их качество кросс-валидацией, лучший результат показала модель Дерево решений"
   ]
  }
 ],
 "metadata": {
  "ExecuteTimeLog": [
   {
    "duration": 17103,
    "start_time": "2022-09-09T10:09:35.783Z"
   },
   {
    "duration": 185,
    "start_time": "2022-09-09T10:13:39.174Z"
   },
   {
    "duration": 76,
    "start_time": "2022-09-09T10:14:36.778Z"
   },
   {
    "duration": 16,
    "start_time": "2022-09-09T10:15:14.178Z"
   },
   {
    "duration": 53,
    "start_time": "2022-09-09T10:15:17.962Z"
   },
   {
    "duration": 47,
    "start_time": "2022-09-09T10:20:26.618Z"
   },
   {
    "duration": 55,
    "start_time": "2022-09-09T10:34:15.434Z"
   },
   {
    "duration": 37,
    "start_time": "2022-09-09T10:35:08.169Z"
   },
   {
    "duration": 49,
    "start_time": "2022-09-09T10:37:28.316Z"
   },
   {
    "duration": 835,
    "start_time": "2022-09-09T10:37:43.889Z"
   },
   {
    "duration": 2504,
    "start_time": "2022-09-09T10:37:51.248Z"
   },
   {
    "duration": 51,
    "start_time": "2022-09-09T11:11:00.496Z"
   },
   {
    "duration": 6,
    "start_time": "2022-09-09T11:11:01.331Z"
   },
   {
    "duration": 5630,
    "start_time": "2022-09-09T11:11:07.127Z"
   },
   {
    "duration": 2987,
    "start_time": "2022-09-09T11:11:12.759Z"
   },
   {
    "duration": 5573,
    "start_time": "2022-09-09T11:42:20.217Z"
   },
   {
    "duration": 3026,
    "start_time": "2022-09-09T11:42:25.792Z"
   },
   {
    "duration": 1186,
    "start_time": "2022-09-09T12:05:20.226Z"
   },
   {
    "duration": 2992,
    "start_time": "2022-09-09T12:05:22.418Z"
   },
   {
    "duration": 17,
    "start_time": "2022-09-09T12:05:50.758Z"
   },
   {
    "duration": 102,
    "start_time": "2022-09-09T12:07:05.428Z"
   },
   {
    "duration": 23,
    "start_time": "2022-09-09T12:07:31.975Z"
   },
   {
    "duration": 14,
    "start_time": "2022-09-09T12:13:51.280Z"
   },
   {
    "duration": 10,
    "start_time": "2022-09-09T12:14:06.961Z"
   },
   {
    "duration": 10,
    "start_time": "2022-09-09T12:14:20.910Z"
   },
   {
    "duration": 14,
    "start_time": "2022-09-09T12:16:23.633Z"
   },
   {
    "duration": 17,
    "start_time": "2022-09-09T12:16:46.809Z"
   },
   {
    "duration": 8,
    "start_time": "2022-09-09T12:17:03.494Z"
   },
   {
    "duration": 10,
    "start_time": "2022-09-09T14:20:27.350Z"
   },
   {
    "duration": 12,
    "start_time": "2022-09-09T14:20:45.137Z"
   },
   {
    "duration": 8,
    "start_time": "2022-09-09T14:21:18.390Z"
   },
   {
    "duration": 16,
    "start_time": "2022-09-09T14:21:41.865Z"
   },
   {
    "duration": 15,
    "start_time": "2022-09-09T14:46:07.477Z"
   },
   {
    "duration": 11,
    "start_time": "2022-09-09T14:46:14.865Z"
   },
   {
    "duration": 24,
    "start_time": "2022-09-09T14:46:49.827Z"
   },
   {
    "duration": 12,
    "start_time": "2022-09-09T14:47:04.060Z"
   },
   {
    "duration": 16,
    "start_time": "2022-09-09T14:47:25.265Z"
   },
   {
    "duration": 17,
    "start_time": "2022-09-09T14:47:42.328Z"
   },
   {
    "duration": 23,
    "start_time": "2022-09-09T14:48:08.775Z"
   },
   {
    "duration": 11,
    "start_time": "2022-09-09T14:48:18.456Z"
   },
   {
    "duration": 1009,
    "start_time": "2022-09-11T11:47:59.571Z"
   },
   {
    "duration": 2861,
    "start_time": "2022-09-11T11:48:00.582Z"
   },
   {
    "duration": 17,
    "start_time": "2022-09-11T11:48:03.445Z"
   },
   {
    "duration": 14,
    "start_time": "2022-09-11T11:48:03.464Z"
   },
   {
    "duration": 12,
    "start_time": "2022-09-11T11:48:03.479Z"
   },
   {
    "duration": 9,
    "start_time": "2022-09-11T11:48:03.492Z"
   },
   {
    "duration": 17,
    "start_time": "2022-09-11T11:48:04.331Z"
   },
   {
    "duration": 21,
    "start_time": "2022-09-11T11:48:06.077Z"
   },
   {
    "duration": 6,
    "start_time": "2022-09-11T11:59:18.300Z"
   },
   {
    "duration": 107,
    "start_time": "2022-09-11T12:00:32.393Z"
   },
   {
    "duration": 7,
    "start_time": "2022-09-11T12:00:43.527Z"
   },
   {
    "duration": 8,
    "start_time": "2022-09-11T12:00:59.691Z"
   },
   {
    "duration": 3,
    "start_time": "2022-09-11T12:25:29.394Z"
   },
   {
    "duration": 5,
    "start_time": "2022-09-11T12:25:48.654Z"
   },
   {
    "duration": 43,
    "start_time": "2022-09-11T12:35:44.586Z"
   },
   {
    "duration": 32,
    "start_time": "2022-09-11T12:36:29.306Z"
   },
   {
    "duration": 27,
    "start_time": "2022-09-11T12:36:36.059Z"
   },
   {
    "duration": 34,
    "start_time": "2022-09-11T12:36:42.834Z"
   },
   {
    "duration": 8,
    "start_time": "2022-09-11T12:39:22.192Z"
   },
   {
    "duration": 27,
    "start_time": "2022-09-11T14:50:16.704Z"
   },
   {
    "duration": 5,
    "start_time": "2022-09-11T14:54:16.607Z"
   },
   {
    "duration": 1042,
    "start_time": "2022-09-13T11:59:12.309Z"
   },
   {
    "duration": 3447,
    "start_time": "2022-09-13T11:59:13.353Z"
   },
   {
    "duration": 16,
    "start_time": "2022-09-13T11:59:16.802Z"
   },
   {
    "duration": 12,
    "start_time": "2022-09-13T11:59:16.820Z"
   },
   {
    "duration": 11,
    "start_time": "2022-09-13T11:59:16.834Z"
   },
   {
    "duration": 10,
    "start_time": "2022-09-13T11:59:16.989Z"
   },
   {
    "duration": 17,
    "start_time": "2022-09-13T11:59:17.736Z"
   },
   {
    "duration": 36,
    "start_time": "2022-09-13T11:59:19.432Z"
   },
   {
    "duration": 12,
    "start_time": "2022-09-13T11:59:20.836Z"
   },
   {
    "duration": 4,
    "start_time": "2022-09-13T11:59:22.883Z"
   },
   {
    "duration": 5,
    "start_time": "2022-09-13T11:59:25.483Z"
   },
   {
    "duration": 93,
    "start_time": "2022-09-13T12:50:49.121Z"
   },
   {
    "duration": 462,
    "start_time": "2022-09-13T12:51:52.000Z"
   },
   {
    "duration": 1128,
    "start_time": "2022-09-13T12:51:52.597Z"
   },
   {
    "duration": 1223,
    "start_time": "2022-09-13T12:57:13.024Z"
   },
   {
    "duration": 1208,
    "start_time": "2022-09-13T12:57:43.703Z"
   },
   {
    "duration": 1232,
    "start_time": "2022-09-13T12:58:08.507Z"
   },
   {
    "duration": 1119,
    "start_time": "2022-09-13T12:58:18.206Z"
   },
   {
    "duration": 1129,
    "start_time": "2022-09-13T12:58:32.380Z"
   },
   {
    "duration": 1266,
    "start_time": "2022-09-13T12:58:45.166Z"
   },
   {
    "duration": 1120,
    "start_time": "2022-09-13T12:59:00.121Z"
   },
   {
    "duration": 1154,
    "start_time": "2022-09-13T12:59:12.777Z"
   },
   {
    "duration": 1165,
    "start_time": "2022-09-13T13:00:04.195Z"
   },
   {
    "duration": 1026,
    "start_time": "2022-09-13T13:00:39.106Z"
   },
   {
    "duration": 1055,
    "start_time": "2022-09-13T13:01:14.074Z"
   },
   {
    "duration": 1228,
    "start_time": "2022-09-13T13:03:09.800Z"
   },
   {
    "duration": 1042,
    "start_time": "2022-09-13T13:03:23.061Z"
   },
   {
    "duration": 1112,
    "start_time": "2022-09-13T13:03:42.109Z"
   },
   {
    "duration": 550,
    "start_time": "2022-09-13T14:13:24.392Z"
   },
   {
    "duration": 700,
    "start_time": "2022-09-13T14:13:30.454Z"
   },
   {
    "duration": 631,
    "start_time": "2022-09-13T14:15:29.342Z"
   },
   {
    "duration": 589,
    "start_time": "2022-09-13T14:15:37.570Z"
   },
   {
    "duration": 1326,
    "start_time": "2022-09-14T12:35:38.633Z"
   },
   {
    "duration": 4582,
    "start_time": "2022-09-14T12:35:44.097Z"
   },
   {
    "duration": 19,
    "start_time": "2022-09-14T12:35:48.683Z"
   },
   {
    "duration": 17,
    "start_time": "2022-09-14T12:35:48.704Z"
   },
   {
    "duration": 35,
    "start_time": "2022-09-14T12:35:48.725Z"
   },
   {
    "duration": 8,
    "start_time": "2022-09-14T12:35:48.762Z"
   },
   {
    "duration": 27,
    "start_time": "2022-09-14T12:35:48.982Z"
   },
   {
    "duration": 48,
    "start_time": "2022-09-14T12:35:50.393Z"
   },
   {
    "duration": 13,
    "start_time": "2022-09-14T12:35:52.243Z"
   },
   {
    "duration": 4,
    "start_time": "2022-09-14T12:35:54.491Z"
   },
   {
    "duration": 6,
    "start_time": "2022-09-14T12:35:57.379Z"
   },
   {
    "duration": 688,
    "start_time": "2022-09-14T12:36:01.241Z"
   },
   {
    "duration": 1137,
    "start_time": "2022-09-14T12:36:02.044Z"
   },
   {
    "duration": 3,
    "start_time": "2022-09-14T12:36:30.670Z"
   },
   {
    "duration": 841,
    "start_time": "2022-09-14T12:36:33.382Z"
   },
   {
    "duration": 121,
    "start_time": "2022-09-14T12:36:34.226Z"
   },
   {
    "duration": 13,
    "start_time": "2022-09-14T12:36:34.656Z"
   },
   {
    "duration": 19,
    "start_time": "2022-09-14T12:36:35.346Z"
   },
   {
    "duration": 10,
    "start_time": "2022-09-14T12:36:35.900Z"
   },
   {
    "duration": 17,
    "start_time": "2022-09-14T12:36:36.547Z"
   },
   {
    "duration": 47,
    "start_time": "2022-09-14T12:36:37.682Z"
   },
   {
    "duration": 12,
    "start_time": "2022-09-14T12:36:39.043Z"
   },
   {
    "duration": 5,
    "start_time": "2022-09-14T12:36:40.761Z"
   },
   {
    "duration": 7,
    "start_time": "2022-09-14T12:36:43.445Z"
   },
   {
    "duration": 1156,
    "start_time": "2022-09-14T12:36:47.236Z"
   },
   {
    "duration": 1021,
    "start_time": "2022-09-14T12:36:49.533Z"
   },
   {
    "duration": 1017,
    "start_time": "2022-09-14T12:36:50.846Z"
   },
   {
    "duration": 745,
    "start_time": "2022-09-14T12:36:52.143Z"
   },
   {
    "duration": 718,
    "start_time": "2022-09-14T12:36:52.891Z"
   },
   {
    "duration": 4,
    "start_time": "2022-09-14T12:38:27.017Z"
   },
   {
    "duration": 1079,
    "start_time": "2022-09-14T12:38:38.628Z"
   },
   {
    "duration": 993,
    "start_time": "2022-09-14T12:38:45.038Z"
   },
   {
    "duration": 1196,
    "start_time": "2022-09-14T12:38:52.592Z"
   },
   {
    "duration": 775,
    "start_time": "2022-09-14T12:38:58.665Z"
   },
   {
    "duration": 728,
    "start_time": "2022-09-14T12:39:12.158Z"
   },
   {
    "duration": 66,
    "start_time": "2022-09-14T12:48:06.630Z"
   },
   {
    "duration": 1653,
    "start_time": "2022-09-14T12:48:30.151Z"
   },
   {
    "duration": 4,
    "start_time": "2022-09-14T12:49:02.839Z"
   },
   {
    "duration": 1501,
    "start_time": "2022-09-14T12:49:09.273Z"
   },
   {
    "duration": 2815,
    "start_time": "2022-09-14T12:53:57.838Z"
   },
   {
    "duration": 2404,
    "start_time": "2022-09-14T12:54:06.635Z"
   },
   {
    "duration": 1986,
    "start_time": "2022-09-14T12:55:54.789Z"
   },
   {
    "duration": 229,
    "start_time": "2022-09-14T12:56:21.391Z"
   },
   {
    "duration": 204,
    "start_time": "2022-09-14T12:59:35.070Z"
   },
   {
    "duration": 156,
    "start_time": "2022-09-14T13:17:37.802Z"
   },
   {
    "duration": 162,
    "start_time": "2022-09-14T13:19:14.997Z"
   },
   {
    "duration": 261,
    "start_time": "2022-09-14T13:21:23.598Z"
   },
   {
    "duration": 217,
    "start_time": "2022-09-14T13:22:06.415Z"
   },
   {
    "duration": 151,
    "start_time": "2022-09-14T13:22:28.748Z"
   },
   {
    "duration": 25,
    "start_time": "2022-09-14T13:31:08.749Z"
   },
   {
    "duration": 180,
    "start_time": "2022-09-14T13:31:14.488Z"
   },
   {
    "duration": 171,
    "start_time": "2022-09-14T14:07:11.055Z"
   },
   {
    "duration": 54,
    "start_time": "2022-09-14T14:09:34.756Z"
   },
   {
    "duration": 183,
    "start_time": "2022-09-14T14:09:43.591Z"
   },
   {
    "duration": 1089,
    "start_time": "2022-09-14T14:13:15.550Z"
   },
   {
    "duration": 257,
    "start_time": "2022-09-14T14:13:44.414Z"
   },
   {
    "duration": 219,
    "start_time": "2022-09-14T14:14:24.028Z"
   },
   {
    "duration": 263,
    "start_time": "2022-09-14T14:14:33.753Z"
   },
   {
    "duration": 3,
    "start_time": "2022-09-14T14:23:15.918Z"
   },
   {
    "duration": 3,
    "start_time": "2022-09-14T14:23:23.172Z"
   },
   {
    "duration": 3,
    "start_time": "2022-09-14T14:25:38.191Z"
   },
   {
    "duration": 3,
    "start_time": "2022-09-14T16:41:40.452Z"
   },
   {
    "duration": 6,
    "start_time": "2022-09-14T16:45:20.590Z"
   },
   {
    "duration": 7,
    "start_time": "2022-09-14T16:49:50.838Z"
   },
   {
    "duration": 773,
    "start_time": "2022-09-14T16:59:20.224Z"
   },
   {
    "duration": 1064,
    "start_time": "2022-09-14T16:59:29.513Z"
   },
   {
    "duration": 1226,
    "start_time": "2022-09-14T16:59:40.463Z"
   },
   {
    "duration": 16,
    "start_time": "2022-09-14T17:00:02.706Z"
   },
   {
    "duration": 7,
    "start_time": "2022-09-14T17:01:11.085Z"
   },
   {
    "duration": 7,
    "start_time": "2022-09-14T17:06:44.829Z"
   },
   {
    "duration": 7,
    "start_time": "2022-09-14T17:06:47.771Z"
   },
   {
    "duration": 1491,
    "start_time": "2022-09-16T20:56:05.635Z"
   },
   {
    "duration": 1833,
    "start_time": "2022-09-16T20:56:07.566Z"
   },
   {
    "duration": 17,
    "start_time": "2022-09-16T20:56:11.656Z"
   },
   {
    "duration": 11,
    "start_time": "2022-09-16T20:56:12.499Z"
   },
   {
    "duration": 13,
    "start_time": "2022-09-16T20:56:13.289Z"
   },
   {
    "duration": 6,
    "start_time": "2022-09-16T20:56:14.019Z"
   },
   {
    "duration": 17,
    "start_time": "2022-09-16T20:56:14.933Z"
   },
   {
    "duration": 35,
    "start_time": "2022-09-16T20:56:16.596Z"
   },
   {
    "duration": 11,
    "start_time": "2022-09-16T20:56:18.082Z"
   },
   {
    "duration": 4,
    "start_time": "2022-09-16T20:56:20.565Z"
   },
   {
    "duration": 6,
    "start_time": "2022-09-16T20:56:23.868Z"
   },
   {
    "duration": 1048,
    "start_time": "2022-09-16T21:11:07.460Z"
   },
   {
    "duration": 1205,
    "start_time": "2022-09-16T21:11:57.100Z"
   },
   {
    "duration": 1015,
    "start_time": "2022-09-16T21:12:19.177Z"
   },
   {
    "duration": 626,
    "start_time": "2022-09-16T21:55:40.301Z"
   },
   {
    "duration": 608,
    "start_time": "2022-09-16T21:55:41.260Z"
   },
   {
    "duration": 225,
    "start_time": "2022-09-16T22:00:56.736Z"
   },
   {
    "duration": 1937,
    "start_time": "2022-09-17T15:50:01.950Z"
   },
   {
    "duration": 4566,
    "start_time": "2022-09-17T15:50:03.889Z"
   },
   {
    "duration": 18,
    "start_time": "2022-09-17T15:50:08.457Z"
   },
   {
    "duration": 11,
    "start_time": "2022-09-17T15:50:08.477Z"
   },
   {
    "duration": 11,
    "start_time": "2022-09-17T15:50:08.490Z"
   },
   {
    "duration": 22,
    "start_time": "2022-09-17T15:50:08.503Z"
   },
   {
    "duration": 49,
    "start_time": "2022-09-17T15:50:08.526Z"
   },
   {
    "duration": 49,
    "start_time": "2022-09-17T15:50:08.576Z"
   },
   {
    "duration": 11,
    "start_time": "2022-09-17T15:50:12.447Z"
   },
   {
    "duration": 4,
    "start_time": "2022-09-17T15:50:15.283Z"
   },
   {
    "duration": 16,
    "start_time": "2022-09-17T15:50:18.137Z"
   },
   {
    "duration": 1272,
    "start_time": "2022-09-17T15:50:35.978Z"
   },
   {
    "duration": 1157,
    "start_time": "2022-09-17T15:50:37.747Z"
   },
   {
    "duration": 1262,
    "start_time": "2022-09-17T15:50:38.906Z"
   },
   {
    "duration": 700,
    "start_time": "2022-09-17T15:57:28.573Z"
   },
   {
    "duration": 745,
    "start_time": "2022-09-17T15:57:29.531Z"
   },
   {
    "duration": 300,
    "start_time": "2022-09-17T15:57:41.762Z"
   },
   {
    "duration": 43,
    "start_time": "2022-09-17T16:05:27.996Z"
   },
   {
    "duration": 50,
    "start_time": "2022-09-17T16:14:50.729Z"
   },
   {
    "duration": 3,
    "start_time": "2022-09-17T16:26:14.430Z"
   },
   {
    "duration": 230,
    "start_time": "2022-09-17T16:36:53.214Z"
   },
   {
    "duration": 8,
    "start_time": "2022-09-17T16:40:12.467Z"
   },
   {
    "duration": 5,
    "start_time": "2022-09-17T16:40:18.522Z"
   },
   {
    "duration": 5,
    "start_time": "2022-09-17T16:40:20.274Z"
   },
   {
    "duration": 36,
    "start_time": "2022-09-17T16:40:21.160Z"
   },
   {
    "duration": 12,
    "start_time": "2022-09-17T16:40:44.442Z"
   },
   {
    "duration": 6,
    "start_time": "2022-09-17T16:40:45.097Z"
   },
   {
    "duration": 3,
    "start_time": "2022-09-17T16:40:50.642Z"
   },
   {
    "duration": 12,
    "start_time": "2022-09-17T16:40:52.482Z"
   },
   {
    "duration": 8,
    "start_time": "2022-09-17T16:40:54.073Z"
   },
   {
    "duration": 33,
    "start_time": "2022-09-17T16:40:54.840Z"
   },
   {
    "duration": 6,
    "start_time": "2022-09-17T16:41:12.524Z"
   },
   {
    "duration": 716,
    "start_time": "2022-09-17T16:41:13.166Z"
   },
   {
    "duration": 27,
    "start_time": "2022-09-17T16:41:13.884Z"
   },
   {
    "duration": 10,
    "start_time": "2022-09-17T16:41:14.136Z"
   },
   {
    "duration": 13,
    "start_time": "2022-09-17T16:41:14.530Z"
   },
   {
    "duration": 7,
    "start_time": "2022-09-17T16:41:14.639Z"
   },
   {
    "duration": 103,
    "start_time": "2022-09-17T16:41:14.950Z"
   },
   {
    "duration": 8,
    "start_time": "2022-09-17T16:41:15.462Z"
   },
   {
    "duration": 15,
    "start_time": "2022-09-17T16:41:15.755Z"
   },
   {
    "duration": 8,
    "start_time": "2022-09-17T16:41:16.252Z"
   },
   {
    "duration": 15,
    "start_time": "2022-09-17T16:41:16.539Z"
   },
   {
    "duration": 8,
    "start_time": "2022-09-17T16:41:17.017Z"
   },
   {
    "duration": 15,
    "start_time": "2022-09-17T16:41:17.274Z"
   },
   {
    "duration": 36,
    "start_time": "2022-09-17T16:41:18.127Z"
   },
   {
    "duration": 9,
    "start_time": "2022-09-17T16:41:18.506Z"
   },
   {
    "duration": 5,
    "start_time": "2022-09-17T16:41:18.976Z"
   },
   {
    "duration": 10,
    "start_time": "2022-09-17T16:41:19.709Z"
   },
   {
    "duration": 1050,
    "start_time": "2022-09-17T16:41:21.748Z"
   },
   {
    "duration": 1031,
    "start_time": "2022-09-17T16:41:22.800Z"
   },
   {
    "duration": 1117,
    "start_time": "2022-09-17T16:41:23.833Z"
   },
   {
    "duration": 517,
    "start_time": "2022-09-17T16:41:24.952Z"
   },
   {
    "duration": 609,
    "start_time": "2022-09-17T16:41:25.471Z"
   },
   {
    "duration": 212,
    "start_time": "2022-09-17T16:41:26.082Z"
   },
   {
    "duration": 6,
    "start_time": "2022-09-17T16:41:27.363Z"
   },
   {
    "duration": 8,
    "start_time": "2022-09-17T16:41:28.682Z"
   },
   {
    "duration": 9,
    "start_time": "2022-09-17T16:41:29.722Z"
   },
   {
    "duration": 34,
    "start_time": "2022-09-17T16:41:30.564Z"
   },
   {
    "duration": 34,
    "start_time": "2022-09-17T16:55:51.723Z"
   },
   {
    "duration": 21,
    "start_time": "2022-09-17T16:56:14.081Z"
   },
   {
    "duration": 32,
    "start_time": "2022-09-17T16:56:28.683Z"
   },
   {
    "duration": 25,
    "start_time": "2022-09-17T16:57:00.398Z"
   },
   {
    "duration": 25,
    "start_time": "2022-09-17T16:57:07.636Z"
   },
   {
    "duration": 8,
    "start_time": "2022-09-17T16:59:32.361Z"
   },
   {
    "duration": 10,
    "start_time": "2022-09-17T16:59:35.168Z"
   },
   {
    "duration": 9,
    "start_time": "2022-09-17T17:20:27.990Z"
   },
   {
    "duration": 10,
    "start_time": "2022-09-17T17:21:00.634Z"
   },
   {
    "duration": 10,
    "start_time": "2022-09-17T17:21:04.092Z"
   },
   {
    "duration": 7,
    "start_time": "2022-09-17T17:21:53.828Z"
   },
   {
    "duration": 10,
    "start_time": "2022-09-17T17:21:54.364Z"
   },
   {
    "duration": 10,
    "start_time": "2022-09-17T17:22:22.341Z"
   },
   {
    "duration": 10,
    "start_time": "2022-09-17T17:22:30.786Z"
   },
   {
    "duration": 9,
    "start_time": "2022-09-17T17:22:55.134Z"
   },
   {
    "duration": 9,
    "start_time": "2022-09-17T17:23:38.682Z"
   },
   {
    "duration": 28,
    "start_time": "2022-09-17T17:23:45.707Z"
   },
   {
    "duration": 13,
    "start_time": "2022-09-17T17:24:55.335Z"
   },
   {
    "duration": 10,
    "start_time": "2022-09-17T17:24:59.983Z"
   },
   {
    "duration": 10,
    "start_time": "2022-09-17T17:29:32.352Z"
   },
   {
    "duration": 3,
    "start_time": "2022-09-17T17:30:23.766Z"
   },
   {
    "duration": 4,
    "start_time": "2022-09-17T17:31:05.072Z"
   },
   {
    "duration": 756,
    "start_time": "2022-09-17T17:31:06.849Z"
   },
   {
    "duration": 23,
    "start_time": "2022-09-17T17:31:07.613Z"
   },
   {
    "duration": 14,
    "start_time": "2022-09-17T17:31:08.160Z"
   },
   {
    "duration": 12,
    "start_time": "2022-09-17T17:31:08.778Z"
   },
   {
    "duration": 8,
    "start_time": "2022-09-17T17:31:09.377Z"
   },
   {
    "duration": 30,
    "start_time": "2022-09-17T17:31:09.840Z"
   },
   {
    "duration": 28,
    "start_time": "2022-09-17T17:31:10.338Z"
   },
   {
    "duration": 9,
    "start_time": "2022-09-17T17:31:10.756Z"
   },
   {
    "duration": 4,
    "start_time": "2022-09-17T17:31:12.243Z"
   },
   {
    "duration": 6,
    "start_time": "2022-09-17T17:31:14.344Z"
   },
   {
    "duration": 1078,
    "start_time": "2022-09-17T17:31:16.078Z"
   },
   {
    "duration": 1004,
    "start_time": "2022-09-17T17:31:17.158Z"
   },
   {
    "duration": 1129,
    "start_time": "2022-09-17T17:31:18.164Z"
   },
   {
    "duration": 573,
    "start_time": "2022-09-17T17:31:19.295Z"
   },
   {
    "duration": 674,
    "start_time": "2022-09-17T17:31:19.870Z"
   },
   {
    "duration": 235,
    "start_time": "2022-09-17T17:31:20.546Z"
   },
   {
    "duration": 4,
    "start_time": "2022-09-17T17:31:20.783Z"
   },
   {
    "duration": 12,
    "start_time": "2022-09-17T17:31:20.790Z"
   },
   {
    "duration": 24,
    "start_time": "2022-09-17T17:31:20.811Z"
   },
   {
    "duration": 20,
    "start_time": "2022-09-17T17:31:43.743Z"
   },
   {
    "duration": 11,
    "start_time": "2022-09-17T17:31:58.267Z"
   },
   {
    "duration": 10,
    "start_time": "2022-09-17T17:34:37.137Z"
   },
   {
    "duration": 16,
    "start_time": "2022-09-17T17:35:13.479Z"
   },
   {
    "duration": 201,
    "start_time": "2022-09-17T17:37:05.335Z"
   },
   {
    "duration": 10,
    "start_time": "2022-09-17T17:43:32.493Z"
   },
   {
    "duration": 22,
    "start_time": "2022-09-17T17:46:13.444Z"
   },
   {
    "duration": 17,
    "start_time": "2022-09-17T17:46:45.729Z"
   },
   {
    "duration": 13,
    "start_time": "2022-09-17T17:47:07.234Z"
   },
   {
    "duration": 4,
    "start_time": "2022-09-17T17:47:10.434Z"
   },
   {
    "duration": 13,
    "start_time": "2022-09-17T17:47:11.457Z"
   },
   {
    "duration": 4,
    "start_time": "2022-09-17T17:47:34.602Z"
   },
   {
    "duration": 720,
    "start_time": "2022-09-17T17:47:35.159Z"
   },
   {
    "duration": 16,
    "start_time": "2022-09-17T17:47:35.881Z"
   },
   {
    "duration": 10,
    "start_time": "2022-09-17T17:47:35.933Z"
   },
   {
    "duration": 13,
    "start_time": "2022-09-17T17:47:36.254Z"
   },
   {
    "duration": 8,
    "start_time": "2022-09-17T17:47:36.644Z"
   },
   {
    "duration": 19,
    "start_time": "2022-09-17T17:47:36.881Z"
   },
   {
    "duration": 31,
    "start_time": "2022-09-17T17:47:37.240Z"
   },
   {
    "duration": 9,
    "start_time": "2022-09-17T17:47:37.768Z"
   },
   {
    "duration": 5,
    "start_time": "2022-09-17T17:47:38.233Z"
   },
   {
    "duration": 5,
    "start_time": "2022-09-17T17:47:38.962Z"
   },
   {
    "duration": 1041,
    "start_time": "2022-09-17T17:47:40.108Z"
   },
   {
    "duration": 1085,
    "start_time": "2022-09-17T17:47:41.151Z"
   },
   {
    "duration": 1022,
    "start_time": "2022-09-17T17:47:42.238Z"
   },
   {
    "duration": 522,
    "start_time": "2022-09-17T17:47:43.262Z"
   },
   {
    "duration": 610,
    "start_time": "2022-09-17T17:47:43.786Z"
   },
   {
    "duration": 217,
    "start_time": "2022-09-17T17:47:44.398Z"
   },
   {
    "duration": 15,
    "start_time": "2022-09-17T17:47:44.617Z"
   },
   {
    "duration": 11,
    "start_time": "2022-09-17T17:47:44.634Z"
   },
   {
    "duration": 2,
    "start_time": "2022-09-17T17:47:44.647Z"
   },
   {
    "duration": 20,
    "start_time": "2022-09-17T17:47:44.651Z"
   },
   {
    "duration": 12,
    "start_time": "2022-09-17T17:47:44.673Z"
   },
   {
    "duration": 12,
    "start_time": "2022-09-17T17:48:32.982Z"
   },
   {
    "duration": 12,
    "start_time": "2022-09-17T17:49:40.190Z"
   },
   {
    "duration": 7,
    "start_time": "2022-09-17T17:50:40.732Z"
   },
   {
    "duration": 14,
    "start_time": "2022-09-17T17:51:39.972Z"
   },
   {
    "duration": 11,
    "start_time": "2022-09-17T17:52:09.543Z"
   },
   {
    "duration": 4,
    "start_time": "2022-09-17T17:52:31.678Z"
   },
   {
    "duration": 4,
    "start_time": "2022-09-17T17:52:50.465Z"
   },
   {
    "duration": 966,
    "start_time": "2022-09-17T17:53:03.378Z"
   },
   {
    "duration": 3,
    "start_time": "2022-09-17T17:54:24.938Z"
   },
   {
    "duration": 984,
    "start_time": "2022-09-17T17:54:26.335Z"
   },
   {
    "duration": 3,
    "start_time": "2022-09-17T17:54:55.668Z"
   },
   {
    "duration": 973,
    "start_time": "2022-09-17T17:54:57.358Z"
   },
   {
    "duration": 6,
    "start_time": "2022-09-17T17:55:31.847Z"
   },
   {
    "duration": 37,
    "start_time": "2022-09-17T17:56:21.590Z"
   },
   {
    "duration": 3,
    "start_time": "2022-09-17T17:56:34.436Z"
   },
   {
    "duration": 3,
    "start_time": "2022-09-17T17:56:35.273Z"
   },
   {
    "duration": 7,
    "start_time": "2022-09-17T17:56:57.008Z"
   },
   {
    "duration": 564,
    "start_time": "2022-09-17T17:56:58.278Z"
   },
   {
    "duration": 1549,
    "start_time": "2022-09-18T15:05:12.273Z"
   },
   {
    "duration": 3392,
    "start_time": "2022-09-18T15:05:13.824Z"
   },
   {
    "duration": 20,
    "start_time": "2022-09-18T15:05:17.219Z"
   },
   {
    "duration": 12,
    "start_time": "2022-09-18T15:05:17.240Z"
   },
   {
    "duration": 13,
    "start_time": "2022-09-18T15:05:17.253Z"
   },
   {
    "duration": 7,
    "start_time": "2022-09-18T15:05:17.267Z"
   },
   {
    "duration": 18,
    "start_time": "2022-09-18T15:05:19.277Z"
   },
   {
    "duration": 39,
    "start_time": "2022-09-18T15:05:20.906Z"
   },
   {
    "duration": 11,
    "start_time": "2022-09-18T15:05:24.559Z"
   },
   {
    "duration": 4,
    "start_time": "2022-09-18T15:05:31.767Z"
   },
   {
    "duration": 10,
    "start_time": "2022-09-18T15:06:04.382Z"
   },
   {
    "duration": 4,
    "start_time": "2022-09-18T15:06:07.611Z"
   },
   {
    "duration": 5,
    "start_time": "2022-09-18T15:06:23.859Z"
   },
   {
    "duration": 1159,
    "start_time": "2022-09-18T15:06:26.155Z"
   },
   {
    "duration": 1071,
    "start_time": "2022-09-18T15:06:27.315Z"
   },
   {
    "duration": 1123,
    "start_time": "2022-09-18T15:06:29.855Z"
   },
   {
    "duration": 206,
    "start_time": "2022-09-18T15:09:29.702Z"
   },
   {
    "duration": 3,
    "start_time": "2022-09-18T15:09:51.207Z"
   },
   {
    "duration": 4,
    "start_time": "2022-09-18T15:11:54.287Z"
   },
   {
    "duration": 5,
    "start_time": "2022-09-18T15:16:40.174Z"
   },
   {
    "duration": 715,
    "start_time": "2022-09-18T15:16:40.351Z"
   },
   {
    "duration": 19,
    "start_time": "2022-09-18T15:16:41.069Z"
   },
   {
    "duration": 12,
    "start_time": "2022-09-18T15:16:43.023Z"
   },
   {
    "duration": 16,
    "start_time": "2022-09-18T15:16:43.150Z"
   },
   {
    "duration": 8,
    "start_time": "2022-09-18T15:16:46.875Z"
   },
   {
    "duration": 16,
    "start_time": "2022-09-18T15:16:47.346Z"
   },
   {
    "duration": 45,
    "start_time": "2022-09-18T15:16:49.474Z"
   },
   {
    "duration": 14,
    "start_time": "2022-09-18T15:16:51.394Z"
   },
   {
    "duration": 5,
    "start_time": "2022-09-18T15:16:54.447Z"
   },
   {
    "duration": 11,
    "start_time": "2022-09-18T15:18:23.293Z"
   },
   {
    "duration": 115,
    "start_time": "2022-09-18T15:19:51.561Z"
   },
   {
    "duration": 15,
    "start_time": "2022-09-18T15:19:59.013Z"
   },
   {
    "duration": 12,
    "start_time": "2022-09-18T15:20:06.984Z"
   },
   {
    "duration": 18,
    "start_time": "2022-09-18T15:20:15.316Z"
   },
   {
    "duration": 4,
    "start_time": "2022-09-18T15:20:49.276Z"
   },
   {
    "duration": 736,
    "start_time": "2022-09-18T15:20:50.993Z"
   },
   {
    "duration": 16,
    "start_time": "2022-09-18T15:20:54.708Z"
   },
   {
    "duration": 10,
    "start_time": "2022-09-18T15:20:55.546Z"
   },
   {
    "duration": 17,
    "start_time": "2022-09-18T15:20:56.308Z"
   },
   {
    "duration": 9,
    "start_time": "2022-09-18T15:20:59.173Z"
   },
   {
    "duration": 18,
    "start_time": "2022-09-18T15:20:59.300Z"
   },
   {
    "duration": 33,
    "start_time": "2022-09-18T15:21:00.891Z"
   },
   {
    "duration": 9,
    "start_time": "2022-09-18T15:21:02.270Z"
   },
   {
    "duration": 5,
    "start_time": "2022-09-18T15:21:04.368Z"
   },
   {
    "duration": 6,
    "start_time": "2022-09-18T15:21:07.150Z"
   },
   {
    "duration": 1149,
    "start_time": "2022-09-18T15:21:11.450Z"
   },
   {
    "duration": 1290,
    "start_time": "2022-09-18T15:21:12.601Z"
   },
   {
    "duration": 1091,
    "start_time": "2022-09-18T15:21:14.274Z"
   },
   {
    "duration": 578,
    "start_time": "2022-09-18T15:21:15.367Z"
   },
   {
    "duration": 751,
    "start_time": "2022-09-18T15:21:15.948Z"
   },
   {
    "duration": 217,
    "start_time": "2022-09-18T15:21:18.494Z"
   },
   {
    "duration": 3,
    "start_time": "2022-09-18T15:21:22.298Z"
   },
   {
    "duration": 14,
    "start_time": "2022-09-18T15:21:23.897Z"
   },
   {
    "duration": 18,
    "start_time": "2022-09-18T15:21:50.849Z"
   },
   {
    "duration": 4,
    "start_time": "2022-09-18T15:22:04.576Z"
   },
   {
    "duration": 674,
    "start_time": "2022-09-18T15:22:05.643Z"
   },
   {
    "duration": 19,
    "start_time": "2022-09-18T15:22:06.449Z"
   },
   {
    "duration": 9,
    "start_time": "2022-09-18T15:22:07.249Z"
   },
   {
    "duration": 16,
    "start_time": "2022-09-18T15:22:07.884Z"
   },
   {
    "duration": 8,
    "start_time": "2022-09-18T15:22:09.548Z"
   },
   {
    "duration": 18,
    "start_time": "2022-09-18T15:22:10.955Z"
   },
   {
    "duration": 31,
    "start_time": "2022-09-18T15:22:12.151Z"
   },
   {
    "duration": 10,
    "start_time": "2022-09-18T15:22:13.584Z"
   },
   {
    "duration": 4,
    "start_time": "2022-09-18T15:22:15.549Z"
   },
   {
    "duration": 5,
    "start_time": "2022-09-18T15:22:18.202Z"
   },
   {
    "duration": 1164,
    "start_time": "2022-09-18T15:22:19.008Z"
   },
   {
    "duration": 987,
    "start_time": "2022-09-18T15:22:20.173Z"
   },
   {
    "duration": 1127,
    "start_time": "2022-09-18T15:22:21.161Z"
   },
   {
    "duration": 563,
    "start_time": "2022-09-18T15:22:22.289Z"
   },
   {
    "duration": 560,
    "start_time": "2022-09-18T15:22:22.854Z"
   },
   {
    "duration": 318,
    "start_time": "2022-09-18T15:22:23.416Z"
   },
   {
    "duration": 4,
    "start_time": "2022-09-18T15:22:23.735Z"
   },
   {
    "duration": 18,
    "start_time": "2022-09-18T15:22:24.850Z"
   },
   {
    "duration": 13,
    "start_time": "2022-09-18T15:22:52.443Z"
   },
   {
    "duration": 4,
    "start_time": "2022-09-18T15:23:12.003Z"
   },
   {
    "duration": 630,
    "start_time": "2022-09-18T15:23:12.769Z"
   },
   {
    "duration": 22,
    "start_time": "2022-09-18T15:23:13.585Z"
   },
   {
    "duration": 11,
    "start_time": "2022-09-18T15:23:14.305Z"
   },
   {
    "duration": 11,
    "start_time": "2022-09-18T15:23:15.049Z"
   },
   {
    "duration": 7,
    "start_time": "2022-09-18T15:23:15.739Z"
   },
   {
    "duration": 18,
    "start_time": "2022-09-18T15:23:16.485Z"
   },
   {
    "duration": 35,
    "start_time": "2022-09-18T15:23:17.956Z"
   },
   {
    "duration": 11,
    "start_time": "2022-09-18T15:23:19.326Z"
   },
   {
    "duration": 5,
    "start_time": "2022-09-18T15:23:21.354Z"
   },
   {
    "duration": 5,
    "start_time": "2022-09-18T15:23:23.939Z"
   },
   {
    "duration": 1032,
    "start_time": "2022-09-18T15:23:27.445Z"
   },
   {
    "duration": 1221,
    "start_time": "2022-09-18T15:23:28.480Z"
   },
   {
    "duration": 1065,
    "start_time": "2022-09-18T15:23:29.702Z"
   },
   {
    "duration": 631,
    "start_time": "2022-09-18T15:23:30.780Z"
   },
   {
    "duration": 563,
    "start_time": "2022-09-18T15:23:31.466Z"
   },
   {
    "duration": 267,
    "start_time": "2022-09-18T15:23:33.380Z"
   },
   {
    "duration": 5,
    "start_time": "2022-09-18T15:23:35.997Z"
   },
   {
    "duration": 13,
    "start_time": "2022-09-18T15:23:38.547Z"
   },
   {
    "duration": 3,
    "start_time": "2022-09-18T15:24:55.293Z"
   },
   {
    "duration": 714,
    "start_time": "2022-09-18T15:24:55.848Z"
   },
   {
    "duration": 16,
    "start_time": "2022-09-18T15:24:56.564Z"
   },
   {
    "duration": 9,
    "start_time": "2022-09-18T15:24:56.582Z"
   },
   {
    "duration": 12,
    "start_time": "2022-09-18T15:24:56.593Z"
   },
   {
    "duration": 7,
    "start_time": "2022-09-18T15:24:56.959Z"
   },
   {
    "duration": 24,
    "start_time": "2022-09-18T15:24:57.492Z"
   },
   {
    "duration": 35,
    "start_time": "2022-09-18T15:24:58.890Z"
   },
   {
    "duration": 12,
    "start_time": "2022-09-18T15:25:00.167Z"
   },
   {
    "duration": 14,
    "start_time": "2022-09-18T15:25:27.958Z"
   },
   {
    "duration": 6,
    "start_time": "2022-09-18T15:25:44.882Z"
   },
   {
    "duration": 22,
    "start_time": "2022-09-18T15:25:47.311Z"
   },
   {
    "duration": 1119,
    "start_time": "2022-09-18T15:25:50.589Z"
   },
   {
    "duration": 1284,
    "start_time": "2022-09-18T15:25:51.709Z"
   },
   {
    "duration": 1411,
    "start_time": "2022-09-18T15:25:52.995Z"
   },
   {
    "duration": 615,
    "start_time": "2022-09-18T15:25:54.408Z"
   },
   {
    "duration": 659,
    "start_time": "2022-09-18T15:25:55.025Z"
   },
   {
    "duration": 251,
    "start_time": "2022-09-18T15:25:55.691Z"
   },
   {
    "duration": 6,
    "start_time": "2022-09-18T15:25:57.731Z"
   },
   {
    "duration": 10,
    "start_time": "2022-09-18T15:26:18.951Z"
   },
   {
    "duration": 10,
    "start_time": "2022-09-18T15:36:02.172Z"
   },
   {
    "duration": 12,
    "start_time": "2022-09-18T15:36:28.780Z"
   },
   {
    "duration": 4,
    "start_time": "2022-09-18T15:37:15.084Z"
   },
   {
    "duration": 12,
    "start_time": "2022-09-18T15:37:22.994Z"
   },
   {
    "duration": 13,
    "start_time": "2022-09-18T15:47:26.862Z"
   },
   {
    "duration": 5,
    "start_time": "2022-09-18T15:47:39.751Z"
   },
   {
    "duration": 101,
    "start_time": "2022-09-18T15:47:40.876Z"
   },
   {
    "duration": 15,
    "start_time": "2022-09-18T15:49:18.344Z"
   },
   {
    "duration": 101,
    "start_time": "2022-09-18T15:49:48.673Z"
   },
   {
    "duration": 118,
    "start_time": "2022-09-18T15:51:03.160Z"
   },
   {
    "duration": 104,
    "start_time": "2022-09-18T15:51:57.138Z"
   },
   {
    "duration": 116,
    "start_time": "2022-09-18T15:53:33.279Z"
   },
   {
    "duration": 123,
    "start_time": "2022-09-18T16:42:13.990Z"
   },
   {
    "duration": 100,
    "start_time": "2022-09-18T16:52:43.479Z"
   },
   {
    "duration": 6,
    "start_time": "2022-09-18T17:08:57.417Z"
   },
   {
    "duration": 6,
    "start_time": "2022-09-18T17:09:25.907Z"
   },
   {
    "duration": 10,
    "start_time": "2022-09-18T17:10:00.165Z"
   },
   {
    "duration": 3,
    "start_time": "2022-09-18T17:11:23.201Z"
   },
   {
    "duration": 13,
    "start_time": "2022-09-18T17:12:45.141Z"
   },
   {
    "duration": 958,
    "start_time": "2022-09-18T17:13:47.319Z"
   },
   {
    "duration": 4,
    "start_time": "2022-09-18T17:14:46.198Z"
   },
   {
    "duration": 16,
    "start_time": "2022-09-18T17:14:52.773Z"
   },
   {
    "duration": 6,
    "start_time": "2022-09-18T17:15:00.691Z"
   },
   {
    "duration": 2993,
    "start_time": "2022-09-18T17:15:01.333Z"
   },
   {
    "duration": 1636,
    "start_time": "2022-09-18T17:16:53.217Z"
   },
   {
    "duration": 1558,
    "start_time": "2022-09-18T17:17:41.090Z"
   },
   {
    "duration": 1447,
    "start_time": "2022-09-18T17:23:46.416Z"
   },
   {
    "duration": 11,
    "start_time": "2022-09-18T17:24:33.742Z"
   },
   {
    "duration": 11,
    "start_time": "2022-09-18T17:25:24.153Z"
   },
   {
    "duration": 10,
    "start_time": "2022-09-18T17:25:48.842Z"
   },
   {
    "duration": 1470,
    "start_time": "2022-09-18T17:27:24.980Z"
   },
   {
    "duration": 9,
    "start_time": "2022-09-18T17:28:40.742Z"
   },
   {
    "duration": 5444,
    "start_time": "2022-09-18T17:30:11.554Z"
   },
   {
    "duration": 5916,
    "start_time": "2022-09-18T17:31:42.675Z"
   },
   {
    "duration": 26,
    "start_time": "2022-09-18T17:48:51.145Z"
   },
   {
    "duration": 4,
    "start_time": "2022-09-18T17:49:21.919Z"
   },
   {
    "duration": 14,
    "start_time": "2022-09-18T17:50:02.148Z"
   },
   {
    "duration": 13,
    "start_time": "2022-09-18T17:50:57.518Z"
   },
   {
    "duration": 4,
    "start_time": "2022-09-18T17:51:04.007Z"
   },
   {
    "duration": 682,
    "start_time": "2022-09-18T17:51:04.539Z"
   },
   {
    "duration": 31,
    "start_time": "2022-09-18T17:51:05.224Z"
   },
   {
    "duration": 11,
    "start_time": "2022-09-18T17:51:05.547Z"
   },
   {
    "duration": 16,
    "start_time": "2022-09-18T17:51:05.999Z"
   },
   {
    "duration": 7,
    "start_time": "2022-09-18T17:51:06.759Z"
   },
   {
    "duration": 18,
    "start_time": "2022-09-18T17:51:07.249Z"
   },
   {
    "duration": 32,
    "start_time": "2022-09-18T17:51:08.298Z"
   },
   {
    "duration": 12,
    "start_time": "2022-09-18T17:51:09.344Z"
   },
   {
    "duration": 5,
    "start_time": "2022-09-18T17:51:10.144Z"
   },
   {
    "duration": 5,
    "start_time": "2022-09-18T17:51:10.893Z"
   },
   {
    "duration": 1277,
    "start_time": "2022-09-18T17:51:12.018Z"
   },
   {
    "duration": 1075,
    "start_time": "2022-09-18T17:51:13.297Z"
   },
   {
    "duration": 1059,
    "start_time": "2022-09-18T17:51:14.374Z"
   },
   {
    "duration": 589,
    "start_time": "2022-09-18T17:51:15.436Z"
   },
   {
    "duration": 659,
    "start_time": "2022-09-18T17:51:16.027Z"
   },
   {
    "duration": 228,
    "start_time": "2022-09-18T17:51:16.688Z"
   },
   {
    "duration": 4,
    "start_time": "2022-09-18T17:51:16.918Z"
   },
   {
    "duration": 27,
    "start_time": "2022-09-18T17:51:16.924Z"
   },
   {
    "duration": 33,
    "start_time": "2022-09-18T17:51:16.953Z"
   },
   {
    "duration": 4,
    "start_time": "2022-09-18T17:52:00.886Z"
   },
   {
    "duration": 618,
    "start_time": "2022-09-18T17:52:01.513Z"
   },
   {
    "duration": 137,
    "start_time": "2022-09-18T17:52:02.148Z"
   },
   {
    "duration": 9,
    "start_time": "2022-09-18T17:52:02.636Z"
   },
   {
    "duration": 12,
    "start_time": "2022-09-18T17:52:03.282Z"
   },
   {
    "duration": 8,
    "start_time": "2022-09-18T17:52:03.787Z"
   },
   {
    "duration": 17,
    "start_time": "2022-09-18T17:52:04.301Z"
   },
   {
    "duration": 34,
    "start_time": "2022-09-18T17:52:05.157Z"
   },
   {
    "duration": 12,
    "start_time": "2022-09-18T17:52:06.009Z"
   },
   {
    "duration": 5,
    "start_time": "2022-09-18T17:52:06.987Z"
   },
   {
    "duration": 6,
    "start_time": "2022-09-18T17:52:07.890Z"
   },
   {
    "duration": 1145,
    "start_time": "2022-09-18T17:52:09.549Z"
   },
   {
    "duration": 1230,
    "start_time": "2022-09-18T17:52:10.696Z"
   },
   {
    "duration": 1171,
    "start_time": "2022-09-18T17:52:11.927Z"
   },
   {
    "duration": 517,
    "start_time": "2022-09-18T17:52:13.100Z"
   },
   {
    "duration": 717,
    "start_time": "2022-09-18T17:52:13.619Z"
   },
   {
    "duration": 226,
    "start_time": "2022-09-18T17:52:14.337Z"
   },
   {
    "duration": 3,
    "start_time": "2022-09-18T17:52:14.566Z"
   },
   {
    "duration": 3,
    "start_time": "2022-09-18T17:52:14.992Z"
   },
   {
    "duration": 27,
    "start_time": "2022-09-18T17:52:16.651Z"
   },
   {
    "duration": 30,
    "start_time": "2022-09-18T17:52:17.207Z"
   },
   {
    "duration": 11,
    "start_time": "2022-09-18T17:53:50.383Z"
   },
   {
    "duration": 69,
    "start_time": "2022-09-18T17:54:36.248Z"
   },
   {
    "duration": 5,
    "start_time": "2022-09-18T19:14:41.699Z"
   },
   {
    "duration": 631,
    "start_time": "2022-09-18T19:14:42.453Z"
   },
   {
    "duration": 16,
    "start_time": "2022-09-18T19:14:43.197Z"
   },
   {
    "duration": 9,
    "start_time": "2022-09-18T19:14:43.944Z"
   },
   {
    "duration": 12,
    "start_time": "2022-09-18T19:14:44.691Z"
   },
   {
    "duration": 7,
    "start_time": "2022-09-18T19:14:45.289Z"
   },
   {
    "duration": 16,
    "start_time": "2022-09-18T19:14:45.954Z"
   },
   {
    "duration": 7,
    "start_time": "2022-09-18T19:14:47.055Z"
   },
   {
    "duration": 15,
    "start_time": "2022-09-18T19:14:47.498Z"
   },
   {
    "duration": 32,
    "start_time": "2022-09-18T19:14:48.647Z"
   },
   {
    "duration": 9,
    "start_time": "2022-09-18T19:14:49.903Z"
   },
   {
    "duration": 4,
    "start_time": "2022-09-18T19:14:52.215Z"
   },
   {
    "duration": 5,
    "start_time": "2022-09-18T19:14:54.949Z"
   },
   {
    "duration": 1150,
    "start_time": "2022-09-18T19:14:58.435Z"
   },
   {
    "duration": 1072,
    "start_time": "2022-09-18T19:14:59.587Z"
   },
   {
    "duration": 1217,
    "start_time": "2022-09-18T19:15:00.661Z"
   },
   {
    "duration": 525,
    "start_time": "2022-09-18T19:15:01.881Z"
   },
   {
    "duration": 607,
    "start_time": "2022-09-18T19:15:02.408Z"
   },
   {
    "duration": 206,
    "start_time": "2022-09-18T19:15:04.299Z"
   },
   {
    "duration": 3,
    "start_time": "2022-09-18T19:15:07.063Z"
   },
   {
    "duration": 2,
    "start_time": "2022-09-18T19:15:07.798Z"
   },
   {
    "duration": 28,
    "start_time": "2022-09-18T19:15:11.717Z"
   },
   {
    "duration": 28,
    "start_time": "2022-09-18T19:15:13.113Z"
   },
   {
    "duration": 10,
    "start_time": "2022-09-18T19:15:14.396Z"
   },
   {
    "duration": 47,
    "start_time": "2022-09-18T19:15:15.909Z"
   },
   {
    "duration": 6,
    "start_time": "2022-09-18T19:15:32.467Z"
   },
   {
    "duration": 22,
    "start_time": "2022-09-18T19:15:35.603Z"
   },
   {
    "duration": 14,
    "start_time": "2022-09-18T19:15:36.294Z"
   },
   {
    "duration": 11,
    "start_time": "2022-09-18T19:15:36.880Z"
   },
   {
    "duration": 47,
    "start_time": "2022-09-18T19:15:37.552Z"
   },
   {
    "duration": 3,
    "start_time": "2022-09-18T19:15:38.092Z"
   },
   {
    "duration": 11,
    "start_time": "2022-09-18T19:15:38.881Z"
   },
   {
    "duration": 4,
    "start_time": "2022-09-18T19:41:39.758Z"
   },
   {
    "duration": 1285,
    "start_time": "2022-09-18T20:58:23.262Z"
   },
   {
    "duration": 3,
    "start_time": "2022-09-18T20:59:15.114Z"
   },
   {
    "duration": 916,
    "start_time": "2022-09-18T20:59:18.135Z"
   },
   {
    "duration": 2024,
    "start_time": "2022-09-18T21:02:48.329Z"
   },
   {
    "duration": 9,
    "start_time": "2022-09-18T21:06:32.566Z"
   },
   {
    "duration": 5057,
    "start_time": "2022-09-18T21:06:42.946Z"
   },
   {
    "duration": 11150,
    "start_time": "2022-09-18T21:07:12.437Z"
   },
   {
    "duration": 5113,
    "start_time": "2022-09-18T21:07:34.073Z"
   },
   {
    "duration": 1523,
    "start_time": "2022-09-18T21:08:23.618Z"
   },
   {
    "duration": 29854,
    "start_time": "2022-09-18T21:10:04.551Z"
   },
   {
    "duration": 29631,
    "start_time": "2022-09-18T21:10:41.037Z"
   },
   {
    "duration": 23,
    "start_time": "2022-09-18T21:20:47.063Z"
   },
   {
    "duration": 25,
    "start_time": "2022-09-18T21:22:11.677Z"
   },
   {
    "duration": 21,
    "start_time": "2022-09-18T21:23:09.275Z"
   },
   {
    "duration": 2140,
    "start_time": "2022-09-19T18:42:17.985Z"
   },
   {
    "duration": 1932,
    "start_time": "2022-09-19T18:42:20.126Z"
   },
   {
    "duration": 21,
    "start_time": "2022-09-19T18:42:22.061Z"
   },
   {
    "duration": 17,
    "start_time": "2022-09-19T18:42:22.084Z"
   },
   {
    "duration": 14,
    "start_time": "2022-09-19T18:42:22.103Z"
   },
   {
    "duration": 14,
    "start_time": "2022-09-19T18:42:22.172Z"
   },
   {
    "duration": 19,
    "start_time": "2022-09-19T18:42:22.785Z"
   },
   {
    "duration": 47,
    "start_time": "2022-09-19T18:42:23.985Z"
   },
   {
    "duration": 16,
    "start_time": "2022-09-19T18:42:25.186Z"
   },
   {
    "duration": 7,
    "start_time": "2022-09-19T18:42:27.031Z"
   },
   {
    "duration": 7,
    "start_time": "2022-09-19T18:42:29.263Z"
   },
   {
    "duration": 1156,
    "start_time": "2022-09-19T18:42:33.916Z"
   },
   {
    "duration": 1295,
    "start_time": "2022-09-19T18:42:35.073Z"
   },
   {
    "duration": 1212,
    "start_time": "2022-09-19T18:42:36.369Z"
   },
   {
    "duration": 640,
    "start_time": "2022-09-19T18:42:37.583Z"
   },
   {
    "duration": 671,
    "start_time": "2022-09-19T18:42:38.225Z"
   },
   {
    "duration": 261,
    "start_time": "2022-09-19T18:42:38.897Z"
   },
   {
    "duration": 4,
    "start_time": "2022-09-19T18:42:40.660Z"
   },
   {
    "duration": 10,
    "start_time": "2022-09-19T18:42:41.261Z"
   },
   {
    "duration": 5,
    "start_time": "2022-09-19T18:45:29.936Z"
   },
   {
    "duration": 142,
    "start_time": "2022-09-19T18:45:30.774Z"
   },
   {
    "duration": 14,
    "start_time": "2022-09-19T18:50:23.515Z"
   },
   {
    "duration": 11,
    "start_time": "2022-09-19T18:57:03.666Z"
   },
   {
    "duration": 14,
    "start_time": "2022-09-19T19:01:05.126Z"
   },
   {
    "duration": 62,
    "start_time": "2022-09-19T19:01:25.903Z"
   },
   {
    "duration": 4,
    "start_time": "2022-09-19T19:01:40.674Z"
   },
   {
    "duration": 899,
    "start_time": "2022-09-19T19:01:41.454Z"
   },
   {
    "duration": 18,
    "start_time": "2022-09-19T19:01:42.354Z"
   },
   {
    "duration": 13,
    "start_time": "2022-09-19T19:01:42.822Z"
   },
   {
    "duration": 13,
    "start_time": "2022-09-19T19:01:43.505Z"
   },
   {
    "duration": 7,
    "start_time": "2022-09-19T19:01:44.206Z"
   },
   {
    "duration": 19,
    "start_time": "2022-09-19T19:01:44.836Z"
   },
   {
    "duration": 34,
    "start_time": "2022-09-19T19:01:46.088Z"
   },
   {
    "duration": 13,
    "start_time": "2022-09-19T19:01:47.420Z"
   },
   {
    "duration": 4,
    "start_time": "2022-09-19T19:01:49.370Z"
   },
   {
    "duration": 5,
    "start_time": "2022-09-19T19:01:52.120Z"
   },
   {
    "duration": 1374,
    "start_time": "2022-09-19T19:01:56.302Z"
   },
   {
    "duration": 1169,
    "start_time": "2022-09-19T19:01:57.678Z"
   },
   {
    "duration": 1101,
    "start_time": "2022-09-19T19:01:58.849Z"
   },
   {
    "duration": 622,
    "start_time": "2022-09-19T19:01:59.952Z"
   },
   {
    "duration": 731,
    "start_time": "2022-09-19T19:02:00.576Z"
   },
   {
    "duration": 231,
    "start_time": "2022-09-19T19:02:02.415Z"
   },
   {
    "duration": 4,
    "start_time": "2022-09-19T19:02:05.783Z"
   },
   {
    "duration": 9,
    "start_time": "2022-09-19T19:02:06.498Z"
   },
   {
    "duration": 10,
    "start_time": "2022-09-19T19:02:09.315Z"
   },
   {
    "duration": 35,
    "start_time": "2022-09-19T19:02:11.349Z"
   },
   {
    "duration": 31,
    "start_time": "2022-09-19T19:08:12.412Z"
   },
   {
    "duration": 10,
    "start_time": "2022-09-19T19:11:20.986Z"
   },
   {
    "duration": 11,
    "start_time": "2022-09-19T19:13:25.878Z"
   },
   {
    "duration": 4,
    "start_time": "2022-09-19T19:13:52.221Z"
   },
   {
    "duration": 1545,
    "start_time": "2022-09-19T19:14:05.757Z"
   },
   {
    "duration": 11,
    "start_time": "2022-09-19T19:22:10.867Z"
   },
   {
    "duration": 22882,
    "start_time": "2022-09-19T19:22:24.744Z"
   },
   {
    "duration": 44023,
    "start_time": "2022-09-19T19:23:14.902Z"
   },
   {
    "duration": 3,
    "start_time": "2022-09-19T19:39:48.478Z"
   },
   {
    "duration": 1848,
    "start_time": "2022-09-19T19:40:08.650Z"
   },
   {
    "duration": 43677,
    "start_time": "2022-09-19T19:40:21.495Z"
   },
   {
    "duration": 1653,
    "start_time": "2022-09-19T19:42:41.945Z"
   },
   {
    "duration": 42087,
    "start_time": "2022-09-19T19:42:49.401Z"
   },
   {
    "duration": 1807,
    "start_time": "2022-09-19T19:43:31.490Z"
   },
   {
    "duration": 8384,
    "start_time": "2022-09-19T19:43:47.293Z"
   },
   {
    "duration": 7783,
    "start_time": "2022-09-19T19:47:02.376Z"
   },
   {
    "duration": 8510,
    "start_time": "2022-09-19T19:50:05.677Z"
   },
   {
    "duration": 1847,
    "start_time": "2022-09-19T19:50:54.349Z"
   },
   {
    "duration": 8145,
    "start_time": "2022-09-19T19:50:58.186Z"
   },
   {
    "duration": 27,
    "start_time": "2022-09-19T19:52:05.844Z"
   },
   {
    "duration": 1335,
    "start_time": "2022-09-19T19:52:30.769Z"
   },
   {
    "duration": 1628,
    "start_time": "2022-09-19T19:54:43.374Z"
   },
   {
    "duration": 8400,
    "start_time": "2022-09-19T19:54:45.006Z"
   },
   {
    "duration": 1359,
    "start_time": "2022-09-19T19:54:53.407Z"
   },
   {
    "duration": 1484,
    "start_time": "2022-09-19T19:58:20.316Z"
   },
   {
    "duration": 1486,
    "start_time": "2022-09-19T19:58:30.115Z"
   },
   {
    "duration": 17023,
    "start_time": "2022-09-19T20:00:51.672Z"
   },
   {
    "duration": 16546,
    "start_time": "2022-09-19T20:01:15.085Z"
   },
   {
    "duration": 1955,
    "start_time": "2022-09-19T20:02:35.591Z"
   },
   {
    "duration": 108544,
    "start_time": "2022-09-19T20:03:19.074Z"
   },
   {
    "duration": 2620,
    "start_time": "2022-09-19T20:05:07.620Z"
   },
   {
    "duration": 137044,
    "start_time": "2022-09-19T20:05:36.813Z"
   },
   {
    "duration": 3170,
    "start_time": "2022-09-19T20:07:53.859Z"
   },
   {
    "duration": 0,
    "start_time": "2022-09-19T21:07:44.653Z"
   },
   {
    "duration": 4,
    "start_time": "2022-09-19T21:08:10.915Z"
   },
   {
    "duration": 703,
    "start_time": "2022-09-19T21:08:17.310Z"
   },
   {
    "duration": 17,
    "start_time": "2022-09-19T21:09:32.777Z"
   },
   {
    "duration": 10,
    "start_time": "2022-09-19T21:09:33.807Z"
   },
   {
    "duration": 17,
    "start_time": "2022-09-19T21:09:34.891Z"
   },
   {
    "duration": 8,
    "start_time": "2022-09-19T21:09:35.756Z"
   },
   {
    "duration": 22,
    "start_time": "2022-09-19T21:09:36.606Z"
   },
   {
    "duration": 36,
    "start_time": "2022-09-19T21:09:38.206Z"
   },
   {
    "duration": 11,
    "start_time": "2022-09-19T21:09:39.904Z"
   },
   {
    "duration": 5,
    "start_time": "2022-09-19T21:09:42.240Z"
   },
   {
    "duration": 5,
    "start_time": "2022-09-19T21:09:45.301Z"
   },
   {
    "duration": 127,
    "start_time": "2022-09-19T21:10:41.896Z"
   },
   {
    "duration": 111,
    "start_time": "2022-09-19T21:10:50.033Z"
   },
   {
    "duration": 221,
    "start_time": "2022-09-19T21:11:28.983Z"
   },
   {
    "duration": 212,
    "start_time": "2022-09-19T21:11:58.994Z"
   },
   {
    "duration": 1311,
    "start_time": "2022-09-19T21:14:09.453Z"
   },
   {
    "duration": 1175,
    "start_time": "2022-09-19T21:14:10.767Z"
   },
   {
    "duration": 1213,
    "start_time": "2022-09-19T21:14:11.944Z"
   },
   {
    "duration": 570,
    "start_time": "2022-09-19T21:14:14.687Z"
   },
   {
    "duration": 605,
    "start_time": "2022-09-19T21:14:16.436Z"
   },
   {
    "duration": 226,
    "start_time": "2022-09-19T21:14:20.396Z"
   },
   {
    "duration": 1443,
    "start_time": "2022-09-19T21:14:22.596Z"
   },
   {
    "duration": 1419,
    "start_time": "2022-09-19T21:15:36.440Z"
   },
   {
    "duration": 8445,
    "start_time": "2022-09-19T21:18:04.947Z"
   },
   {
    "duration": 1481,
    "start_time": "2022-09-19T21:18:49.588Z"
   },
   {
    "duration": 2,
    "start_time": "2022-09-19T21:20:42.318Z"
   },
   {
    "duration": 5,
    "start_time": "2022-09-19T21:21:17.472Z"
   },
   {
    "duration": 3,
    "start_time": "2022-09-19T21:22:58.687Z"
   },
   {
    "duration": 4,
    "start_time": "2022-09-19T21:22:59.518Z"
   },
   {
    "duration": 9,
    "start_time": "2022-09-19T21:23:01.537Z"
   },
   {
    "duration": 12,
    "start_time": "2022-09-19T21:23:03.918Z"
   },
   {
    "duration": 35,
    "start_time": "2022-09-19T21:23:05.682Z"
   },
   {
    "duration": 1946,
    "start_time": "2022-09-19T21:23:12.856Z"
   },
   {
    "duration": 5775,
    "start_time": "2022-09-19T21:23:17.889Z"
   },
   {
    "duration": 3269,
    "start_time": "2022-09-19T21:23:35.043Z"
   },
   {
    "duration": 1561,
    "start_time": "2022-09-19T21:23:47.013Z"
   },
   {
    "duration": 104,
    "start_time": "2022-09-19T21:25:43.841Z"
   },
   {
    "duration": 6,
    "start_time": "2022-09-19T21:26:08.716Z"
   },
   {
    "duration": 8,
    "start_time": "2022-09-19T21:26:14.887Z"
   },
   {
    "duration": 28,
    "start_time": "2022-09-19T21:26:16.611Z"
   },
   {
    "duration": 1135,
    "start_time": "2022-09-19T21:26:18.068Z"
   },
   {
    "duration": 3999,
    "start_time": "2022-09-19T21:26:25.302Z"
   },
   {
    "duration": 1830,
    "start_time": "2022-09-19T21:26:35.189Z"
   },
   {
    "duration": 13,
    "start_time": "2022-09-19T21:27:55.605Z"
   },
   {
    "duration": 1295,
    "start_time": "2022-09-19T21:29:26.497Z"
   },
   {
    "duration": 1519,
    "start_time": "2022-09-19T21:34:16.951Z"
   },
   {
    "duration": 417,
    "start_time": "2022-09-19T21:35:26.479Z"
   },
   {
    "duration": 1763,
    "start_time": "2022-09-19T21:37:15.072Z"
   },
   {
    "duration": 199,
    "start_time": "2022-09-19T21:37:33.269Z"
   },
   {
    "duration": 1455,
    "start_time": "2022-09-19T21:37:37.743Z"
   },
   {
    "duration": 26,
    "start_time": "2022-09-19T21:38:20.236Z"
   },
   {
    "duration": 29,
    "start_time": "2022-09-19T21:38:39.870Z"
   },
   {
    "duration": 18,
    "start_time": "2022-09-19T21:39:45.581Z"
   },
   {
    "duration": 1074,
    "start_time": "2022-09-19T21:39:48.430Z"
   },
   {
    "duration": 4013,
    "start_time": "2022-09-19T21:39:49.506Z"
   },
   {
    "duration": 1789,
    "start_time": "2022-09-19T21:39:53.522Z"
   },
   {
    "duration": 552,
    "start_time": "2022-09-19T21:40:08.876Z"
   },
   {
    "duration": 3194,
    "start_time": "2022-09-20T04:59:36.379Z"
   },
   {
    "duration": 665,
    "start_time": "2022-09-20T04:59:39.575Z"
   },
   {
    "duration": 23,
    "start_time": "2022-09-20T04:59:40.241Z"
   },
   {
    "duration": 14,
    "start_time": "2022-09-20T04:59:40.266Z"
   },
   {
    "duration": 40,
    "start_time": "2022-09-20T04:59:40.283Z"
   },
   {
    "duration": 8,
    "start_time": "2022-09-20T04:59:40.325Z"
   },
   {
    "duration": 15,
    "start_time": "2022-09-20T04:59:40.334Z"
   },
   {
    "duration": 32,
    "start_time": "2022-09-20T04:59:40.350Z"
   },
   {
    "duration": 36,
    "start_time": "2022-09-20T04:59:40.383Z"
   },
   {
    "duration": 14,
    "start_time": "2022-09-20T04:59:40.420Z"
   },
   {
    "duration": 7,
    "start_time": "2022-09-20T04:59:40.436Z"
   },
   {
    "duration": 246,
    "start_time": "2022-09-20T04:59:40.445Z"
   },
   {
    "duration": 1243,
    "start_time": "2022-09-20T04:59:40.692Z"
   },
   {
    "duration": 991,
    "start_time": "2022-09-20T04:59:41.939Z"
   },
   {
    "duration": 1108,
    "start_time": "2022-09-20T04:59:42.932Z"
   },
   {
    "duration": 694,
    "start_time": "2022-09-20T04:59:44.041Z"
   },
   {
    "duration": 656,
    "start_time": "2022-09-20T04:59:44.737Z"
   },
   {
    "duration": 233,
    "start_time": "2022-09-20T04:59:45.394Z"
   },
   {
    "duration": 6,
    "start_time": "2022-09-20T04:59:45.629Z"
   },
   {
    "duration": 10,
    "start_time": "2022-09-20T04:59:45.636Z"
   },
   {
    "duration": 35,
    "start_time": "2022-09-20T04:59:45.648Z"
   },
   {
    "duration": 8,
    "start_time": "2022-09-20T04:59:45.685Z"
   },
   {
    "duration": 22,
    "start_time": "2022-09-20T04:59:45.695Z"
   },
   {
    "duration": 42,
    "start_time": "2022-09-20T04:59:45.718Z"
   },
   {
    "duration": 3262,
    "start_time": "2022-09-20T04:59:45.761Z"
   },
   {
    "duration": 1522,
    "start_time": "2022-09-20T19:58:46.432Z"
   },
   {
    "duration": 4,
    "start_time": "2022-09-20T19:59:18.360Z"
   },
   {
    "duration": 2941,
    "start_time": "2022-09-20T19:59:27.521Z"
   },
   {
    "duration": 17,
    "start_time": "2022-09-20T19:59:30.464Z"
   },
   {
    "duration": 9,
    "start_time": "2022-09-20T19:59:30.483Z"
   },
   {
    "duration": 41,
    "start_time": "2022-09-20T19:59:30.493Z"
   },
   {
    "duration": 8,
    "start_time": "2022-09-20T19:59:31.069Z"
   },
   {
    "duration": 16,
    "start_time": "2022-09-20T19:59:31.980Z"
   },
   {
    "duration": 35,
    "start_time": "2022-09-20T19:59:34.780Z"
   },
   {
    "duration": 104,
    "start_time": "2022-09-20T20:00:21.394Z"
   },
   {
    "duration": 5,
    "start_time": "2022-09-20T20:01:00.592Z"
   },
   {
    "duration": 11,
    "start_time": "2022-09-20T20:01:11.840Z"
   },
   {
    "duration": 12,
    "start_time": "2022-09-20T20:02:10.595Z"
   },
   {
    "duration": 7,
    "start_time": "2022-09-20T20:02:19.748Z"
   },
   {
    "duration": 5,
    "start_time": "2022-09-20T20:04:28.730Z"
   },
   {
    "duration": 5,
    "start_time": "2022-09-20T20:04:31.775Z"
   },
   {
    "duration": 12,
    "start_time": "2022-09-20T20:15:50.888Z"
   },
   {
    "duration": 4,
    "start_time": "2022-09-20T20:20:55.975Z"
   },
   {
    "duration": 941,
    "start_time": "2022-09-20T20:30:38.790Z"
   },
   {
    "duration": 33,
    "start_time": "2022-09-20T20:30:54.360Z"
   },
   {
    "duration": 54,
    "start_time": "2022-09-20T20:31:42.881Z"
   },
   {
    "duration": 212,
    "start_time": "2022-09-20T20:31:52.073Z"
   },
   {
    "duration": 1005,
    "start_time": "2022-09-20T20:31:55.114Z"
   },
   {
    "duration": 998,
    "start_time": "2022-09-20T20:31:56.137Z"
   },
   {
    "duration": 1015,
    "start_time": "2022-09-20T20:31:57.137Z"
   },
   {
    "duration": 4,
    "start_time": "2022-09-20T20:32:31.760Z"
   },
   {
    "duration": 3,
    "start_time": "2022-09-20T20:32:32.658Z"
   },
   {
    "duration": 3,
    "start_time": "2022-09-20T20:43:24.786Z"
   },
   {
    "duration": 3,
    "start_time": "2022-09-20T20:43:27.794Z"
   },
   {
    "duration": 3,
    "start_time": "2022-09-20T20:43:28.345Z"
   },
   {
    "duration": 31,
    "start_time": "2022-09-20T20:43:36.740Z"
   },
   {
    "duration": 5,
    "start_time": "2022-09-20T20:43:39.986Z"
   },
   {
    "duration": 10,
    "start_time": "2022-09-20T20:43:43.351Z"
   },
   {
    "duration": 24,
    "start_time": "2022-09-20T20:43:45.375Z"
   },
   {
    "duration": 13,
    "start_time": "2022-09-20T20:46:41.203Z"
   },
   {
    "duration": 2267,
    "start_time": "2022-09-20T20:46:45.782Z"
   },
   {
    "duration": 9,
    "start_time": "2022-09-20T20:47:25.661Z"
   },
   {
    "duration": 16,
    "start_time": "2022-09-20T20:47:28.103Z"
   },
   {
    "duration": 2193,
    "start_time": "2022-09-20T20:47:30.036Z"
   },
   {
    "duration": 3970,
    "start_time": "2022-09-20T20:47:35.536Z"
   },
   {
    "duration": 3,
    "start_time": "2022-09-20T20:50:32.362Z"
   },
   {
    "duration": 8,
    "start_time": "2022-09-20T20:50:36.613Z"
   },
   {
    "duration": 18,
    "start_time": "2022-09-20T20:50:37.623Z"
   },
   {
    "duration": 1305,
    "start_time": "2022-09-20T20:50:39.237Z"
   },
   {
    "duration": 4,
    "start_time": "2022-09-20T20:55:36.541Z"
   },
   {
    "duration": 8,
    "start_time": "2022-09-20T20:55:42.337Z"
   },
   {
    "duration": 15,
    "start_time": "2022-09-20T20:55:43.253Z"
   },
   {
    "duration": 1859,
    "start_time": "2022-09-20T20:55:48.963Z"
   },
   {
    "duration": 6,
    "start_time": "2022-09-20T20:56:36.834Z"
   },
   {
    "duration": 16,
    "start_time": "2022-09-20T20:57:05.034Z"
   },
   {
    "duration": 14,
    "start_time": "2022-09-20T20:58:03.662Z"
   },
   {
    "duration": 4,
    "start_time": "2022-09-20T20:58:32.880Z"
   },
   {
    "duration": 675,
    "start_time": "2022-09-20T20:58:34.210Z"
   },
   {
    "duration": 17,
    "start_time": "2022-09-20T20:58:34.942Z"
   },
   {
    "duration": 9,
    "start_time": "2022-09-20T20:58:35.589Z"
   },
   {
    "duration": 12,
    "start_time": "2022-09-20T20:58:36.202Z"
   },
   {
    "duration": 8,
    "start_time": "2022-09-20T20:58:36.841Z"
   },
   {
    "duration": 16,
    "start_time": "2022-09-20T20:58:37.461Z"
   },
   {
    "duration": 32,
    "start_time": "2022-09-20T20:58:39.360Z"
   },
   {
    "duration": 7,
    "start_time": "2022-09-20T20:58:41.133Z"
   },
   {
    "duration": 4,
    "start_time": "2022-09-20T20:58:44.291Z"
   },
   {
    "duration": 18,
    "start_time": "2022-09-20T20:58:47.053Z"
   },
   {
    "duration": 1896,
    "start_time": "2022-09-20T21:00:32.977Z"
   },
   {
    "duration": 1126,
    "start_time": "2022-09-20T21:00:48.589Z"
   },
   {
    "duration": 1192,
    "start_time": "2022-09-20T21:02:48.611Z"
   },
   {
    "duration": 4,
    "start_time": "2022-09-20T21:02:57.998Z"
   },
   {
    "duration": 716,
    "start_time": "2022-09-20T21:02:59.469Z"
   },
   {
    "duration": 40,
    "start_time": "2022-09-20T21:03:00.187Z"
   },
   {
    "duration": 9,
    "start_time": "2022-09-20T21:03:00.802Z"
   },
   {
    "duration": 13,
    "start_time": "2022-09-20T21:03:01.379Z"
   },
   {
    "duration": 8,
    "start_time": "2022-09-20T21:03:01.841Z"
   },
   {
    "duration": 23,
    "start_time": "2022-09-20T21:03:02.308Z"
   },
   {
    "duration": 39,
    "start_time": "2022-09-20T21:03:04.222Z"
   },
   {
    "duration": 8,
    "start_time": "2022-09-20T21:03:06.281Z"
   },
   {
    "duration": 4,
    "start_time": "2022-09-20T21:03:11.371Z"
   },
   {
    "duration": 1171,
    "start_time": "2022-09-20T21:03:14.696Z"
   },
   {
    "duration": 985,
    "start_time": "2022-09-20T21:03:55.155Z"
   },
   {
    "duration": 1420,
    "start_time": "2022-09-20T21:20:00.813Z"
   },
   {
    "duration": 14,
    "start_time": "2022-09-20T21:23:35.984Z"
   },
   {
    "duration": 117,
    "start_time": "2022-09-20T21:24:44.422Z"
   },
   {
    "duration": 20,
    "start_time": "2022-09-20T21:24:55.714Z"
   },
   {
    "duration": 2490,
    "start_time": "2022-09-21T07:46:45.315Z"
   },
   {
    "duration": 2983,
    "start_time": "2022-09-21T07:46:48.837Z"
   },
   {
    "duration": 20,
    "start_time": "2022-09-21T07:46:51.822Z"
   },
   {
    "duration": 11,
    "start_time": "2022-09-21T07:46:51.843Z"
   },
   {
    "duration": 14,
    "start_time": "2022-09-21T07:46:52.101Z"
   },
   {
    "duration": 9,
    "start_time": "2022-09-21T07:46:53.040Z"
   },
   {
    "duration": 20,
    "start_time": "2022-09-21T07:46:53.817Z"
   },
   {
    "duration": 36,
    "start_time": "2022-09-21T07:46:57.242Z"
   },
   {
    "duration": 8,
    "start_time": "2022-09-21T07:46:59.036Z"
   },
   {
    "duration": 5,
    "start_time": "2022-09-21T07:47:14.508Z"
   },
   {
    "duration": 120,
    "start_time": "2022-09-21T07:47:18.323Z"
   },
   {
    "duration": 18,
    "start_time": "2022-09-21T07:51:32.434Z"
   },
   {
    "duration": 377,
    "start_time": "2022-09-21T08:07:02.653Z"
   },
   {
    "duration": 85,
    "start_time": "2022-09-21T08:07:13.444Z"
   },
   {
    "duration": 6,
    "start_time": "2022-09-21T08:07:17.627Z"
   },
   {
    "duration": 8,
    "start_time": "2022-09-21T08:07:42.889Z"
   },
   {
    "duration": 7,
    "start_time": "2022-09-21T08:08:13.341Z"
   },
   {
    "duration": 7,
    "start_time": "2022-09-21T08:08:50.161Z"
   },
   {
    "duration": 7,
    "start_time": "2022-09-21T08:09:00.151Z"
   },
   {
    "duration": 18,
    "start_time": "2022-09-21T08:09:28.195Z"
   },
   {
    "duration": 10,
    "start_time": "2022-09-21T08:12:30.188Z"
   },
   {
    "duration": 10,
    "start_time": "2022-09-21T08:12:43.691Z"
   },
   {
    "duration": 4,
    "start_time": "2022-09-21T08:13:12.754Z"
   },
   {
    "duration": 717,
    "start_time": "2022-09-21T08:13:13.741Z"
   },
   {
    "duration": 21,
    "start_time": "2022-09-21T08:13:14.459Z"
   },
   {
    "duration": 9,
    "start_time": "2022-09-21T08:13:14.750Z"
   },
   {
    "duration": 12,
    "start_time": "2022-09-21T08:13:15.237Z"
   },
   {
    "duration": 7,
    "start_time": "2022-09-21T08:13:15.748Z"
   },
   {
    "duration": 24,
    "start_time": "2022-09-21T08:13:16.237Z"
   },
   {
    "duration": 36,
    "start_time": "2022-09-21T08:13:17.721Z"
   },
   {
    "duration": 7,
    "start_time": "2022-09-21T08:13:19.597Z"
   },
   {
    "duration": 6,
    "start_time": "2022-09-21T08:13:22.172Z"
   },
   {
    "duration": 16,
    "start_time": "2022-09-21T08:13:24.783Z"
   },
   {
    "duration": 234,
    "start_time": "2022-09-21T08:14:34.760Z"
   },
   {
    "duration": 3,
    "start_time": "2022-09-21T08:14:52.885Z"
   },
   {
    "duration": 24,
    "start_time": "2022-09-21T08:14:52.890Z"
   },
   {
    "duration": 7,
    "start_time": "2022-09-21T08:14:55.338Z"
   },
   {
    "duration": 21,
    "start_time": "2022-09-21T08:14:57.799Z"
   },
   {
    "duration": 6,
    "start_time": "2022-09-21T08:14:58.582Z"
   },
   {
    "duration": 9,
    "start_time": "2022-09-21T08:15:09.946Z"
   },
   {
    "duration": 19,
    "start_time": "2022-09-21T08:15:13.184Z"
   },
   {
    "duration": 1145,
    "start_time": "2022-09-21T08:15:14.934Z"
   },
   {
    "duration": 4,
    "start_time": "2022-09-21T08:17:30.847Z"
   },
   {
    "duration": 4,
    "start_time": "2022-09-21T08:19:54.822Z"
   },
   {
    "duration": 981,
    "start_time": "2022-09-21T08:20:01.306Z"
   },
   {
    "duration": 4,
    "start_time": "2022-09-21T08:24:06.628Z"
   },
   {
    "duration": 3,
    "start_time": "2022-09-21T08:24:07.802Z"
   },
   {
    "duration": 1379,
    "start_time": "2022-09-21T08:24:19.900Z"
   },
   {
    "duration": 4,
    "start_time": "2022-09-21T08:25:17.911Z"
   },
   {
    "duration": 9,
    "start_time": "2022-09-21T08:25:17.917Z"
   },
   {
    "duration": 1345,
    "start_time": "2022-09-21T08:25:31.731Z"
   },
   {
    "duration": 3,
    "start_time": "2022-09-21T08:27:00.435Z"
   },
   {
    "duration": 1184,
    "start_time": "2022-09-21T08:27:05.598Z"
   },
   {
    "duration": 3,
    "start_time": "2022-09-21T08:28:07.581Z"
   },
   {
    "duration": 3,
    "start_time": "2022-09-21T08:28:08.125Z"
   },
   {
    "duration": 1000,
    "start_time": "2022-09-21T08:28:13.685Z"
   },
   {
    "duration": 3803,
    "start_time": "2022-09-21T08:29:04.865Z"
   },
   {
    "duration": 18088,
    "start_time": "2022-09-21T08:29:32.335Z"
   },
   {
    "duration": 7184,
    "start_time": "2022-09-21T08:30:02.724Z"
   },
   {
    "duration": 37586,
    "start_time": "2022-09-21T08:30:40.753Z"
   },
   {
    "duration": 55109,
    "start_time": "2022-09-21T08:31:32.321Z"
   },
   {
    "duration": 1890,
    "start_time": "2022-09-21T08:38:10.244Z"
   },
   {
    "duration": 2176,
    "start_time": "2022-09-21T08:38:19.868Z"
   },
   {
    "duration": 1472,
    "start_time": "2022-09-21T08:38:27.062Z"
   },
   {
    "duration": 73897,
    "start_time": "2022-09-21T08:38:44.892Z"
   },
   {
    "duration": 13,
    "start_time": "2022-09-21T08:40:42.696Z"
   },
   {
    "duration": 112541,
    "start_time": "2022-09-21T08:41:28.019Z"
   },
   {
    "duration": 307,
    "start_time": "2022-09-21T08:52:51.828Z"
   },
   {
    "duration": 9,
    "start_time": "2022-09-21T08:55:38.539Z"
   },
   {
    "duration": 13,
    "start_time": "2022-09-21T08:56:40.853Z"
   },
   {
    "duration": 5,
    "start_time": "2022-09-21T08:57:05.671Z"
   },
   {
    "duration": 4,
    "start_time": "2022-09-21T08:57:32.962Z"
   },
   {
    "duration": 74,
    "start_time": "2022-09-21T09:01:48.525Z"
   },
   {
    "duration": 59,
    "start_time": "2022-09-21T09:02:06.386Z"
   },
   {
    "duration": 1425,
    "start_time": "2022-09-21T09:03:18.641Z"
   },
   {
    "duration": 187,
    "start_time": "2022-09-21T09:03:32.145Z"
   },
   {
    "duration": 1044,
    "start_time": "2022-09-21T09:03:35.874Z"
   },
   {
    "duration": 4,
    "start_time": "2022-09-21T09:03:45.185Z"
   },
   {
    "duration": 712,
    "start_time": "2022-09-21T09:03:46.372Z"
   },
   {
    "duration": 20,
    "start_time": "2022-09-21T09:03:47.086Z"
   },
   {
    "duration": 9,
    "start_time": "2022-09-21T09:03:47.422Z"
   },
   {
    "duration": 13,
    "start_time": "2022-09-21T09:03:48.181Z"
   },
   {
    "duration": 7,
    "start_time": "2022-09-21T09:03:48.742Z"
   },
   {
    "duration": 17,
    "start_time": "2022-09-21T09:03:51.422Z"
   },
   {
    "duration": 34,
    "start_time": "2022-09-21T09:03:53.070Z"
   },
   {
    "duration": 7,
    "start_time": "2022-09-21T09:03:54.607Z"
   },
   {
    "duration": 5,
    "start_time": "2022-09-21T09:03:57.343Z"
   },
   {
    "duration": 19,
    "start_time": "2022-09-21T09:03:59.670Z"
   },
   {
    "duration": 221,
    "start_time": "2022-09-21T09:04:01.314Z"
   },
   {
    "duration": 1125,
    "start_time": "2022-09-21T09:04:03.400Z"
   },
   {
    "duration": 1058,
    "start_time": "2022-09-21T09:04:11.770Z"
   },
   {
    "duration": 1027,
    "start_time": "2022-09-21T09:04:20.393Z"
   },
   {
    "duration": 611,
    "start_time": "2022-09-21T09:05:31.243Z"
   },
   {
    "duration": 799,
    "start_time": "2022-09-21T09:05:35.170Z"
   },
   {
    "duration": 225,
    "start_time": "2022-09-21T09:05:40.221Z"
   },
   {
    "duration": 237,
    "start_time": "2022-09-21T09:08:11.988Z"
   },
   {
    "duration": 173,
    "start_time": "2022-09-21T09:16:32.516Z"
   },
   {
    "duration": 164,
    "start_time": "2022-09-21T09:16:51.871Z"
   },
   {
    "duration": 10,
    "start_time": "2022-09-21T09:18:14.206Z"
   },
   {
    "duration": 143,
    "start_time": "2022-09-21T09:18:31.316Z"
   },
   {
    "duration": 295,
    "start_time": "2022-09-21T09:20:43.802Z"
   },
   {
    "duration": 54,
    "start_time": "2022-09-21T09:22:04.733Z"
   },
   {
    "duration": 57,
    "start_time": "2022-09-21T09:22:13.671Z"
   },
   {
    "duration": 11,
    "start_time": "2022-09-21T09:22:21.318Z"
   },
   {
    "duration": 527,
    "start_time": "2022-09-21T09:22:32.063Z"
   },
   {
    "duration": 561,
    "start_time": "2022-09-21T09:23:24.288Z"
   },
   {
    "duration": 1032,
    "start_time": "2022-09-21T09:25:29.160Z"
   },
   {
    "duration": 2397,
    "start_time": "2022-09-21T10:21:32.524Z"
   },
   {
    "duration": 676,
    "start_time": "2022-09-21T10:21:34.923Z"
   },
   {
    "duration": 20,
    "start_time": "2022-09-21T10:21:35.601Z"
   },
   {
    "duration": 11,
    "start_time": "2022-09-21T10:21:35.624Z"
   },
   {
    "duration": 14,
    "start_time": "2022-09-21T10:21:35.637Z"
   },
   {
    "duration": 8,
    "start_time": "2022-09-21T10:21:35.652Z"
   },
   {
    "duration": 53,
    "start_time": "2022-09-21T10:21:35.662Z"
   },
   {
    "duration": 32,
    "start_time": "2022-09-21T10:21:35.717Z"
   },
   {
    "duration": 9,
    "start_time": "2022-09-21T10:21:35.751Z"
   },
   {
    "duration": 4,
    "start_time": "2022-09-21T10:21:35.763Z"
   },
   {
    "duration": 49,
    "start_time": "2022-09-21T10:21:35.768Z"
   },
   {
    "duration": 249,
    "start_time": "2022-09-21T10:21:35.818Z"
   },
   {
    "duration": 1073,
    "start_time": "2022-09-21T10:21:36.069Z"
   },
   {
    "duration": 1083,
    "start_time": "2022-09-21T10:21:37.143Z"
   },
   {
    "duration": 1102,
    "start_time": "2022-09-21T10:21:38.228Z"
   },
   {
    "duration": 552,
    "start_time": "2022-09-21T10:21:39.331Z"
   },
   {
    "duration": 588,
    "start_time": "2022-09-21T10:21:39.884Z"
   },
   {
    "duration": 1148,
    "start_time": "2022-09-21T10:21:40.474Z"
   },
   {
    "duration": 3,
    "start_time": "2022-09-21T10:21:41.624Z"
   },
   {
    "duration": 8,
    "start_time": "2022-09-21T10:21:41.629Z"
   },
   {
    "duration": 13,
    "start_time": "2022-09-21T10:21:41.638Z"
   },
   {
    "duration": 9,
    "start_time": "2022-09-21T10:21:41.652Z"
   },
   {
    "duration": 40,
    "start_time": "2022-09-21T10:21:41.662Z"
   },
   {
    "duration": 1310,
    "start_time": "2022-09-21T10:21:41.704Z"
   },
   {
    "duration": 1826,
    "start_time": "2022-09-21T10:21:54.105Z"
   },
   {
    "duration": 365,
    "start_time": "2022-09-21T10:22:01.400Z"
   },
   {
    "duration": 4,
    "start_time": "2022-09-21T10:22:04.256Z"
   }
  ],
  "kernelspec": {
   "display_name": "Python 3 (ipykernel)",
   "language": "python",
   "name": "python3"
  },
  "language_info": {
   "codemirror_mode": {
    "name": "ipython",
    "version": 3
   },
   "file_extension": ".py",
   "mimetype": "text/x-python",
   "name": "python",
   "nbconvert_exporter": "python",
   "pygments_lexer": "ipython3",
   "version": "3.9.5"
  },
  "toc": {
   "base_numbering": 1,
   "nav_menu": {},
   "number_sections": true,
   "sideBar": true,
   "skip_h1_title": true,
   "title_cell": "Содержание",
   "title_sidebar": "Contents",
   "toc_cell": true,
   "toc_position": {
    "height": "calc(100% - 180px)",
    "left": "10px",
    "top": "150px",
    "width": "165px"
   },
   "toc_section_display": true,
   "toc_window_display": true
  }
 },
 "nbformat": 4,
 "nbformat_minor": 2
}
