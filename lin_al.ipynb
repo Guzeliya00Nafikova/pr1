{
 "cells": [
  {
   "cell_type": "markdown",
   "metadata": {
    "toc": true
   },
   "source": [
    "<h1>Содержание<span class=\"tocSkip\"></span></h1>\n",
    "<div class=\"toc\"><ul class=\"toc-item\"><li><span><a href=\"#Загрузка-данных\" data-toc-modified-id=\"Загрузка-данных-1\"><span class=\"toc-item-num\">1&nbsp;&nbsp;</span>Загрузка данных</a></span></li><li><span><a href=\"#Умножение-матриц\" data-toc-modified-id=\"Умножение-матриц-2\"><span class=\"toc-item-num\">2&nbsp;&nbsp;</span>Умножение матриц</a></span></li><li><span><a href=\"#Алгоритм-преобразования\" data-toc-modified-id=\"Алгоритм-преобразования-3\"><span class=\"toc-item-num\">3&nbsp;&nbsp;</span>Алгоритм преобразования</a></span></li><li><span><a href=\"#Проверка-алгоритма\" data-toc-modified-id=\"Проверка-алгоритма-4\"><span class=\"toc-item-num\">4&nbsp;&nbsp;</span>Проверка алгоритма</a></span></li><li><span><a href=\"#Вывод\" data-toc-modified-id=\"Вывод-5\"><span class=\"toc-item-num\">5&nbsp;&nbsp;</span>Вывод</a></span></li><li><span><a href=\"#Чек-лист-проверки\" data-toc-modified-id=\"Чек-лист-проверки-6\"><span class=\"toc-item-num\">6&nbsp;&nbsp;</span>Чек-лист проверки</a></span></li></ul></div>"
   ]
  },
  {
   "cell_type": "markdown",
   "metadata": {},
   "source": [
    "# Защита персональных данных клиентов"
   ]
  },
  {
   "cell_type": "markdown",
   "metadata": {},
   "source": [
    "Вам нужно защитить данные клиентов страховой компании «Хоть потоп». Разработайте такой метод преобразования данных, чтобы по ним было сложно восстановить персональную информацию. Обоснуйте корректность его работы.\n",
    "\n",
    "Нужно защитить данные, чтобы при преобразовании качество моделей машинного обучения не ухудшилось. Подбирать наилучшую модель не требуется."
   ]
  },
  {
   "cell_type": "markdown",
   "metadata": {},
   "source": [
    "## Загрузка данных"
   ]
  },
  {
   "cell_type": "code",
   "execution_count": 108,
   "metadata": {},
   "outputs": [],
   "source": [
    "import pandas as pd\n",
    "import seaborn as sns\n",
    "import numpy as np\n",
    "from sklearn.linear_model import LinearRegression\n",
    "from sklearn.metrics import r2_score"
   ]
  },
  {
   "cell_type": "code",
   "execution_count": 2,
   "metadata": {},
   "outputs": [],
   "source": [
    "df = pd.read_csv('/datasets/insurance.csv')"
   ]
  },
  {
   "cell_type": "code",
   "execution_count": 3,
   "metadata": {},
   "outputs": [
    {
     "name": "stdout",
     "output_type": "stream",
     "text": [
      "<class 'pandas.core.frame.DataFrame'>\n",
      "RangeIndex: 5000 entries, 0 to 4999\n",
      "Data columns (total 5 columns):\n",
      " #   Column             Non-Null Count  Dtype  \n",
      "---  ------             --------------  -----  \n",
      " 0   Пол                5000 non-null   int64  \n",
      " 1   Возраст            5000 non-null   float64\n",
      " 2   Зарплата           5000 non-null   float64\n",
      " 3   Члены семьи        5000 non-null   int64  \n",
      " 4   Страховые выплаты  5000 non-null   int64  \n",
      "dtypes: float64(2), int64(3)\n",
      "memory usage: 195.4 KB\n"
     ]
    }
   ],
   "source": [
    "df.info()"
   ]
  },
  {
   "cell_type": "code",
   "execution_count": 4,
   "metadata": {},
   "outputs": [],
   "source": [
    "df['Возраст'] = df['Возраст'].astype('int')\n",
    "df['Зарплата'] = df['Зарплата'].astype('int')"
   ]
  },
  {
   "cell_type": "code",
   "execution_count": 5,
   "metadata": {},
   "outputs": [
    {
     "data": {
      "text/html": [
       "<div>\n",
       "<style scoped>\n",
       "    .dataframe tbody tr th:only-of-type {\n",
       "        vertical-align: middle;\n",
       "    }\n",
       "\n",
       "    .dataframe tbody tr th {\n",
       "        vertical-align: top;\n",
       "    }\n",
       "\n",
       "    .dataframe thead th {\n",
       "        text-align: right;\n",
       "    }\n",
       "</style>\n",
       "<table border=\"1\" class=\"dataframe\">\n",
       "  <thead>\n",
       "    <tr style=\"text-align: right;\">\n",
       "      <th></th>\n",
       "      <th>Пол</th>\n",
       "      <th>Возраст</th>\n",
       "      <th>Зарплата</th>\n",
       "      <th>Члены семьи</th>\n",
       "      <th>Страховые выплаты</th>\n",
       "    </tr>\n",
       "  </thead>\n",
       "  <tbody>\n",
       "    <tr>\n",
       "      <th>0</th>\n",
       "      <td>1</td>\n",
       "      <td>41</td>\n",
       "      <td>49600</td>\n",
       "      <td>1</td>\n",
       "      <td>0</td>\n",
       "    </tr>\n",
       "    <tr>\n",
       "      <th>1</th>\n",
       "      <td>0</td>\n",
       "      <td>46</td>\n",
       "      <td>38000</td>\n",
       "      <td>1</td>\n",
       "      <td>1</td>\n",
       "    </tr>\n",
       "    <tr>\n",
       "      <th>2</th>\n",
       "      <td>0</td>\n",
       "      <td>29</td>\n",
       "      <td>21000</td>\n",
       "      <td>0</td>\n",
       "      <td>0</td>\n",
       "    </tr>\n",
       "    <tr>\n",
       "      <th>3</th>\n",
       "      <td>0</td>\n",
       "      <td>21</td>\n",
       "      <td>41700</td>\n",
       "      <td>2</td>\n",
       "      <td>0</td>\n",
       "    </tr>\n",
       "    <tr>\n",
       "      <th>4</th>\n",
       "      <td>1</td>\n",
       "      <td>28</td>\n",
       "      <td>26100</td>\n",
       "      <td>0</td>\n",
       "      <td>0</td>\n",
       "    </tr>\n",
       "  </tbody>\n",
       "</table>\n",
       "</div>"
      ],
      "text/plain": [
       "   Пол  Возраст  Зарплата  Члены семьи  Страховые выплаты\n",
       "0    1       41     49600            1                  0\n",
       "1    0       46     38000            1                  1\n",
       "2    0       29     21000            0                  0\n",
       "3    0       21     41700            2                  0\n",
       "4    1       28     26100            0                  0"
      ]
     },
     "execution_count": 5,
     "metadata": {},
     "output_type": "execute_result"
    }
   ],
   "source": [
    "df.head()"
   ]
  },
  {
   "cell_type": "markdown",
   "metadata": {},
   "source": [
    "Данные в норме, пропущенных значений нет, типы данных изменены"
   ]
  },
  {
   "cell_type": "code",
   "execution_count": 111,
   "metadata": {},
   "outputs": [
    {
     "data": {
      "text/plain": [
       "<AxesSubplot:>"
      ]
     },
     "execution_count": 111,
     "metadata": {},
     "output_type": "execute_result"
    },
    {
     "data": {
      "image/png": "[encoded data removed]",
      "text/plain": [
       "<Figure size 432x288 with 2 Axes>"
      ]
     },
     "metadata": {
      "needs_background": "light"
     },
     "output_type": "display_data"
    }
   ],
   "source": [
    "sns.heatmap(df.corr(), annot=True)"
   ]
  },
  {
   "cell_type": "markdown",
   "metadata": {},
   "source": [
    "## Умножение матриц"
   ]
  },
  {
   "cell_type": "markdown",
   "metadata": {},
   "source": [
    "Обозначения:\n",
    "\n",
    "- $X$ — матрица признаков (нулевой столбец состоит из единиц)\n",
    "\n",
    "- $y$ — вектор целевого признака\n",
    "\n",
    "- $P$ — матрица, на которую умножаются признаки\n",
    "\n",
    "- $w$ — вектор весов линейной регрессии (нулевой элемент равен сдвигу)"
   ]
  },
  {
   "cell_type": "markdown",
   "metadata": {},
   "source": [
    "Предсказания:\n",
    "\n",
    "$$\n",
    "a = Xw\n",
    "$$\n",
    "\n",
    "Задача обучения:\n",
    "\n",
    "$$\n",
    "w = \\arg\\min_w MSE(Xw, y)\n",
    "$$\n",
    "\n",
    "Формула обучения:\n",
    "\n",
    "$$\n",
    "w = (X^T X)^{-1} X^T y\n",
    "$$"
   ]
  },
  {
   "cell_type": "markdown",
   "metadata": {},
   "source": [
    "**Ответ:** Не изменится\n",
    "\n",
    "**Обоснование:** Посмотрим на примере уравнения, признаки умножим на обратимую мартицу\n",
    "$$\n",
    "a = XPw\n",
    "$$\n",
    "Добавим к формуле обучения:\n",
    "$$\n",
    "a = XP((XP)^TXP)^{-1}(XP)^Ty))\n",
    "$$\n",
    "Раскроем скобки с транспонированием матриц:\n",
    "$$\n",
    "a = XP(P^TX^TXP)^{-1}P^TX^Ty\n",
    "$$\n",
    "\n",
    "Вспомним одно из свойств матриц: $A(BC) = (AB)C$ Оно позволяет группировать матрицы внутри произведения различным образом. Т.к. обратная матрица может браться только от квадратной матрицы, то для раскрытия скобок данного произведения нам надо сгруппировать его множители так, чтобы они были квадратными матрицами. Учитывая это правило расскроем скобки:\n",
    "\n",
    "$$\n",
    "a = XPP^{-1}(P^TX^TX)^{-1}P^TX^Ty\n",
    "$$\n",
    "\n",
    "$$\n",
    "a = XPP^{-1}(X^TX)^{-1}(P^T)^{-1}P^TX^Ty\n",
    "$$\n",
    "\n",
    "Насколько нам известно произведения $PP^{-1}$ и $(P^T)^{-1}P^T$ дают нам единичные матрицы, поэтому их можно исключить\n",
    "$$\n",
    "a = X(X^T X)^{-1} X^T y\n",
    "$$\n",
    "Вспомним, что $w = (X^T X)^{-1} X^T y$ значит:\n",
    "$$\n",
    "a = Xw\n",
    "$$"
   ]
  },
  {
   "cell_type": "markdown",
   "metadata": {},
   "source": [
    "## Алгоритм преобразования"
   ]
  },
  {
   "cell_type": "markdown",
   "metadata": {},
   "source": [
    "**Алгоритм**\n",
    "\n",
    "В качестве алгоритма преобразования примем домножение обучающих признаков X на случайную обратимую матрицу P размером 4х4. Создадим модель линейной регрессии до преобразования и посчитаем метрику R2. Далее умножим исходные признаки на обратимую матрицу и на основе полученных значений вновь посчитаем метрику R2. Метрики R2 по итогу должны быть равны."
   ]
  },
  {
   "cell_type": "markdown",
   "metadata": {},
   "source": [
    "**Обоснование**\n",
    "\n",
    "Как было показано в предыдущем пункте, домножение признаков на какую-либо обратимую матрицу не приводит к изменению предсказаний, поэтому результаты R2 должны оказаться равны."
   ]
  },
  {
   "cell_type": "markdown",
   "metadata": {},
   "source": [
    "## Проверка алгоритма"
   ]
  },
  {
   "cell_type": "markdown",
   "metadata": {},
   "source": [
    "Для проверки алогоритма подготовим признаки "
   ]
  },
  {
   "cell_type": "code",
   "execution_count": 6,
   "metadata": {},
   "outputs": [],
   "source": [
    "features = df.drop('Страховые выплаты', axis=1)\n",
    "target = df['Страховые выплаты']"
   ]
  },
  {
   "cell_type": "markdown",
   "metadata": {},
   "source": [
    "Обучим линейную регрессию и определим метрику r2"
   ]
  },
  {
   "cell_type": "code",
   "execution_count": 7,
   "metadata": {},
   "outputs": [
    {
     "name": "stdout",
     "output_type": "stream",
     "text": [
      "Метрика R2 0.42494550308169177\n"
     ]
    }
   ],
   "source": [
    "model = LinearRegression()\n",
    "model.fit(features, target)\n",
    "predictions = model.predict(features)\n",
    "r2 = r2_score(target, predictions)\n",
    "print(f'Метрика R2 {r2}')"
   ]
  },
  {
   "cell_type": "markdown",
   "metadata": {},
   "source": [
    "Создадим обратимую матрицу и умножим на нашу матрицу"
   ]
  },
  {
   "cell_type": "code",
   "execution_count": 105,
   "metadata": {},
   "outputs": [
    {
     "data": {
      "text/html": [
       "<div>\n",
       "<style scoped>\n",
       "    .dataframe tbody tr th:only-of-type {\n",
       "        vertical-align: middle;\n",
       "    }\n",
       "\n",
       "    .dataframe tbody tr th {\n",
       "        vertical-align: top;\n",
       "    }\n",
       "\n",
       "    .dataframe thead th {\n",
       "        text-align: right;\n",
       "    }\n",
       "</style>\n",
       "<table border=\"1\" class=\"dataframe\">\n",
       "  <thead>\n",
       "    <tr style=\"text-align: right;\">\n",
       "      <th></th>\n",
       "      <th>0</th>\n",
       "      <th>1</th>\n",
       "      <th>2</th>\n",
       "      <th>3</th>\n",
       "    </tr>\n",
       "  </thead>\n",
       "  <tbody>\n",
       "    <tr>\n",
       "      <th>0</th>\n",
       "      <td>-7987.465464</td>\n",
       "      <td>10861.501002</td>\n",
       "      <td>23018.391736</td>\n",
       "      <td>-31164.738021</td>\n",
       "    </tr>\n",
       "    <tr>\n",
       "      <th>1</th>\n",
       "      <td>-6149.446313</td>\n",
       "      <td>8310.370126</td>\n",
       "      <td>17653.928081</td>\n",
       "      <td>-23892.130513</td>\n",
       "    </tr>\n",
       "    <tr>\n",
       "      <th>2</th>\n",
       "      <td>-3406.098382</td>\n",
       "      <td>4589.974208</td>\n",
       "      <td>9761.749540</td>\n",
       "      <td>-13207.706312</td>\n",
       "    </tr>\n",
       "    <tr>\n",
       "      <th>3</th>\n",
       "      <td>-6689.479707</td>\n",
       "      <td>9140.992019</td>\n",
       "      <td>19333.886842</td>\n",
       "      <td>-26187.151428</td>\n",
       "    </tr>\n",
       "    <tr>\n",
       "      <th>4</th>\n",
       "      <td>-4215.171168</td>\n",
       "      <td>5710.949604</td>\n",
       "      <td>12121.069512</td>\n",
       "      <td>-16405.678713</td>\n",
       "    </tr>\n",
       "  </tbody>\n",
       "</table>\n",
       "</div>"
      ],
      "text/plain": [
       "             0             1             2             3\n",
       "0 -7987.465464  10861.501002  23018.391736 -31164.738021\n",
       "1 -6149.446313   8310.370126  17653.928081 -23892.130513\n",
       "2 -3406.098382   4589.974208   9761.749540 -13207.706312\n",
       "3 -6689.479707   9140.992019  19333.886842 -26187.151428\n",
       "4 -4215.171168   5710.949604  12121.069512 -16405.678713"
      ]
     },
     "execution_count": 105,
     "metadata": {},
     "output_type": "execute_result"
    }
   ],
   "source": [
    "m = np.random.normal(size=(4, 4))\n",
    "features_m = features @ np.linalg.inv(m)\n",
    "features_m.head()"
   ]
  },
  {
   "cell_type": "markdown",
   "metadata": {},
   "source": [
    "Для того чтобы матрица была обратимая, необходимо выполнение одного условия: определитель матрицы не должен быть равен 0"
   ]
  },
  {
   "cell_type": "code",
   "execution_count": 106,
   "metadata": {},
   "outputs": [
    {
     "data": {
      "text/plain": [
       "1.3586263742759284"
      ]
     },
     "execution_count": 106,
     "metadata": {},
     "output_type": "execute_result"
    }
   ],
   "source": [
    "np.linalg.det(m)"
   ]
  },
  {
   "cell_type": "markdown",
   "metadata": {},
   "source": [
    "Условие выполнено, значит матрица обратимая"
   ]
  },
  {
   "cell_type": "markdown",
   "metadata": {},
   "source": [
    "Проверим метрику r2"
   ]
  },
  {
   "cell_type": "code",
   "execution_count": 107,
   "metadata": {},
   "outputs": [
    {
     "name": "stdout",
     "output_type": "stream",
     "text": [
      "Метрика R2 0.424945503081685\n"
     ]
    }
   ],
   "source": [
    "model_2 = LinearRegression()\n",
    "model_2.fit(features_m, target)\n",
    "predictions = model_2.predict(features_m)\n",
    "r2_m = r2_score(target, predictions)\n",
    "print(f'Метрика R2 {r2_m}')"
   ]
  },
  {
   "cell_type": "markdown",
   "metadata": {},
   "source": [
    "Метрики одинаковые"
   ]
  },
  {
   "cell_type": "markdown",
   "metadata": {},
   "source": [
    "Вывод: метод умножения исходных данных на случайную обратимую матрицу может быть применено для защиты данных клиентов"
   ]
  },
  {
   "cell_type": "markdown",
   "metadata": {},
   "source": [
    "## Вывод"
   ]
  },
  {
   "cell_type": "markdown",
   "metadata": {},
   "source": [
    "Перед нами стояла задача разработать метод преобразования данных, чтобы по ним было сложно восстановить персональную информацию, с условием, что при преобразовании качество моделей машинного обучения не ухудшится.\n",
    "\n",
    "Для этого мы разработали алгоритм преобразования данных, проверив на матричных уравнениях, что при умножении признаков на обратимую матрицу качество линейной регрессии не изменится.\n",
    "\n",
    "Затем проверили на полученных данных: расситали метрику r2 без умножения на обратимую матрицу и после умножения. Метрики оказались равны.\n",
    "\n",
    "Таким образом, мы пришли к выводу, что метод умножения исходных данных на случайную обратимую матрицу может быть применено для защиты данных клиентов"
   ]
  },
  {
   "cell_type": "code",
   "execution_count": null,
   "metadata": {},
   "outputs": [],
   "source": []
  }
 ],
 "metadata": {
  "ExecuteTimeLog": [
   {
    "duration": 434,
    "start_time": "2022-10-01T19:10:23.107Z"
   },
   {
    "duration": 79,
    "start_time": "2022-10-01T19:10:55.993Z"
   },
   {
    "duration": 14,
    "start_time": "2022-10-01T19:45:19.838Z"
   },
   {
    "duration": 11,
    "start_time": "2022-10-01T19:45:51.380Z"
   },
   {
    "duration": 7,
    "start_time": "2022-10-01T19:46:06.230Z"
   },
   {
    "duration": 6,
    "start_time": "2022-10-01T19:46:11.806Z"
   },
   {
    "duration": 12,
    "start_time": "2022-10-01T19:46:39.890Z"
   },
   {
    "duration": 357,
    "start_time": "2022-10-03T13:22:38.828Z"
   },
   {
    "duration": 76,
    "start_time": "2022-10-03T13:22:39.464Z"
   },
   {
    "duration": 11,
    "start_time": "2022-10-03T13:22:40.620Z"
   },
   {
    "duration": 9,
    "start_time": "2022-10-03T13:22:41.286Z"
   },
   {
    "duration": 11,
    "start_time": "2022-10-03T13:22:41.942Z"
   },
   {
    "duration": 474,
    "start_time": "2022-10-04T12:24:17.232Z"
   },
   {
    "duration": 80,
    "start_time": "2022-10-04T12:24:17.769Z"
   },
   {
    "duration": 15,
    "start_time": "2022-10-04T12:24:18.200Z"
   },
   {
    "duration": 16,
    "start_time": "2022-10-04T12:24:18.757Z"
   },
   {
    "duration": 19,
    "start_time": "2022-10-04T12:24:19.363Z"
   },
   {
    "duration": 77,
    "start_time": "2022-10-04T14:28:39.048Z"
   },
   {
    "duration": 5,
    "start_time": "2022-10-04T14:28:49.963Z"
   },
   {
    "duration": 8,
    "start_time": "2022-10-04T14:29:10.715Z"
   },
   {
    "duration": 817,
    "start_time": "2022-10-04T14:30:31.582Z"
   },
   {
    "duration": 11,
    "start_time": "2022-10-04T14:30:38.978Z"
   },
   {
    "duration": 43,
    "start_time": "2022-10-04T14:36:58.998Z"
   },
   {
    "duration": 3,
    "start_time": "2022-10-04T14:37:22.092Z"
   },
   {
    "duration": 9,
    "start_time": "2022-10-04T14:37:27.771Z"
   },
   {
    "duration": 13,
    "start_time": "2022-10-04T14:37:53.611Z"
   },
   {
    "duration": 9,
    "start_time": "2022-10-04T14:39:30.513Z"
   },
   {
    "duration": 11,
    "start_time": "2022-10-04T14:39:51.852Z"
   },
   {
    "duration": 11,
    "start_time": "2022-10-04T14:40:06.147Z"
   },
   {
    "duration": 12,
    "start_time": "2022-10-04T14:40:37.627Z"
   },
   {
    "duration": 10,
    "start_time": "2022-10-04T14:43:25.872Z"
   },
   {
    "duration": 10,
    "start_time": "2022-10-04T14:43:37.860Z"
   },
   {
    "duration": 10,
    "start_time": "2022-10-04T14:45:58.170Z"
   },
   {
    "duration": 9,
    "start_time": "2022-10-04T14:52:16.590Z"
   },
   {
    "duration": 4,
    "start_time": "2022-10-04T14:54:24.766Z"
   },
   {
    "duration": 8,
    "start_time": "2022-10-04T14:54:27.537Z"
   },
   {
    "duration": 5,
    "start_time": "2022-10-04T14:54:55.485Z"
   },
   {
    "duration": 10,
    "start_time": "2022-10-04T14:55:01.731Z"
   },
   {
    "duration": 1607,
    "start_time": "2022-10-04T15:55:27.923Z"
   },
   {
    "duration": 77,
    "start_time": "2022-10-04T15:55:29.532Z"
   },
   {
    "duration": 12,
    "start_time": "2022-10-04T15:55:29.611Z"
   },
   {
    "duration": 7,
    "start_time": "2022-10-04T15:55:29.625Z"
   },
   {
    "duration": 16,
    "start_time": "2022-10-04T15:55:29.634Z"
   },
   {
    "duration": 4,
    "start_time": "2022-10-04T15:55:29.652Z"
   },
   {
    "duration": 28,
    "start_time": "2022-10-04T15:55:29.658Z"
   },
   {
    "duration": 100,
    "start_time": "2022-10-04T15:55:29.736Z"
   },
   {
    "duration": 99,
    "start_time": "2022-10-04T15:55:29.838Z"
   },
   {
    "duration": 1112,
    "start_time": "2022-10-07T10:33:27.231Z"
   },
   {
    "duration": 77,
    "start_time": "2022-10-07T10:33:28.344Z"
   },
   {
    "duration": 10,
    "start_time": "2022-10-07T10:33:28.602Z"
   },
   {
    "duration": 5,
    "start_time": "2022-10-07T10:33:29.341Z"
   },
   {
    "duration": 14,
    "start_time": "2022-10-07T10:33:30.847Z"
   },
   {
    "duration": 5,
    "start_time": "2022-10-07T10:33:36.680Z"
   },
   {
    "duration": 17,
    "start_time": "2022-10-07T10:33:37.604Z"
   },
   {
    "duration": 14,
    "start_time": "2022-10-07T10:33:41.444Z"
   },
   {
    "duration": 11,
    "start_time": "2022-10-07T10:33:47.238Z"
   },
   {
    "duration": 53,
    "start_time": "2022-10-07T11:02:15.687Z"
   },
   {
    "duration": 118,
    "start_time": "2022-10-07T11:02:43.601Z"
   },
   {
    "duration": 163,
    "start_time": "2022-10-07T11:03:37.462Z"
   },
   {
    "duration": 10,
    "start_time": "2022-10-07T11:15:22.846Z"
   },
   {
    "duration": 10,
    "start_time": "2022-10-07T11:15:32.786Z"
   },
   {
    "duration": 4,
    "start_time": "2022-10-07T11:16:06.341Z"
   },
   {
    "duration": 4,
    "start_time": "2022-10-07T11:16:19.111Z"
   },
   {
    "duration": 4,
    "start_time": "2022-10-07T11:18:23.887Z"
   },
   {
    "duration": 4,
    "start_time": "2022-10-07T11:19:24.405Z"
   },
   {
    "duration": 5,
    "start_time": "2022-10-07T11:19:32.799Z"
   },
   {
    "duration": 4,
    "start_time": "2022-10-07T11:19:33.735Z"
   },
   {
    "duration": 5,
    "start_time": "2022-10-07T11:19:40.303Z"
   },
   {
    "duration": 4,
    "start_time": "2022-10-07T11:19:40.969Z"
   },
   {
    "duration": 4,
    "start_time": "2022-10-07T11:19:44.975Z"
   },
   {
    "duration": 4,
    "start_time": "2022-10-07T11:19:45.620Z"
   },
   {
    "duration": 5,
    "start_time": "2022-10-07T11:21:14.505Z"
   },
   {
    "duration": 5,
    "start_time": "2022-10-07T11:21:15.210Z"
   },
   {
    "duration": 232,
    "start_time": "2022-10-07T11:21:37.089Z"
   },
   {
    "duration": 4,
    "start_time": "2022-10-07T11:21:46.057Z"
   },
   {
    "duration": 5,
    "start_time": "2022-10-07T11:21:47.120Z"
   },
   {
    "duration": 4,
    "start_time": "2022-10-07T11:21:50.665Z"
   },
   {
    "duration": 4,
    "start_time": "2022-10-07T11:21:51.410Z"
   },
   {
    "duration": 5,
    "start_time": "2022-10-07T11:21:54.158Z"
   },
   {
    "duration": 5,
    "start_time": "2022-10-07T11:21:56.321Z"
   },
   {
    "duration": 4,
    "start_time": "2022-10-07T11:21:57.865Z"
   },
   {
    "duration": 4,
    "start_time": "2022-10-07T11:21:59.187Z"
   },
   {
    "duration": 5,
    "start_time": "2022-10-07T11:22:01.900Z"
   },
   {
    "duration": 4,
    "start_time": "2022-10-07T11:22:04.046Z"
   },
   {
    "duration": 4,
    "start_time": "2022-10-07T11:22:06.649Z"
   },
   {
    "duration": 4,
    "start_time": "2022-10-07T11:22:07.979Z"
   },
   {
    "duration": 4,
    "start_time": "2022-10-07T11:22:11.532Z"
   },
   {
    "duration": 5,
    "start_time": "2022-10-07T11:22:13.333Z"
   },
   {
    "duration": 4,
    "start_time": "2022-10-07T11:22:15.430Z"
   },
   {
    "duration": 5,
    "start_time": "2022-10-07T11:22:16.259Z"
   },
   {
    "duration": 4,
    "start_time": "2022-10-07T11:22:18.623Z"
   },
   {
    "duration": 5,
    "start_time": "2022-10-07T11:22:19.460Z"
   },
   {
    "duration": 4,
    "start_time": "2022-10-07T11:22:21.675Z"
   },
   {
    "duration": 4,
    "start_time": "2022-10-07T11:22:24.412Z"
   },
   {
    "duration": 5,
    "start_time": "2022-10-07T11:22:27.085Z"
   },
   {
    "duration": 4,
    "start_time": "2022-10-07T11:22:28.909Z"
   },
   {
    "duration": 4,
    "start_time": "2022-10-07T11:22:30.064Z"
   },
   {
    "duration": 5,
    "start_time": "2022-10-07T11:22:32.373Z"
   },
   {
    "duration": 4,
    "start_time": "2022-10-07T11:22:33.548Z"
   },
   {
    "duration": 4,
    "start_time": "2022-10-07T11:22:35.459Z"
   },
   {
    "duration": 5,
    "start_time": "2022-10-07T11:22:36.279Z"
   },
   {
    "duration": 4,
    "start_time": "2022-10-07T11:22:37.866Z"
   },
   {
    "duration": 4,
    "start_time": "2022-10-07T11:22:39.056Z"
   },
   {
    "duration": 5,
    "start_time": "2022-10-07T11:22:57.264Z"
   },
   {
    "duration": 4,
    "start_time": "2022-10-07T11:22:57.911Z"
   },
   {
    "duration": 9,
    "start_time": "2022-10-07T11:23:00.059Z"
   },
   {
    "duration": 4,
    "start_time": "2022-10-07T11:23:00.566Z"
   },
   {
    "duration": 4,
    "start_time": "2022-10-07T11:23:02.412Z"
   },
   {
    "duration": 3,
    "start_time": "2022-10-07T11:23:03.014Z"
   },
   {
    "duration": 5,
    "start_time": "2022-10-07T11:23:04.816Z"
   },
   {
    "duration": 4,
    "start_time": "2022-10-07T11:23:05.433Z"
   },
   {
    "duration": 4,
    "start_time": "2022-10-07T11:23:08.236Z"
   },
   {
    "duration": 4,
    "start_time": "2022-10-07T11:23:09.262Z"
   },
   {
    "duration": 4,
    "start_time": "2022-10-07T11:23:10.935Z"
   },
   {
    "duration": 4,
    "start_time": "2022-10-07T11:23:11.444Z"
   },
   {
    "duration": 4,
    "start_time": "2022-10-07T11:23:16.191Z"
   },
   {
    "duration": 4,
    "start_time": "2022-10-07T11:23:16.647Z"
   },
   {
    "duration": 5,
    "start_time": "2022-10-07T11:23:18.569Z"
   },
   {
    "duration": 5,
    "start_time": "2022-10-07T11:23:19.227Z"
   },
   {
    "duration": 6,
    "start_time": "2022-10-07T11:23:20.724Z"
   },
   {
    "duration": 5,
    "start_time": "2022-10-07T11:23:21.140Z"
   },
   {
    "duration": 6,
    "start_time": "2022-10-07T11:23:22.923Z"
   },
   {
    "duration": 5,
    "start_time": "2022-10-07T11:23:23.468Z"
   },
   {
    "duration": 5,
    "start_time": "2022-10-07T11:23:25.488Z"
   },
   {
    "duration": 4,
    "start_time": "2022-10-07T11:23:25.953Z"
   },
   {
    "duration": 4,
    "start_time": "2022-10-07T11:23:27.537Z"
   },
   {
    "duration": 5,
    "start_time": "2022-10-07T11:23:27.951Z"
   },
   {
    "duration": 4,
    "start_time": "2022-10-07T11:23:29.944Z"
   },
   {
    "duration": 4,
    "start_time": "2022-10-07T11:23:30.395Z"
   },
   {
    "duration": 4,
    "start_time": "2022-10-07T11:23:32.052Z"
   },
   {
    "duration": 5,
    "start_time": "2022-10-07T11:23:32.473Z"
   },
   {
    "duration": 4,
    "start_time": "2022-10-07T11:23:34.281Z"
   },
   {
    "duration": 5,
    "start_time": "2022-10-07T11:23:34.794Z"
   },
   {
    "duration": 5,
    "start_time": "2022-10-07T11:23:36.467Z"
   },
   {
    "duration": 5,
    "start_time": "2022-10-07T11:23:36.817Z"
   },
   {
    "duration": 5,
    "start_time": "2022-10-07T11:23:38.608Z"
   },
   {
    "duration": 4,
    "start_time": "2022-10-07T11:23:38.995Z"
   },
   {
    "duration": 6,
    "start_time": "2022-10-07T11:23:40.925Z"
   },
   {
    "duration": 5,
    "start_time": "2022-10-07T11:23:41.408Z"
   },
   {
    "duration": 5,
    "start_time": "2022-10-07T11:23:42.895Z"
   },
   {
    "duration": 4,
    "start_time": "2022-10-07T11:23:43.325Z"
   },
   {
    "duration": 5,
    "start_time": "2022-10-07T11:23:44.877Z"
   },
   {
    "duration": 4,
    "start_time": "2022-10-07T11:23:45.277Z"
   },
   {
    "duration": 4,
    "start_time": "2022-10-07T11:23:47.676Z"
   },
   {
    "duration": 4,
    "start_time": "2022-10-07T11:23:48.009Z"
   },
   {
    "duration": 4,
    "start_time": "2022-10-07T11:23:49.877Z"
   },
   {
    "duration": 4,
    "start_time": "2022-10-07T11:23:50.233Z"
   },
   {
    "duration": 4,
    "start_time": "2022-10-07T11:26:10.641Z"
   },
   {
    "duration": 4,
    "start_time": "2022-10-07T11:26:34.704Z"
   },
   {
    "duration": 9,
    "start_time": "2022-10-07T11:27:19.953Z"
   },
   {
    "duration": 4,
    "start_time": "2022-10-07T11:27:31.085Z"
   },
   {
    "duration": 10,
    "start_time": "2022-10-07T11:27:34.865Z"
   },
   {
    "duration": 4,
    "start_time": "2022-10-07T11:27:36.002Z"
   },
   {
    "duration": 11,
    "start_time": "2022-10-07T11:31:50.755Z"
   },
   {
    "duration": 549,
    "start_time": "2022-10-07T12:40:16.289Z"
   },
   {
    "duration": 6979,
    "start_time": "2022-10-07T12:41:22.714Z"
   },
   {
    "duration": 415,
    "start_time": "2022-10-07T12:47:26.600Z"
   },
   {
    "duration": 348,
    "start_time": "2022-10-07T12:47:50.380Z"
   }
  ],
  "kernelspec": {
   "display_name": "Python 3 (ipykernel)",
   "language": "python",
   "name": "python3"
  },
  "language_info": {
   "codemirror_mode": {
    "name": "ipython",
    "version": 3
   },
   "file_extension": ".py",
   "mimetype": "text/x-python",
   "name": "python",
   "nbconvert_exporter": "python",
   "pygments_lexer": "ipython3",
   "version": "3.9.5"
  },
  "toc": {
   "base_numbering": 1,
   "nav_menu": {},
   "number_sections": true,
   "sideBar": true,
   "skip_h1_title": true,
   "title_cell": "Содержание",
   "title_sidebar": "Contents",
   "toc_cell": true,
   "toc_position": {
    "height": "calc(100% - 180px)",
    "left": "10px",
    "top": "150px",
    "width": "165px"
   },
   "toc_section_display": true,
   "toc_window_display": true
  }
 },
 "nbformat": 4,
 "nbformat_minor": 2
}
