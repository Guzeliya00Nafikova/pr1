{
 "cells": [
  {
   "cell_type": "markdown",
   "metadata": {},
   "source": [
    "# Определение стоимости автомобилей"
   ]
  },
  {
   "cell_type": "markdown",
   "metadata": {},
   "source": [
    "Сервис по продаже автомобилей с пробегом «Не бит, не крашен» разрабатывает приложение для привлечения новых клиентов. В нём можно быстро узнать рыночную стоимость своего автомобиля. В нашем распоряжении исторические данные: технические характеристики, комплектации и цены автомобилей. Нужно построить модель для определения стоимости. \n",
    "\n",
    "Заказчику важны:\n",
    "\n",
    "- качество предсказания;\n",
    "- скорость предсказания;\n",
    "- время обучения.\n",
    "\n",
    "Признаки:\n",
    "- DateCrawled — дата скачивания анкеты из базы\n",
    "- VehicleType — тип автомобильного кузова\n",
    "- RegistrationYear — год регистрации автомобиля\n",
    "- Gearbox — тип коробки передач\n",
    "- Power — мощность (л. с.)\n",
    "- Model — модель автомобиля\n",
    "- Kilometer — пробег (км)\n",
    "- RegistrationMonth — месяц регистрации автомобиля\n",
    "- FuelType — тип топлива\n",
    "- Brand — марка автомобиля\n",
    "- Repaired — была машина в ремонте или нет\n",
    "- DateCreated — дата создания анкеты\n",
    "- NumberOfPictures — количество фотографий автомобиля\n",
    "- PostalCode — почтовый индекс владельца анкеты (пользователя)\n",
    "- LastSeen — дата последней активности пользователя\n",
    "\n",
    "Нам нужно:\n",
    "1. Загрузить данные\n",
    "2. Провести исследовательский анализ данных\n",
    "3. Обучить разные модели \n",
    "4. Сравнить результаты и выбрать лучшую\n",
    "\n",
    "Для оценки качества моделей используем метрику RMSE."
   ]
  },
  {
   "cell_type": "markdown",
   "metadata": {},
   "source": [
    "## Подготовка данных"
   ]
  },
  {
   "cell_type": "markdown",
   "metadata": {},
   "source": [
    "Импортируем необходимые библиотеки и откроем файл"
   ]
  },
  {
   "cell_type": "code",
   "execution_count": 223,
   "metadata": {},
   "outputs": [],
   "source": [
    "import pandas as pd\n",
    "from sklearn.linear_model import LinearRegression\n",
    "from sklearn.model_selection import train_test_split, cross_val_score, GridSearchCV\n",
    "from sklearn.preprocessing import StandardScaler, OneHotEncoder, OrdinalEncoder\n",
    "from sklearn.metrics import mean_squared_error\n",
    "from sklearn.tree import DecisionTreeRegressor\n",
    "from sklearn.ensemble import RandomForestRegressor\n",
    "from sklearn.dummy import DummyRegressor\n",
    "from catboost import CatBoostRegressor\n",
    "import lightgbm as lgb"
   ]
  },
  {
   "cell_type": "code",
   "execution_count": 224,
   "metadata": {},
   "outputs": [],
   "source": [
    "df = pd.read_csv('/datasets/autos.csv')"
   ]
  },
  {
   "cell_type": "markdown",
   "metadata": {},
   "source": [
    "Посмотрим на общую информацию"
   ]
  },
  {
   "cell_type": "code",
   "execution_count": 225,
   "metadata": {},
   "outputs": [
    {
     "name": "stdout",
     "output_type": "stream",
     "text": [
      "<class 'pandas.core.frame.DataFrame'>\n",
      "RangeIndex: 354369 entries, 0 to 354368\n",
      "Data columns (total 16 columns):\n",
      " #   Column             Non-Null Count   Dtype \n",
      "---  ------             --------------   ----- \n",
      " 0   DateCrawled        354369 non-null  object\n",
      " 1   Price              354369 non-null  int64 \n",
      " 2   VehicleType        316879 non-null  object\n",
      " 3   RegistrationYear   354369 non-null  int64 \n",
      " 4   Gearbox            334536 non-null  object\n",
      " 5   Power              354369 non-null  int64 \n",
      " 6   Model              334664 non-null  object\n",
      " 7   Kilometer          354369 non-null  int64 \n",
      " 8   RegistrationMonth  354369 non-null  int64 \n",
      " 9   FuelType           321474 non-null  object\n",
      " 10  Brand              354369 non-null  object\n",
      " 11  Repaired           283215 non-null  object\n",
      " 12  DateCreated        354369 non-null  object\n",
      " 13  NumberOfPictures   354369 non-null  int64 \n",
      " 14  PostalCode         354369 non-null  int64 \n",
      " 15  LastSeen           354369 non-null  object\n",
      "dtypes: int64(7), object(9)\n",
      "memory usage: 43.3+ MB\n"
     ]
    }
   ],
   "source": [
    "df.info()"
   ]
  },
  {
   "cell_type": "code",
   "execution_count": 226,
   "metadata": {},
   "outputs": [
    {
     "data": {
      "text/plain": [
       "DateCrawled          0.000000\n",
       "Price                0.000000\n",
       "VehicleType          0.105794\n",
       "RegistrationYear     0.000000\n",
       "Gearbox              0.055967\n",
       "Power                0.000000\n",
       "Model                0.055606\n",
       "Kilometer            0.000000\n",
       "RegistrationMonth    0.000000\n",
       "FuelType             0.092827\n",
       "Brand                0.000000\n",
       "Repaired             0.200791\n",
       "DateCreated          0.000000\n",
       "NumberOfPictures     0.000000\n",
       "PostalCode           0.000000\n",
       "LastSeen             0.000000\n",
       "dtype: float64"
      ]
     },
     "execution_count": 226,
     "metadata": {},
     "output_type": "execute_result"
    }
   ],
   "source": [
    "df.isna().mean()"
   ]
  },
  {
   "cell_type": "code",
   "execution_count": 227,
   "metadata": {},
   "outputs": [
    {
     "data": {
      "text/html": [
       "<div>\n",
       "<style scoped>\n",
       "    .dataframe tbody tr th:only-of-type {\n",
       "        vertical-align: middle;\n",
       "    }\n",
       "\n",
       "    .dataframe tbody tr th {\n",
       "        vertical-align: top;\n",
       "    }\n",
       "\n",
       "    .dataframe thead th {\n",
       "        text-align: right;\n",
       "    }\n",
       "</style>\n",
       "<table border=\"1\" class=\"dataframe\">\n",
       "  <thead>\n",
       "    <tr style=\"text-align: right;\">\n",
       "      <th></th>\n",
       "      <th>DateCrawled</th>\n",
       "      <th>Price</th>\n",
       "      <th>VehicleType</th>\n",
       "      <th>RegistrationYear</th>\n",
       "      <th>Gearbox</th>\n",
       "      <th>Power</th>\n",
       "      <th>Model</th>\n",
       "      <th>Kilometer</th>\n",
       "      <th>RegistrationMonth</th>\n",
       "      <th>FuelType</th>\n",
       "      <th>Brand</th>\n",
       "      <th>Repaired</th>\n",
       "      <th>DateCreated</th>\n",
       "      <th>NumberOfPictures</th>\n",
       "      <th>PostalCode</th>\n",
       "      <th>LastSeen</th>\n",
       "    </tr>\n",
       "  </thead>\n",
       "  <tbody>\n",
       "    <tr>\n",
       "      <th>0</th>\n",
       "      <td>2016-03-24 11:52:17</td>\n",
       "      <td>480</td>\n",
       "      <td>NaN</td>\n",
       "      <td>1993</td>\n",
       "      <td>manual</td>\n",
       "      <td>0</td>\n",
       "      <td>golf</td>\n",
       "      <td>150000</td>\n",
       "      <td>0</td>\n",
       "      <td>petrol</td>\n",
       "      <td>volkswagen</td>\n",
       "      <td>NaN</td>\n",
       "      <td>2016-03-24 00:00:00</td>\n",
       "      <td>0</td>\n",
       "      <td>70435</td>\n",
       "      <td>2016-04-07 03:16:57</td>\n",
       "    </tr>\n",
       "    <tr>\n",
       "      <th>1</th>\n",
       "      <td>2016-03-24 10:58:45</td>\n",
       "      <td>18300</td>\n",
       "      <td>coupe</td>\n",
       "      <td>2011</td>\n",
       "      <td>manual</td>\n",
       "      <td>190</td>\n",
       "      <td>NaN</td>\n",
       "      <td>125000</td>\n",
       "      <td>5</td>\n",
       "      <td>gasoline</td>\n",
       "      <td>audi</td>\n",
       "      <td>yes</td>\n",
       "      <td>2016-03-24 00:00:00</td>\n",
       "      <td>0</td>\n",
       "      <td>66954</td>\n",
       "      <td>2016-04-07 01:46:50</td>\n",
       "    </tr>\n",
       "    <tr>\n",
       "      <th>2</th>\n",
       "      <td>2016-03-14 12:52:21</td>\n",
       "      <td>9800</td>\n",
       "      <td>suv</td>\n",
       "      <td>2004</td>\n",
       "      <td>auto</td>\n",
       "      <td>163</td>\n",
       "      <td>grand</td>\n",
       "      <td>125000</td>\n",
       "      <td>8</td>\n",
       "      <td>gasoline</td>\n",
       "      <td>jeep</td>\n",
       "      <td>NaN</td>\n",
       "      <td>2016-03-14 00:00:00</td>\n",
       "      <td>0</td>\n",
       "      <td>90480</td>\n",
       "      <td>2016-04-05 12:47:46</td>\n",
       "    </tr>\n",
       "    <tr>\n",
       "      <th>3</th>\n",
       "      <td>2016-03-17 16:54:04</td>\n",
       "      <td>1500</td>\n",
       "      <td>small</td>\n",
       "      <td>2001</td>\n",
       "      <td>manual</td>\n",
       "      <td>75</td>\n",
       "      <td>golf</td>\n",
       "      <td>150000</td>\n",
       "      <td>6</td>\n",
       "      <td>petrol</td>\n",
       "      <td>volkswagen</td>\n",
       "      <td>no</td>\n",
       "      <td>2016-03-17 00:00:00</td>\n",
       "      <td>0</td>\n",
       "      <td>91074</td>\n",
       "      <td>2016-03-17 17:40:17</td>\n",
       "    </tr>\n",
       "    <tr>\n",
       "      <th>4</th>\n",
       "      <td>2016-03-31 17:25:20</td>\n",
       "      <td>3600</td>\n",
       "      <td>small</td>\n",
       "      <td>2008</td>\n",
       "      <td>manual</td>\n",
       "      <td>69</td>\n",
       "      <td>fabia</td>\n",
       "      <td>90000</td>\n",
       "      <td>7</td>\n",
       "      <td>gasoline</td>\n",
       "      <td>skoda</td>\n",
       "      <td>no</td>\n",
       "      <td>2016-03-31 00:00:00</td>\n",
       "      <td>0</td>\n",
       "      <td>60437</td>\n",
       "      <td>2016-04-06 10:17:21</td>\n",
       "    </tr>\n",
       "  </tbody>\n",
       "</table>\n",
       "</div>"
      ],
      "text/plain": [
       "           DateCrawled  Price VehicleType  RegistrationYear Gearbox  Power  \\\n",
       "0  2016-03-24 11:52:17    480         NaN              1993  manual      0   \n",
       "1  2016-03-24 10:58:45  18300       coupe              2011  manual    190   \n",
       "2  2016-03-14 12:52:21   9800         suv              2004    auto    163   \n",
       "3  2016-03-17 16:54:04   1500       small              2001  manual     75   \n",
       "4  2016-03-31 17:25:20   3600       small              2008  manual     69   \n",
       "\n",
       "   Model  Kilometer  RegistrationMonth  FuelType       Brand Repaired  \\\n",
       "0   golf     150000                  0    petrol  volkswagen      NaN   \n",
       "1    NaN     125000                  5  gasoline        audi      yes   \n",
       "2  grand     125000                  8  gasoline        jeep      NaN   \n",
       "3   golf     150000                  6    petrol  volkswagen       no   \n",
       "4  fabia      90000                  7  gasoline       skoda       no   \n",
       "\n",
       "           DateCreated  NumberOfPictures  PostalCode             LastSeen  \n",
       "0  2016-03-24 00:00:00                 0       70435  2016-04-07 03:16:57  \n",
       "1  2016-03-24 00:00:00                 0       66954  2016-04-07 01:46:50  \n",
       "2  2016-03-14 00:00:00                 0       90480  2016-04-05 12:47:46  \n",
       "3  2016-03-17 00:00:00                 0       91074  2016-03-17 17:40:17  \n",
       "4  2016-03-31 00:00:00                 0       60437  2016-04-06 10:17:21  "
      ]
     },
     "execution_count": 227,
     "metadata": {},
     "output_type": "execute_result"
    }
   ],
   "source": [
    "df.head()"
   ]
  },
  {
   "cell_type": "markdown",
   "metadata": {},
   "source": [
    "Есть пропущенные значения в столбцах VehicleType, Gearbox, Model, FuelType, NotRepaired. По всем столбцам укажем no info т.к сложно определить по какой причине отсутсвует информация, в столбце была машина в ремонте или нет информация пропущена скорее всего по причине того что ремонта не было, предположим так и укажем Нет вместо пропущенных значений"
   ]
  },
  {
   "cell_type": "code",
   "execution_count": 228,
   "metadata": {},
   "outputs": [],
   "source": [
    "df.columns = df.columns.str.lower()"
   ]
  },
  {
   "cell_type": "code",
   "execution_count": 229,
   "metadata": {},
   "outputs": [],
   "source": [
    "df['repaired'] = df['repaired'].fillna('no')\n",
    "df['vehicletype'] = df['vehicletype'].fillna('no info')\n",
    "df['gearbox'] = df['gearbox'].fillna('no info')\n",
    "df['model'] = df['model'].fillna('no info')\n",
    "df['fueltype'] = df['fueltype'].fillna('no info')"
   ]
  },
  {
   "cell_type": "markdown",
   "metadata": {},
   "source": [
    "Готово. Приведем столбец notrepaired в числовой вид"
   ]
  },
  {
   "cell_type": "code",
   "execution_count": 230,
   "metadata": {},
   "outputs": [],
   "source": [
    "df['repaired'] = df['repaired'].map({'yes': 1, 'no': 0})"
   ]
  },
  {
   "cell_type": "markdown",
   "metadata": {},
   "source": [
    "Удалим лишние столбцы, например столбец numberofpictures, во всех строках указано 0, и столбцы с датами которые нам не понадобятся тоже удалим"
   ]
  },
  {
   "cell_type": "code",
   "execution_count": 231,
   "metadata": {},
   "outputs": [
    {
     "data": {
      "text/plain": [
       "0"
      ]
     },
     "execution_count": 231,
     "metadata": {},
     "output_type": "execute_result"
    }
   ],
   "source": [
    "df['numberofpictures'].sum()"
   ]
  },
  {
   "cell_type": "code",
   "execution_count": 232,
   "metadata": {},
   "outputs": [],
   "source": [
    "df = df.drop(labels=['numberofpictures','datecrawled','datecreated','lastseen'],axis=1)"
   ]
  },
  {
   "cell_type": "markdown",
   "metadata": {},
   "source": [
    "Прверим данные на дубликаты и удалим их"
   ]
  },
  {
   "cell_type": "code",
   "execution_count": 233,
   "metadata": {},
   "outputs": [
    {
     "data": {
      "text/plain": [
       "23697"
      ]
     },
     "execution_count": 233,
     "metadata": {},
     "output_type": "execute_result"
    }
   ],
   "source": [
    "df.duplicated().sum()"
   ]
  },
  {
   "cell_type": "code",
   "execution_count": 234,
   "metadata": {},
   "outputs": [],
   "source": [
    "df = df.drop_duplicates().reset_index(drop=True)"
   ]
  },
  {
   "cell_type": "code",
   "execution_count": 235,
   "metadata": {},
   "outputs": [
    {
     "data": {
      "text/plain": [
       "0"
      ]
     },
     "execution_count": 235,
     "metadata": {},
     "output_type": "execute_result"
    }
   ],
   "source": [
    "df.duplicated().sum()"
   ]
  },
  {
   "cell_type": "markdown",
   "metadata": {},
   "source": [
    "Посмотрим что получилось"
   ]
  },
  {
   "cell_type": "code",
   "execution_count": 236,
   "metadata": {},
   "outputs": [
    {
     "data": {
      "text/html": [
       "<div>\n",
       "<style scoped>\n",
       "    .dataframe tbody tr th:only-of-type {\n",
       "        vertical-align: middle;\n",
       "    }\n",
       "\n",
       "    .dataframe tbody tr th {\n",
       "        vertical-align: top;\n",
       "    }\n",
       "\n",
       "    .dataframe thead th {\n",
       "        text-align: right;\n",
       "    }\n",
       "</style>\n",
       "<table border=\"1\" class=\"dataframe\">\n",
       "  <thead>\n",
       "    <tr style=\"text-align: right;\">\n",
       "      <th></th>\n",
       "      <th>price</th>\n",
       "      <th>vehicletype</th>\n",
       "      <th>registrationyear</th>\n",
       "      <th>gearbox</th>\n",
       "      <th>power</th>\n",
       "      <th>model</th>\n",
       "      <th>kilometer</th>\n",
       "      <th>registrationmonth</th>\n",
       "      <th>fueltype</th>\n",
       "      <th>brand</th>\n",
       "      <th>repaired</th>\n",
       "      <th>postalcode</th>\n",
       "    </tr>\n",
       "  </thead>\n",
       "  <tbody>\n",
       "    <tr>\n",
       "      <th>0</th>\n",
       "      <td>480</td>\n",
       "      <td>no info</td>\n",
       "      <td>1993</td>\n",
       "      <td>manual</td>\n",
       "      <td>0</td>\n",
       "      <td>golf</td>\n",
       "      <td>150000</td>\n",
       "      <td>0</td>\n",
       "      <td>petrol</td>\n",
       "      <td>volkswagen</td>\n",
       "      <td>0</td>\n",
       "      <td>70435</td>\n",
       "    </tr>\n",
       "    <tr>\n",
       "      <th>1</th>\n",
       "      <td>18300</td>\n",
       "      <td>coupe</td>\n",
       "      <td>2011</td>\n",
       "      <td>manual</td>\n",
       "      <td>190</td>\n",
       "      <td>no info</td>\n",
       "      <td>125000</td>\n",
       "      <td>5</td>\n",
       "      <td>gasoline</td>\n",
       "      <td>audi</td>\n",
       "      <td>1</td>\n",
       "      <td>66954</td>\n",
       "    </tr>\n",
       "    <tr>\n",
       "      <th>2</th>\n",
       "      <td>9800</td>\n",
       "      <td>suv</td>\n",
       "      <td>2004</td>\n",
       "      <td>auto</td>\n",
       "      <td>163</td>\n",
       "      <td>grand</td>\n",
       "      <td>125000</td>\n",
       "      <td>8</td>\n",
       "      <td>gasoline</td>\n",
       "      <td>jeep</td>\n",
       "      <td>0</td>\n",
       "      <td>90480</td>\n",
       "    </tr>\n",
       "    <tr>\n",
       "      <th>3</th>\n",
       "      <td>1500</td>\n",
       "      <td>small</td>\n",
       "      <td>2001</td>\n",
       "      <td>manual</td>\n",
       "      <td>75</td>\n",
       "      <td>golf</td>\n",
       "      <td>150000</td>\n",
       "      <td>6</td>\n",
       "      <td>petrol</td>\n",
       "      <td>volkswagen</td>\n",
       "      <td>0</td>\n",
       "      <td>91074</td>\n",
       "    </tr>\n",
       "    <tr>\n",
       "      <th>4</th>\n",
       "      <td>3600</td>\n",
       "      <td>small</td>\n",
       "      <td>2008</td>\n",
       "      <td>manual</td>\n",
       "      <td>69</td>\n",
       "      <td>fabia</td>\n",
       "      <td>90000</td>\n",
       "      <td>7</td>\n",
       "      <td>gasoline</td>\n",
       "      <td>skoda</td>\n",
       "      <td>0</td>\n",
       "      <td>60437</td>\n",
       "    </tr>\n",
       "  </tbody>\n",
       "</table>\n",
       "</div>"
      ],
      "text/plain": [
       "   price vehicletype  registrationyear gearbox  power    model  kilometer  \\\n",
       "0    480     no info              1993  manual      0     golf     150000   \n",
       "1  18300       coupe              2011  manual    190  no info     125000   \n",
       "2   9800         suv              2004    auto    163    grand     125000   \n",
       "3   1500       small              2001  manual     75     golf     150000   \n",
       "4   3600       small              2008  manual     69    fabia      90000   \n",
       "\n",
       "   registrationmonth  fueltype       brand  repaired  postalcode  \n",
       "0                  0    petrol  volkswagen         0       70435  \n",
       "1                  5  gasoline        audi         1       66954  \n",
       "2                  8  gasoline        jeep         0       90480  \n",
       "3                  6    petrol  volkswagen         0       91074  \n",
       "4                  7  gasoline       skoda         0       60437  "
      ]
     },
     "execution_count": 236,
     "metadata": {},
     "output_type": "execute_result"
    }
   ],
   "source": [
    "df.head()"
   ]
  },
  {
   "cell_type": "code",
   "execution_count": 60,
   "metadata": {},
   "outputs": [
    {
     "data": {
      "text/plain": [
       "0"
      ]
     },
     "execution_count": 60,
     "metadata": {},
     "output_type": "execute_result"
    }
   ],
   "source": [
    "df.isna().sum().sum()"
   ]
  },
  {
   "cell_type": "markdown",
   "metadata": {},
   "source": [
    "Пропущенных значений нет, данные готовы"
   ]
  },
  {
   "cell_type": "code",
   "execution_count": 237,
   "metadata": {},
   "outputs": [
    {
     "data": {
      "text/html": [
       "<div>\n",
       "<style scoped>\n",
       "    .dataframe tbody tr th:only-of-type {\n",
       "        vertical-align: middle;\n",
       "    }\n",
       "\n",
       "    .dataframe tbody tr th {\n",
       "        vertical-align: top;\n",
       "    }\n",
       "\n",
       "    .dataframe thead th {\n",
       "        text-align: right;\n",
       "    }\n",
       "</style>\n",
       "<table border=\"1\" class=\"dataframe\">\n",
       "  <thead>\n",
       "    <tr style=\"text-align: right;\">\n",
       "      <th></th>\n",
       "      <th>price</th>\n",
       "      <th>registrationyear</th>\n",
       "      <th>power</th>\n",
       "      <th>kilometer</th>\n",
       "      <th>registrationmonth</th>\n",
       "      <th>repaired</th>\n",
       "      <th>postalcode</th>\n",
       "    </tr>\n",
       "  </thead>\n",
       "  <tbody>\n",
       "    <tr>\n",
       "      <th>count</th>\n",
       "      <td>330672.000000</td>\n",
       "      <td>330672.000000</td>\n",
       "      <td>330672.000000</td>\n",
       "      <td>330672.000000</td>\n",
       "      <td>330672.000000</td>\n",
       "      <td>330672.000000</td>\n",
       "      <td>330672.000000</td>\n",
       "    </tr>\n",
       "    <tr>\n",
       "      <th>mean</th>\n",
       "      <td>4376.277744</td>\n",
       "      <td>2004.204420</td>\n",
       "      <td>109.705082</td>\n",
       "      <td>128276.963275</td>\n",
       "      <td>5.689396</td>\n",
       "      <td>0.104778</td>\n",
       "      <td>50683.262577</td>\n",
       "    </tr>\n",
       "    <tr>\n",
       "      <th>std</th>\n",
       "      <td>4505.024019</td>\n",
       "      <td>90.592673</td>\n",
       "      <td>194.925268</td>\n",
       "      <td>37934.650280</td>\n",
       "      <td>3.729673</td>\n",
       "      <td>0.306267</td>\n",
       "      <td>25805.591756</td>\n",
       "    </tr>\n",
       "    <tr>\n",
       "      <th>min</th>\n",
       "      <td>0.000000</td>\n",
       "      <td>1000.000000</td>\n",
       "      <td>0.000000</td>\n",
       "      <td>5000.000000</td>\n",
       "      <td>0.000000</td>\n",
       "      <td>0.000000</td>\n",
       "      <td>1067.000000</td>\n",
       "    </tr>\n",
       "    <tr>\n",
       "      <th>25%</th>\n",
       "      <td>1000.000000</td>\n",
       "      <td>1999.000000</td>\n",
       "      <td>68.000000</td>\n",
       "      <td>125000.000000</td>\n",
       "      <td>3.000000</td>\n",
       "      <td>0.000000</td>\n",
       "      <td>30179.000000</td>\n",
       "    </tr>\n",
       "    <tr>\n",
       "      <th>50%</th>\n",
       "      <td>2690.000000</td>\n",
       "      <td>2003.000000</td>\n",
       "      <td>103.000000</td>\n",
       "      <td>150000.000000</td>\n",
       "      <td>6.000000</td>\n",
       "      <td>0.000000</td>\n",
       "      <td>49477.000000</td>\n",
       "    </tr>\n",
       "    <tr>\n",
       "      <th>75%</th>\n",
       "      <td>6299.000000</td>\n",
       "      <td>2008.000000</td>\n",
       "      <td>140.000000</td>\n",
       "      <td>150000.000000</td>\n",
       "      <td>9.000000</td>\n",
       "      <td>0.000000</td>\n",
       "      <td>71334.000000</td>\n",
       "    </tr>\n",
       "    <tr>\n",
       "      <th>max</th>\n",
       "      <td>20000.000000</td>\n",
       "      <td>9999.000000</td>\n",
       "      <td>20000.000000</td>\n",
       "      <td>150000.000000</td>\n",
       "      <td>12.000000</td>\n",
       "      <td>1.000000</td>\n",
       "      <td>99998.000000</td>\n",
       "    </tr>\n",
       "  </tbody>\n",
       "</table>\n",
       "</div>"
      ],
      "text/plain": [
       "               price  registrationyear          power      kilometer  \\\n",
       "count  330672.000000     330672.000000  330672.000000  330672.000000   \n",
       "mean     4376.277744       2004.204420     109.705082  128276.963275   \n",
       "std      4505.024019         90.592673     194.925268   37934.650280   \n",
       "min         0.000000       1000.000000       0.000000    5000.000000   \n",
       "25%      1000.000000       1999.000000      68.000000  125000.000000   \n",
       "50%      2690.000000       2003.000000     103.000000  150000.000000   \n",
       "75%      6299.000000       2008.000000     140.000000  150000.000000   \n",
       "max     20000.000000       9999.000000   20000.000000  150000.000000   \n",
       "\n",
       "       registrationmonth       repaired     postalcode  \n",
       "count      330672.000000  330672.000000  330672.000000  \n",
       "mean            5.689396       0.104778   50683.262577  \n",
       "std             3.729673       0.306267   25805.591756  \n",
       "min             0.000000       0.000000    1067.000000  \n",
       "25%             3.000000       0.000000   30179.000000  \n",
       "50%             6.000000       0.000000   49477.000000  \n",
       "75%             9.000000       0.000000   71334.000000  \n",
       "max            12.000000       1.000000   99998.000000  "
      ]
     },
     "execution_count": 237,
     "metadata": {},
     "output_type": "execute_result"
    }
   ],
   "source": [
    "df.describe()"
   ]
  },
  {
   "cell_type": "markdown",
   "metadata": {},
   "source": [
    "Необходимо удалить аномальные значения, в столбце Price удалим стоимость 0"
   ]
  },
  {
   "cell_type": "code",
   "execution_count": 238,
   "metadata": {},
   "outputs": [
    {
     "data": {
      "text/plain": [
       "9983"
      ]
     },
     "execution_count": 238,
     "metadata": {},
     "output_type": "execute_result"
    }
   ],
   "source": [
    "df[df['price'] == 0]['price'].count()"
   ]
  },
  {
   "cell_type": "code",
   "execution_count": 239,
   "metadata": {},
   "outputs": [],
   "source": [
    "df = df[df['price'] != 0]"
   ]
  },
  {
   "cell_type": "markdown",
   "metadata": {},
   "source": [
    "В столбце Год регистрации есть даты больше 2017. Максимальный год — дата скачивания анкеты 2016."
   ]
  },
  {
   "cell_type": "code",
   "execution_count": 240,
   "metadata": {},
   "outputs": [
    {
     "data": {
      "text/plain": [
       "13167"
      ]
     },
     "execution_count": 240,
     "metadata": {},
     "output_type": "execute_result"
    }
   ],
   "source": [
    "df[df['registrationyear'] >= 2017]['registrationyear'].count()"
   ]
  },
  {
   "cell_type": "code",
   "execution_count": 241,
   "metadata": {},
   "outputs": [
    {
     "data": {
      "text/plain": [
       "50"
      ]
     },
     "execution_count": 241,
     "metadata": {},
     "output_type": "execute_result"
    }
   ],
   "source": [
    "df[df['registrationyear'] < 1900]['registrationyear'].count()"
   ]
  },
  {
   "cell_type": "code",
   "execution_count": 242,
   "metadata": {},
   "outputs": [],
   "source": [
    "df = df[(df['registrationyear'] < 2017) & (df['registrationyear'] > 1900)]"
   ]
  },
  {
   "cell_type": "markdown",
   "metadata": {},
   "source": [
    "Мощность возьмем от 50 до 500"
   ]
  },
  {
   "cell_type": "code",
   "execution_count": 243,
   "metadata": {},
   "outputs": [
    {
     "data": {
      "text/plain": [
       "417"
      ]
     },
     "execution_count": 243,
     "metadata": {},
     "output_type": "execute_result"
    }
   ],
   "source": [
    "df[df['power'] >= 500]['power'].count()"
   ]
  },
  {
   "cell_type": "code",
   "execution_count": 244,
   "metadata": {},
   "outputs": [
    {
     "data": {
      "text/plain": [
       "40802"
      ]
     },
     "execution_count": 244,
     "metadata": {},
     "output_type": "execute_result"
    }
   ],
   "source": [
    "df[df['power'] <= 50]['power'].count()"
   ]
  },
  {
   "cell_type": "code",
   "execution_count": 245,
   "metadata": {},
   "outputs": [],
   "source": [
    "df = df[(df['power'] < 500) & (df['power'] > 50)]"
   ]
  },
  {
   "cell_type": "markdown",
   "metadata": {},
   "source": [
    "Месяц регистрации 0 явно какая то ошибка, удалим их"
   ]
  },
  {
   "cell_type": "code",
   "execution_count": 246,
   "metadata": {},
   "outputs": [
    {
     "data": {
      "text/plain": [
       "16254"
      ]
     },
     "execution_count": 246,
     "metadata": {},
     "output_type": "execute_result"
    }
   ],
   "source": [
    "df[df['registrationmonth'] == 0]['registrationmonth'].count()"
   ]
  },
  {
   "cell_type": "code",
   "execution_count": 247,
   "metadata": {},
   "outputs": [],
   "source": [
    "df = df[df['registrationmonth'] != 0]"
   ]
  },
  {
   "cell_type": "markdown",
   "metadata": {},
   "source": [
    "Здесь я поменяла тип категориальных данных на Category для построения модели LightGBM"
   ]
  },
  {
   "cell_type": "code",
   "execution_count": 248,
   "metadata": {},
   "outputs": [],
   "source": [
    "df[['vehicletype','gearbox','model','fueltype','brand']] = df[['vehicletype','gearbox','model','fueltype','brand']].astype('category')"
   ]
  },
  {
   "cell_type": "code",
   "execution_count": 249,
   "metadata": {},
   "outputs": [
    {
     "name": "stdout",
     "output_type": "stream",
     "text": [
      "<class 'pandas.core.frame.DataFrame'>\n",
      "Int64Index: 249999 entries, 1 to 330671\n",
      "Data columns (total 12 columns):\n",
      " #   Column             Non-Null Count   Dtype   \n",
      "---  ------             --------------   -----   \n",
      " 0   price              249999 non-null  int64   \n",
      " 1   vehicletype        249999 non-null  category\n",
      " 2   registrationyear   249999 non-null  int64   \n",
      " 3   gearbox            249999 non-null  category\n",
      " 4   power              249999 non-null  int64   \n",
      " 5   model              249999 non-null  category\n",
      " 6   kilometer          249999 non-null  int64   \n",
      " 7   registrationmonth  249999 non-null  int64   \n",
      " 8   fueltype           249999 non-null  category\n",
      " 9   brand              249999 non-null  category\n",
      " 10  repaired           249999 non-null  int64   \n",
      " 11  postalcode         249999 non-null  int64   \n",
      "dtypes: category(5), int64(7)\n",
      "memory usage: 16.7 MB\n"
     ]
    }
   ],
   "source": [
    "df.info()"
   ]
  },
  {
   "cell_type": "markdown",
   "metadata": {},
   "source": [
    "Готово"
   ]
  },
  {
   "cell_type": "markdown",
   "metadata": {},
   "source": [
    "## Обучение моделей"
   ]
  },
  {
   "cell_type": "markdown",
   "metadata": {},
   "source": [
    "Проведем кодирование данных"
   ]
  },
  {
   "cell_type": "code",
   "execution_count": 250,
   "metadata": {},
   "outputs": [
    {
     "data": {
      "text/html": [
       "<div>\n",
       "<style scoped>\n",
       "    .dataframe tbody tr th:only-of-type {\n",
       "        vertical-align: middle;\n",
       "    }\n",
       "\n",
       "    .dataframe tbody tr th {\n",
       "        vertical-align: top;\n",
       "    }\n",
       "\n",
       "    .dataframe thead th {\n",
       "        text-align: right;\n",
       "    }\n",
       "</style>\n",
       "<table border=\"1\" class=\"dataframe\">\n",
       "  <thead>\n",
       "    <tr style=\"text-align: right;\">\n",
       "      <th></th>\n",
       "      <th>price</th>\n",
       "      <th>vehicletype</th>\n",
       "      <th>registrationyear</th>\n",
       "      <th>gearbox</th>\n",
       "      <th>power</th>\n",
       "      <th>model</th>\n",
       "      <th>kilometer</th>\n",
       "      <th>registrationmonth</th>\n",
       "      <th>fueltype</th>\n",
       "      <th>brand</th>\n",
       "      <th>repaired</th>\n",
       "      <th>postalcode</th>\n",
       "    </tr>\n",
       "  </thead>\n",
       "  <tbody>\n",
       "    <tr>\n",
       "      <th>1</th>\n",
       "      <td>18300</td>\n",
       "      <td>coupe</td>\n",
       "      <td>2011</td>\n",
       "      <td>manual</td>\n",
       "      <td>190</td>\n",
       "      <td>no info</td>\n",
       "      <td>125000</td>\n",
       "      <td>5</td>\n",
       "      <td>gasoline</td>\n",
       "      <td>audi</td>\n",
       "      <td>1</td>\n",
       "      <td>66954</td>\n",
       "    </tr>\n",
       "    <tr>\n",
       "      <th>2</th>\n",
       "      <td>9800</td>\n",
       "      <td>suv</td>\n",
       "      <td>2004</td>\n",
       "      <td>auto</td>\n",
       "      <td>163</td>\n",
       "      <td>grand</td>\n",
       "      <td>125000</td>\n",
       "      <td>8</td>\n",
       "      <td>gasoline</td>\n",
       "      <td>jeep</td>\n",
       "      <td>0</td>\n",
       "      <td>90480</td>\n",
       "    </tr>\n",
       "    <tr>\n",
       "      <th>3</th>\n",
       "      <td>1500</td>\n",
       "      <td>small</td>\n",
       "      <td>2001</td>\n",
       "      <td>manual</td>\n",
       "      <td>75</td>\n",
       "      <td>golf</td>\n",
       "      <td>150000</td>\n",
       "      <td>6</td>\n",
       "      <td>petrol</td>\n",
       "      <td>volkswagen</td>\n",
       "      <td>0</td>\n",
       "      <td>91074</td>\n",
       "    </tr>\n",
       "    <tr>\n",
       "      <th>4</th>\n",
       "      <td>3600</td>\n",
       "      <td>small</td>\n",
       "      <td>2008</td>\n",
       "      <td>manual</td>\n",
       "      <td>69</td>\n",
       "      <td>fabia</td>\n",
       "      <td>90000</td>\n",
       "      <td>7</td>\n",
       "      <td>gasoline</td>\n",
       "      <td>skoda</td>\n",
       "      <td>0</td>\n",
       "      <td>60437</td>\n",
       "    </tr>\n",
       "    <tr>\n",
       "      <th>5</th>\n",
       "      <td>650</td>\n",
       "      <td>sedan</td>\n",
       "      <td>1995</td>\n",
       "      <td>manual</td>\n",
       "      <td>102</td>\n",
       "      <td>3er</td>\n",
       "      <td>150000</td>\n",
       "      <td>10</td>\n",
       "      <td>petrol</td>\n",
       "      <td>bmw</td>\n",
       "      <td>1</td>\n",
       "      <td>33775</td>\n",
       "    </tr>\n",
       "  </tbody>\n",
       "</table>\n",
       "</div>"
      ],
      "text/plain": [
       "   price vehicletype  registrationyear gearbox  power    model  kilometer  \\\n",
       "1  18300       coupe              2011  manual    190  no info     125000   \n",
       "2   9800         suv              2004    auto    163    grand     125000   \n",
       "3   1500       small              2001  manual     75     golf     150000   \n",
       "4   3600       small              2008  manual     69    fabia      90000   \n",
       "5    650       sedan              1995  manual    102      3er     150000   \n",
       "\n",
       "   registrationmonth  fueltype       brand  repaired  postalcode  \n",
       "1                  5  gasoline        audi         1       66954  \n",
       "2                  8  gasoline        jeep         0       90480  \n",
       "3                  6    petrol  volkswagen         0       91074  \n",
       "4                  7  gasoline       skoda         0       60437  \n",
       "5                 10    petrol         bmw         1       33775  "
      ]
     },
     "execution_count": 250,
     "metadata": {},
     "output_type": "execute_result"
    }
   ],
   "source": [
    "#df = pd.get_dummies(df, drop_first=True)\n",
    "df.head()"
   ]
  },
  {
   "cell_type": "markdown",
   "metadata": {},
   "source": [
    "Разделим данные на обучающую, валидационную и тестовую выборки"
   ]
  },
  {
   "cell_type": "code",
   "execution_count": 251,
   "metadata": {},
   "outputs": [],
   "source": [
    "target = df['price']\n",
    "features = df.drop('price', axis=1)"
   ]
  },
  {
   "cell_type": "code",
   "execution_count": 252,
   "metadata": {},
   "outputs": [],
   "source": [
    "features_train, features_valid_test, target_train, target_valid_test = train_test_split(\n",
    "    features, target, train_size=0.6, random_state=12345)\n",
    "features_valid, features_test, target_valid, target_test = train_test_split(\n",
    "    features_valid_test, target_valid_test, test_size=0.5, random_state=12345)"
   ]
  },
  {
   "cell_type": "markdown",
   "metadata": {},
   "source": [
    "Закодируем выборки двумя способами для разных моделей"
   ]
  },
  {
   "cell_type": "code",
   "execution_count": 255,
   "metadata": {},
   "outputs": [],
   "source": [
    "features_train_ohe = pd.get_dummies(features_train, drop_first=True)\n",
    "features_valid_ohe = pd.get_dummies(features_valid, drop_first=True)\n",
    "features_test_ohe = pd.get_dummies(features_test, drop_first=True)"
   ]
  },
  {
   "cell_type": "code",
   "execution_count": 256,
   "metadata": {},
   "outputs": [],
   "source": [
    "numeric = ['registrationyear', 'power', 'kilometer', 'registrationmonth', 'postalcode']\n",
    "categorical = ['vehicletype', 'gearbox', 'model', 'fueltype', 'brand']"
   ]
  },
  {
   "cell_type": "code",
   "execution_count": 257,
   "metadata": {},
   "outputs": [],
   "source": [
    "import copy\n",
    "features_train_enc = copy.deepcopy(features_train)\n",
    "features_valid_enc = copy.deepcopy(features_valid)"
   ]
  },
  {
   "cell_type": "code",
   "execution_count": 258,
   "metadata": {},
   "outputs": [],
   "source": [
    "enc = OrdinalEncoder()\n",
    "enc.fit(features_train_enc[categorical])\n",
    "features_train_enc[categorical] = enc.transform(features_train_enc[categorical])\n",
    "\n",
    "enc.fit(features_valid_enc[categorical])\n",
    "features_valid_enc[categorical] = enc.transform(features_valid_enc[categorical])"
   ]
  },
  {
   "cell_type": "markdown",
   "metadata": {},
   "source": [
    "Отмасштабируем признаки"
   ]
  },
  {
   "cell_type": "code",
   "execution_count": 259,
   "metadata": {},
   "outputs": [],
   "source": [
    "scaler = StandardScaler()\n",
    "scaler.fit(features_train_ohe[numeric])\n",
    "features_train_ohe[numeric] = scaler.transform(features_train_ohe[numeric])\n",
    "features_valid_ohe[numeric] = scaler.transform(features_valid_ohe[numeric])"
   ]
  },
  {
   "cell_type": "code",
   "execution_count": 260,
   "metadata": {},
   "outputs": [],
   "source": [
    "scaler = StandardScaler()\n",
    "scaler.fit(features_train_enc[numeric])\n",
    "features_train_enc[numeric] = scaler.transform(features_train_enc[numeric])\n",
    "features_valid_enc[numeric] = scaler.transform(features_valid_enc[numeric])"
   ]
  },
  {
   "cell_type": "markdown",
   "metadata": {},
   "source": [
    "Обучим модель линейной регрессии, для оценки качества моделей применим метрику RMSE"
   ]
  },
  {
   "cell_type": "code",
   "execution_count": 200,
   "metadata": {},
   "outputs": [
    {
     "name": "stdout",
     "output_type": "stream",
     "text": [
      "CPU times: user 3 µs, sys: 0 ns, total: 3 µs\n",
      "Wall time: 5.96 µs\n",
      "CPU times: user 24 µs, sys: 1e+03 ns, total: 25 µs\n",
      "Wall time: 9.54 µs\n"
     ]
    }
   ],
   "source": [
    "model = LinearRegression()\n",
    "%time\n",
    "model.fit(features_train_ohe, target_train)\n",
    "%time\n",
    "predictions = model.predict(features_valid_ohe)"
   ]
  },
  {
   "cell_type": "code",
   "execution_count": 264,
   "metadata": {},
   "outputs": [
    {
     "name": "stdout",
     "output_type": "stream",
     "text": [
      "2574.370523135408\n"
     ]
    }
   ],
   "source": [
    "rmse_lr = mean_squared_error(target_valid, predictions)**0.5\n",
    "print(rmse_lr)"
   ]
  },
  {
   "cell_type": "markdown",
   "metadata": {},
   "source": [
    "Для итогового анализа соберем все результаты в словарь"
   ]
  },
  {
   "cell_type": "code",
   "execution_count": 265,
   "metadata": {},
   "outputs": [],
   "source": [
    "result = {}\n",
    "result['LinearRegression'] = ['2574', '5.96 s', '9.54']"
   ]
  },
  {
   "cell_type": "markdown",
   "metadata": {},
   "source": [
    "Посмотрим какой результат покажет дерево"
   ]
  },
  {
   "cell_type": "code",
   "execution_count": 208,
   "metadata": {},
   "outputs": [
    {
     "name": "stdout",
     "output_type": "stream",
     "text": [
      "CPU times: user 3 µs, sys: 0 ns, total: 3 µs\n",
      "Wall time: 6.2 µs\n",
      "CPU times: user 4 µs, sys: 0 ns, total: 4 µs\n",
      "Wall time: 6.91 µs\n",
      "max_depth = 1 : 3693.5399942618033\n",
      "CPU times: user 4 µs, sys: 0 ns, total: 4 µs\n",
      "Wall time: 7.39 µs\n",
      "CPU times: user 0 ns, sys: 24 µs, total: 24 µs\n",
      "Wall time: 28.1 µs\n",
      "max_depth = 2 : 3239.559121743341\n",
      "CPU times: user 4 µs, sys: 0 ns, total: 4 µs\n",
      "Wall time: 8.11 µs\n",
      "CPU times: user 6 µs, sys: 0 ns, total: 6 µs\n",
      "Wall time: 9.06 µs\n",
      "max_depth = 3 : 2958.1321977975263\n",
      "CPU times: user 6 µs, sys: 0 ns, total: 6 µs\n",
      "Wall time: 10.3 µs\n",
      "CPU times: user 4 µs, sys: 0 ns, total: 4 µs\n",
      "Wall time: 6.91 µs\n",
      "max_depth = 4 : 2624.7050795973028\n",
      "CPU times: user 4 µs, sys: 0 ns, total: 4 µs\n",
      "Wall time: 7.63 µs\n",
      "CPU times: user 4 µs, sys: 0 ns, total: 4 µs\n",
      "Wall time: 6.91 µs\n",
      "max_depth = 5 : 2433.6420822443133\n"
     ]
    }
   ],
   "source": [
    "for depth in range(1,6):\n",
    "    model = DecisionTreeRegressor(random_state=12345, max_depth=depth)\n",
    "    %time\n",
    "    model.fit(features_train_enc,target_train)\n",
    "    %time\n",
    "    predictions_valid = model.predict(features_valid_enc)\n",
    "    \n",
    "    print(\"max_depth =\", depth, \": \", end='')\n",
    "    print(mean_squared_error(target_valid, predictions_valid)**0.5)"
   ]
  },
  {
   "cell_type": "code",
   "execution_count": 266,
   "metadata": {},
   "outputs": [],
   "source": [
    "result['DecisionTreeRegressor'] = ['2433', '7.63 s', '6.91 s']"
   ]
  },
  {
   "cell_type": "markdown",
   "metadata": {},
   "source": [
    "Обучим лес и используем гридсерч"
   ]
  },
  {
   "cell_type": "code",
   "execution_count": 213,
   "metadata": {},
   "outputs": [
    {
     "name": "stdout",
     "output_type": "stream",
     "text": [
      "CPU times: user 2 µs, sys: 0 ns, total: 2 µs\n",
      "Wall time: 5.72 µs\n",
      "CPU times: user 3 µs, sys: 0 ns, total: 3 µs\n",
      "Wall time: 5.96 µs\n",
      "RMSE_rfr = 1750.1389209569338 кол-во деревьев {'n_estimators': 10}\n"
     ]
    }
   ],
   "source": [
    "param = {'n_estimators':range(10,52,103)}\n",
    "model = RandomForestRegressor(random_state=12345)\n",
    "grid = GridSearchCV(model,param,cv=5,scoring='neg_mean_squared_error')\n",
    "%time\n",
    "grid.fit(features_train_enc,target_train)\n",
    "%time\n",
    "predicted_valid = grid.predict(features_valid_enc)\n",
    "rmse = (-grid.best_score_) ** 0.5\n",
    "print('RMSE_rfr =', rmse, 'кол-во деревьев',grid.best_params_)"
   ]
  },
  {
   "cell_type": "code",
   "execution_count": 267,
   "metadata": {},
   "outputs": [],
   "source": [
    "result['RandomForestRegressor'] = ['1750', '5.72 s', '5.96 s']"
   ]
  },
  {
   "cell_type": "markdown",
   "metadata": {},
   "source": [
    "Модель LightGBM"
   ]
  },
  {
   "cell_type": "code",
   "execution_count": 216,
   "metadata": {},
   "outputs": [
    {
     "name": "stdout",
     "output_type": "stream",
     "text": [
      "CPU times: user 2 µs, sys: 1 µs, total: 3 µs\n",
      "Wall time: 5.96 µs\n",
      "CPU times: user 3 µs, sys: 0 ns, total: 3 µs\n",
      "Wall time: 6.44 µs\n",
      "RMSE_lightgbm = 1649.5489375431312\n"
     ]
    }
   ],
   "source": [
    "model = lgb.LGBMRegressor(boosting_type='gbdt', num_leaves=31, max_depth=7, learning_rate=0.1, n_estimators=200)\n",
    "%time\n",
    "model.fit(features_train, target_train)\n",
    "%time\n",
    "predicted_valid = model.predict(features_valid)\n",
    "rmse = mean_squared_error(target_valid, predicted_valid)**0.5\n",
    "print('RMSE_lightgbm =', rmse)"
   ]
  },
  {
   "cell_type": "code",
   "execution_count": 268,
   "metadata": {},
   "outputs": [],
   "source": [
    "result['LGBMRegressor'] = ['1649', '5.96 s', '6.44 s']"
   ]
  },
  {
   "cell_type": "markdown",
   "metadata": {},
   "source": [
    "Модель CatBoost"
   ]
  },
  {
   "cell_type": "code",
   "execution_count": 261,
   "metadata": {},
   "outputs": [
    {
     "name": "stdout",
     "output_type": "stream",
     "text": [
      "CPU times: user 3 µs, sys: 0 ns, total: 3 µs\n",
      "Wall time: 6.2 µs\n",
      "Learning rate set to 0.5\n",
      "0:\tlearn: 3271.9695532\ttotal: 125ms\tremaining: 1.13s\n",
      "9:\tlearn: 1905.7717545\ttotal: 641ms\tremaining: 0us\n",
      "CPU times: user 3 µs, sys: 0 ns, total: 3 µs\n",
      "Wall time: 6.2 µs\n",
      "1894.2358347784495\n"
     ]
    }
   ],
   "source": [
    "cat_features = categorical\n",
    "model = CatBoostRegressor(random_state=12345, iterations=10,verbose=10)\n",
    "%time\n",
    "model.fit(features_train, target_train, cat_features) \n",
    "%time\n",
    "pred_valid = model.predict(features_valid) \n",
    "rmse = mean_squared_error(target_valid, pred_valid)**0.5\n",
    "print(rmse)"
   ]
  },
  {
   "cell_type": "code",
   "execution_count": 271,
   "metadata": {},
   "outputs": [],
   "source": [
    "result['CatBoostRegressor'] = ['1894', '6.2 s', '6.2 s']"
   ]
  },
  {
   "cell_type": "markdown",
   "metadata": {},
   "source": [
    "Все модели успешно обучены, результаты собраны в один словарь. Далее, проанализируем их и выберем лучшую модель"
   ]
  },
  {
   "cell_type": "markdown",
   "metadata": {},
   "source": [
    "## Анализ моделей"
   ]
  },
  {
   "cell_type": "markdown",
   "metadata": {},
   "source": [
    "Сравним результаты и проверим на тестовой выборке лучшую модель"
   ]
  },
  {
   "cell_type": "code",
   "execution_count": 272,
   "metadata": {},
   "outputs": [
    {
     "data": {
      "text/html": [
       "<div>\n",
       "<style scoped>\n",
       "    .dataframe tbody tr th:only-of-type {\n",
       "        vertical-align: middle;\n",
       "    }\n",
       "\n",
       "    .dataframe tbody tr th {\n",
       "        vertical-align: top;\n",
       "    }\n",
       "\n",
       "    .dataframe thead th {\n",
       "        text-align: right;\n",
       "    }\n",
       "</style>\n",
       "<table border=\"1\" class=\"dataframe\">\n",
       "  <thead>\n",
       "    <tr style=\"text-align: right;\">\n",
       "      <th></th>\n",
       "      <th>RMSE</th>\n",
       "      <th>TimeFit</th>\n",
       "      <th>TimePredict</th>\n",
       "    </tr>\n",
       "  </thead>\n",
       "  <tbody>\n",
       "    <tr>\n",
       "      <th>LinearRegression</th>\n",
       "      <td>2574</td>\n",
       "      <td>5.96 s</td>\n",
       "      <td>9.54</td>\n",
       "    </tr>\n",
       "    <tr>\n",
       "      <th>DecisionTreeRegressor</th>\n",
       "      <td>2433</td>\n",
       "      <td>7.63 s</td>\n",
       "      <td>6.91 s</td>\n",
       "    </tr>\n",
       "    <tr>\n",
       "      <th>RandomForestRegressor</th>\n",
       "      <td>1750</td>\n",
       "      <td>5.72 s</td>\n",
       "      <td>5.96 s</td>\n",
       "    </tr>\n",
       "    <tr>\n",
       "      <th>LGBMRegressor</th>\n",
       "      <td>1649</td>\n",
       "      <td>5.96 s</td>\n",
       "      <td>6.44 s</td>\n",
       "    </tr>\n",
       "    <tr>\n",
       "      <th>CatBoostRegressor</th>\n",
       "      <td>1894</td>\n",
       "      <td>6.2 s</td>\n",
       "      <td>6.2 s</td>\n",
       "    </tr>\n",
       "  </tbody>\n",
       "</table>\n",
       "</div>"
      ],
      "text/plain": [
       "                       RMSE TimeFit TimePredict\n",
       "LinearRegression       2574  5.96 s        9.54\n",
       "DecisionTreeRegressor  2433  7.63 s      6.91 s\n",
       "RandomForestRegressor  1750  5.72 s      5.96 s\n",
       "LGBMRegressor          1649  5.96 s      6.44 s\n",
       "CatBoostRegressor      1894   6.2 s       6.2 s"
      ]
     },
     "execution_count": 272,
     "metadata": {},
     "output_type": "execute_result"
    }
   ],
   "source": [
    "result_fin = pd.DataFrame.from_dict(data=result, columns=['RMSE', 'TimeFit', 'TimePredict'], orient='index')\n",
    "result_fin"
   ]
  },
  {
   "cell_type": "markdown",
   "metadata": {},
   "source": [
    "Модель LGBMRegressor показала лучшие результаты и по времени и по качеству, у модели RandomForestRegressor rmse не сильно хуже, и время предсказания чуть быстрее"
   ]
  },
  {
   "cell_type": "code",
   "execution_count": 273,
   "metadata": {},
   "outputs": [
    {
     "name": "stdout",
     "output_type": "stream",
     "text": [
      "RMSE_lightgbm = 1602.9451549730547\n",
      "CPU times: user 9.65 s, sys: 125 ms, total: 9.77 s\n",
      "Wall time: 9.8 s\n"
     ]
    }
   ],
   "source": [
    "%%time\n",
    "model = lgb.LGBMRegressor(boosting_type='gbdt', num_leaves=31, max_depth=7, learning_rate=0.1, n_estimators=200)\n",
    "model.fit(features_train, target_train)\n",
    "predicted_test = model.predict(features_test)\n",
    "rmse = mean_squared_error(target_test, predicted_test)**0.5\n",
    "print('RMSE_lightgbm =', rmse)"
   ]
  },
  {
   "cell_type": "code",
   "execution_count": 274,
   "metadata": {},
   "outputs": [
    {
     "name": "stdout",
     "output_type": "stream",
     "text": [
      "RMSE_Dummy 4682.372402888791\n"
     ]
    }
   ],
   "source": [
    "dummy_mod = DummyRegressor(strategy='mean')\n",
    "dummy_mod.fit(features_train,target_train)\n",
    "pred = dummy_mod.predict(features_test)\n",
    "rmse = mean_squared_error(target_test, pred)**0.5\n",
    "print('RMSE_Dummy', rmse)"
   ]
  },
  {
   "cell_type": "markdown",
   "metadata": {},
   "source": [
    "## Вывод "
   ]
  },
  {
   "cell_type": "markdown",
   "metadata": {},
   "source": [
    "Перед нами стояла задача построить модель, которая умеет определять рыночную стоимость автомобилей с пробегом. Для этого мы выполнили следующие действия:\n",
    "1. Загрузили и изучили данные\n",
    "2. Заполнили пропущенные значения и подготовили данные\n",
    "3. Обучили разные модели(Линейную регрессию, дерево, лес, LGBM и CatBoost)\n",
    "4. Проанализировали результаты и пришли к выводу, что наилучшее качество показали модели LGBM и лес, у LGBM качество чуть лучше, но для заказчика так же важно и время обучения. Лес обучался дольше всех моделей, LGBM обучается намного быстрее. Именну эту модель мы и рекомендуем использовать при разработке приложения"
   ]
  }
 ],
 "metadata": {
  "ExecuteTimeLog": [
   {
    "duration": 429,
    "start_time": "2022-10-16T16:48:34.248Z"
   },
   {
    "duration": 1221,
    "start_time": "2022-10-16T16:49:03.366Z"
   },
   {
    "duration": 122,
    "start_time": "2022-10-16T16:49:12.467Z"
   },
   {
    "duration": 120,
    "start_time": "2022-10-16T16:49:45.929Z"
   },
   {
    "duration": 16,
    "start_time": "2022-10-16T16:50:19.032Z"
   },
   {
    "duration": 6,
    "start_time": "2022-10-16T17:06:01.781Z"
   },
   {
    "duration": 15,
    "start_time": "2022-10-16T17:06:12.020Z"
   },
   {
    "duration": 22,
    "start_time": "2022-10-16T17:08:15.204Z"
   },
   {
    "duration": 13,
    "start_time": "2022-10-16T17:08:25.611Z"
   },
   {
    "duration": 380,
    "start_time": "2022-10-18T20:46:54.749Z"
   },
   {
    "duration": 3255,
    "start_time": "2022-10-18T20:46:55.432Z"
   },
   {
    "duration": 139,
    "start_time": "2022-10-18T20:46:58.689Z"
   },
   {
    "duration": 141,
    "start_time": "2022-10-18T20:46:58.830Z"
   },
   {
    "duration": 26,
    "start_time": "2022-10-18T20:46:58.973Z"
   },
   {
    "duration": 4,
    "start_time": "2022-10-18T20:47:05.298Z"
   },
   {
    "duration": 23,
    "start_time": "2022-10-18T20:47:06.252Z"
   },
   {
    "duration": 14,
    "start_time": "2022-10-18T20:48:24.327Z"
   },
   {
    "duration": 92,
    "start_time": "2022-10-18T20:51:09.954Z"
   },
   {
    "duration": 14,
    "start_time": "2022-10-18T20:51:11.821Z"
   },
   {
    "duration": 192,
    "start_time": "2022-10-18T20:51:38.020Z"
   },
   {
    "duration": 171,
    "start_time": "2022-10-18T20:51:48.197Z"
   },
   {
    "duration": 376,
    "start_time": "2022-10-20T14:39:20.548Z"
   },
   {
    "duration": 2891,
    "start_time": "2022-10-20T14:39:21.052Z"
   },
   {
    "duration": 108,
    "start_time": "2022-10-20T14:39:23.945Z"
   },
   {
    "duration": 111,
    "start_time": "2022-10-20T14:39:24.055Z"
   },
   {
    "duration": 14,
    "start_time": "2022-10-20T14:39:24.168Z"
   },
   {
    "duration": 4,
    "start_time": "2022-10-20T14:39:24.423Z"
   },
   {
    "duration": 70,
    "start_time": "2022-10-20T14:39:25.532Z"
   },
   {
    "duration": 13,
    "start_time": "2022-10-20T14:39:26.196Z"
   },
   {
    "duration": 90,
    "start_time": "2022-10-20T14:39:29.259Z"
   },
   {
    "duration": 4,
    "start_time": "2022-10-20T15:07:32.880Z"
   },
   {
    "duration": 55,
    "start_time": "2022-10-20T15:09:05.201Z"
   },
   {
    "duration": 11,
    "start_time": "2022-10-20T15:09:08.138Z"
   },
   {
    "duration": 4,
    "start_time": "2022-10-20T15:10:24.336Z"
   },
   {
    "duration": 62,
    "start_time": "2022-10-20T15:11:31.431Z"
   },
   {
    "duration": 2,
    "start_time": "2022-10-20T15:11:40.167Z"
   },
   {
    "duration": 698,
    "start_time": "2022-10-20T15:11:40.808Z"
   },
   {
    "duration": 118,
    "start_time": "2022-10-20T15:11:41.508Z"
   },
   {
    "duration": 93,
    "start_time": "2022-10-20T15:11:41.792Z"
   },
   {
    "duration": 12,
    "start_time": "2022-10-20T15:11:42.338Z"
   },
   {
    "duration": 4,
    "start_time": "2022-10-20T15:11:43.334Z"
   },
   {
    "duration": 70,
    "start_time": "2022-10-20T15:11:44.298Z"
   },
   {
    "duration": 58,
    "start_time": "2022-10-20T15:11:45.361Z"
   },
   {
    "duration": 4,
    "start_time": "2022-10-20T15:11:46.468Z"
   },
   {
    "duration": 11,
    "start_time": "2022-10-20T15:11:48.155Z"
   },
   {
    "duration": 39,
    "start_time": "2022-10-20T15:12:01.977Z"
   },
   {
    "duration": 10,
    "start_time": "2022-10-20T15:12:05.878Z"
   },
   {
    "duration": 10,
    "start_time": "2022-10-20T15:13:27.056Z"
   },
   {
    "duration": 53,
    "start_time": "2022-10-20T15:14:26.973Z"
   },
   {
    "duration": 187,
    "start_time": "2022-10-20T15:15:53.719Z"
   },
   {
    "duration": 101,
    "start_time": "2022-10-20T18:05:34.448Z"
   },
   {
    "duration": 825,
    "start_time": "2022-10-20T18:09:41.348Z"
   },
   {
    "duration": 218,
    "start_time": "2022-10-20T18:11:20.358Z"
   },
   {
    "duration": 13,
    "start_time": "2022-10-20T18:11:43.368Z"
   },
   {
    "duration": 649,
    "start_time": "2022-10-20T18:20:57.902Z"
   },
   {
    "duration": 330,
    "start_time": "2022-10-20T18:21:03.804Z"
   },
   {
    "duration": 1065,
    "start_time": "2022-10-24T13:21:27.272Z"
   },
   {
    "duration": 2877,
    "start_time": "2022-10-24T13:21:28.339Z"
   },
   {
    "duration": 104,
    "start_time": "2022-10-24T13:21:31.217Z"
   },
   {
    "duration": 100,
    "start_time": "2022-10-24T13:21:31.322Z"
   },
   {
    "duration": 14,
    "start_time": "2022-10-24T13:21:31.423Z"
   },
   {
    "duration": 24,
    "start_time": "2022-10-24T13:21:31.438Z"
   },
   {
    "duration": 86,
    "start_time": "2022-10-24T13:21:31.464Z"
   },
   {
    "duration": 61,
    "start_time": "2022-10-24T13:21:33.030Z"
   },
   {
    "duration": 4,
    "start_time": "2022-10-24T13:21:33.934Z"
   },
   {
    "duration": 60,
    "start_time": "2022-10-24T13:21:34.393Z"
   },
   {
    "duration": 10,
    "start_time": "2022-10-24T13:21:36.490Z"
   },
   {
    "duration": 54,
    "start_time": "2022-10-24T13:21:37.073Z"
   },
   {
    "duration": 827,
    "start_time": "2022-10-24T13:21:41.527Z"
   },
   {
    "duration": 261,
    "start_time": "2022-10-24T13:22:27.805Z"
   },
   {
    "duration": 362,
    "start_time": "2022-10-24T13:22:28.258Z"
   },
   {
    "duration": 437,
    "start_time": "2022-10-24T13:23:44.409Z"
   },
   {
    "duration": 320,
    "start_time": "2022-10-24T13:23:56.724Z"
   },
   {
    "duration": 498,
    "start_time": "2022-10-24T14:05:31.813Z"
   },
   {
    "duration": 3,
    "start_time": "2022-10-24T14:07:02.940Z"
   },
   {
    "duration": 13,
    "start_time": "2022-10-24T14:07:12.776Z"
   },
   {
    "duration": 3,
    "start_time": "2022-10-24T14:10:16.360Z"
   },
   {
    "duration": 14,
    "start_time": "2022-10-24T14:10:26.584Z"
   },
   {
    "duration": 12,
    "start_time": "2022-10-24T14:10:29.767Z"
   },
   {
    "duration": 3,
    "start_time": "2022-10-24T14:12:11.621Z"
   },
   {
    "duration": 195,
    "start_time": "2022-10-24T14:12:12.276Z"
   },
   {
    "duration": 1024,
    "start_time": "2022-10-27T12:14:38.900Z"
   },
   {
    "duration": 974,
    "start_time": "2022-10-27T12:14:41.585Z"
   },
   {
    "duration": 107,
    "start_time": "2022-10-27T12:14:42.776Z"
   },
   {
    "duration": 100,
    "start_time": "2022-10-27T12:14:43.492Z"
   },
   {
    "duration": 18,
    "start_time": "2022-10-27T12:14:44.174Z"
   },
   {
    "duration": 3,
    "start_time": "2022-10-27T12:14:45.362Z"
   },
   {
    "duration": 88,
    "start_time": "2022-10-27T12:14:45.807Z"
   },
   {
    "duration": 59,
    "start_time": "2022-10-27T12:14:46.813Z"
   },
   {
    "duration": 4,
    "start_time": "2022-10-27T12:14:48.020Z"
   },
   {
    "duration": 50,
    "start_time": "2022-10-27T12:14:48.636Z"
   },
   {
    "duration": 9,
    "start_time": "2022-10-27T12:14:49.762Z"
   },
   {
    "duration": 54,
    "start_time": "2022-10-27T12:14:50.550Z"
   },
   {
    "duration": 727,
    "start_time": "2022-10-27T12:14:52.714Z"
   },
   {
    "duration": 209,
    "start_time": "2022-10-27T12:14:53.881Z"
   },
   {
    "duration": 473,
    "start_time": "2022-10-27T12:14:54.585Z"
   },
   {
    "duration": 3,
    "start_time": "2022-10-27T12:14:55.722Z"
   },
   {
    "duration": 184,
    "start_time": "2022-10-27T12:14:56.632Z"
   },
   {
    "duration": 177,
    "start_time": "2022-10-27T12:18:18.207Z"
   },
   {
    "duration": 1184,
    "start_time": "2022-10-29T14:43:54.122Z"
   },
   {
    "duration": 1042,
    "start_time": "2022-10-29T14:45:08.071Z"
   },
   {
    "duration": 123,
    "start_time": "2022-10-29T14:45:09.277Z"
   },
   {
    "duration": 109,
    "start_time": "2022-10-29T14:45:09.807Z"
   },
   {
    "duration": 14,
    "start_time": "2022-10-29T14:45:10.303Z"
   },
   {
    "duration": 4,
    "start_time": "2022-10-29T14:45:11.241Z"
   },
   {
    "duration": 86,
    "start_time": "2022-10-29T14:45:11.630Z"
   },
   {
    "duration": 62,
    "start_time": "2022-10-29T14:45:12.440Z"
   },
   {
    "duration": 4,
    "start_time": "2022-10-29T14:45:13.203Z"
   },
   {
    "duration": 50,
    "start_time": "2022-10-29T14:45:13.600Z"
   },
   {
    "duration": 13,
    "start_time": "2022-10-29T14:45:14.405Z"
   },
   {
    "duration": 60,
    "start_time": "2022-10-29T14:45:14.781Z"
   },
   {
    "duration": 563,
    "start_time": "2022-10-29T14:45:16.211Z"
   },
   {
    "duration": 161,
    "start_time": "2022-10-29T14:45:16.776Z"
   },
   {
    "duration": 382,
    "start_time": "2022-10-29T14:45:17.230Z"
   },
   {
    "duration": 2,
    "start_time": "2022-10-29T14:45:18.201Z"
   },
   {
    "duration": 195,
    "start_time": "2022-10-29T14:45:18.850Z"
   },
   {
    "duration": 1157,
    "start_time": "2022-10-30T08:26:06.690Z"
   },
   {
    "duration": 2918,
    "start_time": "2022-10-30T08:26:07.849Z"
   },
   {
    "duration": 106,
    "start_time": "2022-10-30T08:26:10.769Z"
   },
   {
    "duration": 103,
    "start_time": "2022-10-30T08:26:10.876Z"
   },
   {
    "duration": 15,
    "start_time": "2022-10-30T08:26:10.991Z"
   },
   {
    "duration": 3,
    "start_time": "2022-10-30T08:26:14.686Z"
   },
   {
    "duration": 74,
    "start_time": "2022-10-30T08:26:15.110Z"
   },
   {
    "duration": 75,
    "start_time": "2022-10-30T08:26:15.979Z"
   },
   {
    "duration": 5,
    "start_time": "2022-10-30T08:26:16.841Z"
   },
   {
    "duration": 200,
    "start_time": "2022-10-30T08:26:17.269Z"
   },
   {
    "duration": 13,
    "start_time": "2022-10-30T08:26:19.081Z"
   },
   {
    "duration": 63,
    "start_time": "2022-10-30T08:26:19.616Z"
   },
   {
    "duration": 1548,
    "start_time": "2022-10-30T08:26:27.219Z"
   },
   {
    "duration": 713,
    "start_time": "2022-10-30T08:26:28.770Z"
   },
   {
    "duration": 785,
    "start_time": "2022-10-30T08:26:29.485Z"
   },
   {
    "duration": 2,
    "start_time": "2022-10-30T08:26:30.272Z"
   },
   {
    "duration": 210,
    "start_time": "2022-10-30T08:26:30.275Z"
   },
   {
    "duration": 3,
    "start_time": "2022-10-30T08:35:05.014Z"
   },
   {
    "duration": 1332,
    "start_time": "2022-10-30T10:46:17.831Z"
   },
   {
    "duration": 1294,
    "start_time": "2022-10-30T10:46:19.166Z"
   },
   {
    "duration": 127,
    "start_time": "2022-10-30T10:46:20.461Z"
   },
   {
    "duration": 163,
    "start_time": "2022-10-30T10:46:20.788Z"
   },
   {
    "duration": 22,
    "start_time": "2022-10-30T10:46:21.320Z"
   },
   {
    "duration": 3,
    "start_time": "2022-10-30T10:46:22.357Z"
   },
   {
    "duration": 129,
    "start_time": "2022-10-30T10:46:22.807Z"
   },
   {
    "duration": 74,
    "start_time": "2022-10-30T10:46:24.109Z"
   },
   {
    "duration": 8,
    "start_time": "2022-10-30T10:46:30.227Z"
   },
   {
    "duration": 51,
    "start_time": "2022-10-30T10:46:30.627Z"
   },
   {
    "duration": 10,
    "start_time": "2022-10-30T10:46:31.125Z"
   },
   {
    "duration": 61,
    "start_time": "2022-10-30T10:46:31.344Z"
   },
   {
    "duration": 630,
    "start_time": "2022-10-30T10:46:32.100Z"
   },
   {
    "duration": 191,
    "start_time": "2022-10-30T10:46:32.733Z"
   },
   {
    "duration": 447,
    "start_time": "2022-10-30T10:46:32.926Z"
   },
   {
    "duration": 3,
    "start_time": "2022-10-30T10:46:33.375Z"
   },
   {
    "duration": 151,
    "start_time": "2022-10-30T10:46:33.379Z"
   },
   {
    "duration": 0,
    "start_time": "2022-10-30T10:46:33.532Z"
   },
   {
    "duration": 18,
    "start_time": "2022-10-30T10:48:12.677Z"
   },
   {
    "duration": 18,
    "start_time": "2022-10-30T10:48:18.397Z"
   },
   {
    "duration": 3,
    "start_time": "2022-10-30T10:48:23.646Z"
   },
   {
    "duration": 802,
    "start_time": "2022-10-30T10:48:25.957Z"
   },
   {
    "duration": 119,
    "start_time": "2022-10-30T10:48:28.678Z"
   },
   {
    "duration": 115,
    "start_time": "2022-10-30T10:48:29.087Z"
   },
   {
    "duration": 16,
    "start_time": "2022-10-30T10:48:29.469Z"
   },
   {
    "duration": 3,
    "start_time": "2022-10-30T10:48:30.237Z"
   },
   {
    "duration": 110,
    "start_time": "2022-10-30T10:48:30.567Z"
   },
   {
    "duration": 49,
    "start_time": "2022-10-30T10:48:31.301Z"
   },
   {
    "duration": 6,
    "start_time": "2022-10-30T10:48:31.958Z"
   },
   {
    "duration": 40,
    "start_time": "2022-10-30T10:48:32.358Z"
   },
   {
    "duration": 10,
    "start_time": "2022-10-30T10:48:33.230Z"
   },
   {
    "duration": 72,
    "start_time": "2022-10-30T10:48:33.699Z"
   },
   {
    "duration": 12,
    "start_time": "2022-10-30T10:48:35.445Z"
   },
   {
    "duration": 23,
    "start_time": "2022-10-30T10:48:36.699Z"
   },
   {
    "duration": 120,
    "start_time": "2022-10-30T10:48:37.627Z"
   },
   {
    "duration": 3,
    "start_time": "2022-10-30T10:48:38.525Z"
   },
   {
    "duration": 11,
    "start_time": "2022-10-30T10:48:39.078Z"
   },
   {
    "duration": 4,
    "start_time": "2022-10-30T10:52:22.099Z"
   },
   {
    "duration": 12,
    "start_time": "2022-10-30T10:52:22.741Z"
   },
   {
    "duration": 33,
    "start_time": "2022-10-30T10:52:54.967Z"
   },
   {
    "duration": 14,
    "start_time": "2022-10-30T10:52:55.560Z"
   },
   {
    "duration": 11,
    "start_time": "2022-10-30T10:53:25.860Z"
   },
   {
    "duration": 3,
    "start_time": "2022-10-30T10:54:40.128Z"
   },
   {
    "duration": 11,
    "start_time": "2022-10-30T10:54:40.716Z"
   },
   {
    "duration": 4,
    "start_time": "2022-10-30T10:55:25.479Z"
   },
   {
    "duration": 10,
    "start_time": "2022-10-30T10:56:52.135Z"
   },
   {
    "duration": 12,
    "start_time": "2022-10-30T10:57:13.864Z"
   },
   {
    "duration": 3,
    "start_time": "2022-10-30T10:57:41.595Z"
   },
   {
    "duration": 10,
    "start_time": "2022-10-30T10:57:42.085Z"
   },
   {
    "duration": 660,
    "start_time": "2022-10-30T10:58:40.038Z"
   },
   {
    "duration": 1795,
    "start_time": "2022-10-30T11:00:01.915Z"
   },
   {
    "duration": 6,
    "start_time": "2022-10-30T12:03:00.756Z"
   },
   {
    "duration": 782,
    "start_time": "2022-10-30T12:03:01.255Z"
   },
   {
    "duration": 117,
    "start_time": "2022-10-30T12:03:02.136Z"
   },
   {
    "duration": 173,
    "start_time": "2022-10-30T12:03:02.693Z"
   },
   {
    "duration": 13,
    "start_time": "2022-10-30T12:03:03.187Z"
   },
   {
    "duration": 5,
    "start_time": "2022-10-30T12:03:04.228Z"
   },
   {
    "duration": 124,
    "start_time": "2022-10-30T12:03:04.698Z"
   },
   {
    "duration": 60,
    "start_time": "2022-10-30T12:03:05.595Z"
   },
   {
    "duration": 5,
    "start_time": "2022-10-30T12:03:06.498Z"
   },
   {
    "duration": 39,
    "start_time": "2022-10-30T12:03:06.926Z"
   },
   {
    "duration": 14,
    "start_time": "2022-10-30T12:03:07.819Z"
   },
   {
    "duration": 84,
    "start_time": "2022-10-30T12:03:08.267Z"
   },
   {
    "duration": 15,
    "start_time": "2022-10-30T12:03:10.088Z"
   },
   {
    "duration": 18,
    "start_time": "2022-10-30T12:03:11.205Z"
   },
   {
    "duration": 111,
    "start_time": "2022-10-30T12:03:11.678Z"
   },
   {
    "duration": 4,
    "start_time": "2022-10-30T12:03:12.595Z"
   },
   {
    "duration": 56,
    "start_time": "2022-10-30T12:03:13.106Z"
   },
   {
    "duration": 853,
    "start_time": "2022-10-30T12:03:23.852Z"
   },
   {
    "duration": 4,
    "start_time": "2022-10-30T12:36:54.238Z"
   },
   {
    "duration": 731,
    "start_time": "2022-10-30T12:36:55.024Z"
   },
   {
    "duration": 124,
    "start_time": "2022-10-30T12:36:56.783Z"
   },
   {
    "duration": 109,
    "start_time": "2022-10-30T12:36:57.680Z"
   },
   {
    "duration": 15,
    "start_time": "2022-10-30T12:36:58.509Z"
   },
   {
    "duration": 4,
    "start_time": "2022-10-30T12:37:00.097Z"
   },
   {
    "duration": 94,
    "start_time": "2022-10-30T12:37:00.721Z"
   },
   {
    "duration": 38,
    "start_time": "2022-10-30T12:37:01.689Z"
   },
   {
    "duration": 5,
    "start_time": "2022-10-30T12:37:05.823Z"
   },
   {
    "duration": 39,
    "start_time": "2022-10-30T12:37:06.628Z"
   },
   {
    "duration": 13,
    "start_time": "2022-10-30T12:37:08.278Z"
   },
   {
    "duration": 62,
    "start_time": "2022-10-30T12:37:11.417Z"
   },
   {
    "duration": 18,
    "start_time": "2022-10-30T12:42:59.866Z"
   },
   {
    "duration": 80,
    "start_time": "2022-10-30T12:43:00.446Z"
   },
   {
    "duration": 2,
    "start_time": "2022-10-30T12:43:01.494Z"
   },
   {
    "duration": 10,
    "start_time": "2022-10-30T12:43:31.417Z"
   },
   {
    "duration": 12,
    "start_time": "2022-10-30T12:44:45.529Z"
   },
   {
    "duration": 2,
    "start_time": "2022-10-30T12:48:02.998Z"
   },
   {
    "duration": 10,
    "start_time": "2022-10-30T12:48:05.244Z"
   },
   {
    "duration": 788,
    "start_time": "2022-10-30T12:48:12.089Z"
   },
   {
    "duration": 11,
    "start_time": "2022-10-30T12:54:50.479Z"
   },
   {
    "duration": 4,
    "start_time": "2022-10-30T14:23:54.673Z"
   },
   {
    "duration": 4,
    "start_time": "2022-10-30T14:38:14.503Z"
   },
   {
    "duration": 721,
    "start_time": "2022-10-30T14:38:18.668Z"
   },
   {
    "duration": 111,
    "start_time": "2022-10-30T14:38:21.340Z"
   },
   {
    "duration": 105,
    "start_time": "2022-10-30T14:38:21.834Z"
   },
   {
    "duration": 12,
    "start_time": "2022-10-30T14:38:22.308Z"
   },
   {
    "duration": 3,
    "start_time": "2022-10-30T14:38:23.133Z"
   },
   {
    "duration": 83,
    "start_time": "2022-10-30T14:38:23.467Z"
   },
   {
    "duration": 40,
    "start_time": "2022-10-30T14:38:23.880Z"
   },
   {
    "duration": 4,
    "start_time": "2022-10-30T14:38:24.300Z"
   },
   {
    "duration": 38,
    "start_time": "2022-10-30T14:38:24.479Z"
   },
   {
    "duration": 10,
    "start_time": "2022-10-30T14:38:24.860Z"
   },
   {
    "duration": 69,
    "start_time": "2022-10-30T14:38:25.081Z"
   },
   {
    "duration": 10,
    "start_time": "2022-10-30T14:38:28.778Z"
   },
   {
    "duration": 18,
    "start_time": "2022-10-30T14:38:29.798Z"
   },
   {
    "duration": 77,
    "start_time": "2022-10-30T14:38:30.461Z"
   },
   {
    "duration": 2,
    "start_time": "2022-10-30T14:38:32.490Z"
   },
   {
    "duration": 3,
    "start_time": "2022-10-30T14:38:32.988Z"
   },
   {
    "duration": 11,
    "start_time": "2022-10-30T14:38:36.859Z"
   },
   {
    "duration": 10,
    "start_time": "2022-10-30T14:38:39.403Z"
   },
   {
    "duration": 705,
    "start_time": "2022-10-30T14:41:07.278Z"
   },
   {
    "duration": 3,
    "start_time": "2022-10-30T15:28:12.648Z"
   },
   {
    "duration": 3,
    "start_time": "2022-10-30T15:28:12.950Z"
   },
   {
    "duration": 1062,
    "start_time": "2022-10-30T15:28:16.767Z"
   },
   {
    "duration": 746,
    "start_time": "2022-10-30T15:29:44.978Z"
   },
   {
    "duration": 10,
    "start_time": "2022-10-30T15:34:05.488Z"
   },
   {
    "duration": 924,
    "start_time": "2022-10-30T15:34:08.381Z"
   },
   {
    "duration": 15,
    "start_time": "2022-10-30T15:47:56.537Z"
   },
   {
    "duration": 16,
    "start_time": "2022-10-30T15:48:02.818Z"
   },
   {
    "duration": 654,
    "start_time": "2022-10-30T15:48:45.937Z"
   },
   {
    "duration": 339,
    "start_time": "2022-10-30T15:51:31.099Z"
   },
   {
    "duration": 343,
    "start_time": "2022-10-30T15:52:19.538Z"
   },
   {
    "duration": 345,
    "start_time": "2022-10-30T15:52:23.969Z"
   },
   {
    "duration": 334,
    "start_time": "2022-10-30T15:52:34.835Z"
   },
   {
    "duration": 340,
    "start_time": "2022-10-30T15:52:39.939Z"
   },
   {
    "duration": 322,
    "start_time": "2022-10-30T15:52:55.398Z"
   },
   {
    "duration": 3,
    "start_time": "2022-10-30T15:56:04.410Z"
   },
   {
    "duration": 322,
    "start_time": "2022-10-30T15:56:09.429Z"
   },
   {
    "duration": 14,
    "start_time": "2022-10-30T15:56:17.519Z"
   },
   {
    "duration": 10,
    "start_time": "2022-10-30T15:56:23.449Z"
   },
   {
    "duration": 344,
    "start_time": "2022-10-30T15:56:54.651Z"
   },
   {
    "duration": 3,
    "start_time": "2022-10-30T16:00:30.647Z"
   },
   {
    "duration": 18,
    "start_time": "2022-10-30T16:00:31.318Z"
   },
   {
    "duration": 3,
    "start_time": "2022-10-30T16:00:42.869Z"
   },
   {
    "duration": 183,
    "start_time": "2022-10-30T16:00:43.262Z"
   },
   {
    "duration": 772,
    "start_time": "2022-10-30T16:04:26.359Z"
   },
   {
    "duration": 776,
    "start_time": "2022-10-30T16:04:36.765Z"
   },
   {
    "duration": 833,
    "start_time": "2022-10-30T16:05:28.668Z"
   },
   {
    "duration": 772,
    "start_time": "2022-10-30T16:06:51.282Z"
   },
   {
    "duration": 787,
    "start_time": "2022-10-30T16:07:01.100Z"
   },
   {
    "duration": 11,
    "start_time": "2022-10-30T16:07:38.487Z"
   },
   {
    "duration": 18,
    "start_time": "2022-10-30T16:08:12.563Z"
   },
   {
    "duration": 130,
    "start_time": "2022-10-30T16:08:13.279Z"
   },
   {
    "duration": 3,
    "start_time": "2022-10-30T16:08:13.908Z"
   },
   {
    "duration": 3,
    "start_time": "2022-10-30T16:08:14.567Z"
   },
   {
    "duration": 11,
    "start_time": "2022-10-30T16:08:15.337Z"
   },
   {
    "duration": 1130,
    "start_time": "2022-11-01T14:45:54.657Z"
   },
   {
    "duration": 1068,
    "start_time": "2022-11-01T14:45:55.790Z"
   },
   {
    "duration": 120,
    "start_time": "2022-11-01T14:45:56.881Z"
   },
   {
    "duration": 110,
    "start_time": "2022-11-01T14:45:57.769Z"
   },
   {
    "duration": 14,
    "start_time": "2022-11-01T14:45:59.956Z"
   },
   {
    "duration": 4,
    "start_time": "2022-11-01T14:46:01.227Z"
   },
   {
    "duration": 1009,
    "start_time": "2022-11-01T14:46:01.891Z"
   },
   {
    "duration": 837,
    "start_time": "2022-11-01T14:46:03.107Z"
   },
   {
    "duration": 3,
    "start_time": "2022-11-01T14:46:19.624Z"
   },
   {
    "duration": 948,
    "start_time": "2022-11-01T14:46:20.927Z"
   },
   {
    "duration": 1174,
    "start_time": "2022-11-01T14:46:23.769Z"
   },
   {
    "duration": 5,
    "start_time": "2022-11-01T14:46:26.894Z"
   },
   {
    "duration": 29,
    "start_time": "2022-11-01T14:46:27.900Z"
   },
   {
    "duration": 11,
    "start_time": "2022-11-01T14:46:29.179Z"
   },
   {
    "duration": 4,
    "start_time": "2022-11-01T14:46:34.141Z"
   },
   {
    "duration": 707,
    "start_time": "2022-11-01T14:46:35.899Z"
   },
   {
    "duration": 98,
    "start_time": "2022-11-01T14:46:37.654Z"
   },
   {
    "duration": 104,
    "start_time": "2022-11-01T14:46:38.486Z"
   },
   {
    "duration": 12,
    "start_time": "2022-11-01T14:46:39.587Z"
   },
   {
    "duration": 14,
    "start_time": "2022-11-01T14:47:24.152Z"
   },
   {
    "duration": 3,
    "start_time": "2022-11-01T14:47:28.795Z"
   },
   {
    "duration": 93,
    "start_time": "2022-11-01T14:47:39.409Z"
   },
   {
    "duration": 57,
    "start_time": "2022-11-01T14:47:51.407Z"
   },
   {
    "duration": 5,
    "start_time": "2022-11-01T14:47:53.894Z"
   },
   {
    "duration": 50,
    "start_time": "2022-11-01T14:47:54.394Z"
   },
   {
    "duration": 11,
    "start_time": "2022-11-01T14:47:55.506Z"
   },
   {
    "duration": 56,
    "start_time": "2022-11-01T14:47:57.845Z"
   },
   {
    "duration": 21,
    "start_time": "2022-11-01T14:48:04.663Z"
   },
   {
    "duration": 155,
    "start_time": "2022-11-01T14:48:05.317Z"
   },
   {
    "duration": 3,
    "start_time": "2022-11-01T14:48:05.856Z"
   },
   {
    "duration": 3,
    "start_time": "2022-11-01T14:48:06.367Z"
   },
   {
    "duration": 14,
    "start_time": "2022-11-01T14:48:08.087Z"
   },
   {
    "duration": 901,
    "start_time": "2022-11-01T15:00:52.384Z"
   },
   {
    "duration": 210,
    "start_time": "2022-11-01T15:00:59.872Z"
   },
   {
    "duration": 488,
    "start_time": "2022-11-01T15:01:00.414Z"
   },
   {
    "duration": 3,
    "start_time": "2022-11-01T15:01:00.940Z"
   },
   {
    "duration": 2,
    "start_time": "2022-11-01T15:01:07.933Z"
   },
   {
    "duration": 6,
    "start_time": "2022-11-01T15:02:55.113Z"
   },
   {
    "duration": 210,
    "start_time": "2022-11-01T15:03:36.866Z"
   },
   {
    "duration": 11,
    "start_time": "2022-11-01T15:16:40.301Z"
   },
   {
    "duration": 5,
    "start_time": "2022-11-01T15:17:48.833Z"
   },
   {
    "duration": 3,
    "start_time": "2022-11-01T15:18:22.854Z"
   },
   {
    "duration": 13729,
    "start_time": "2022-11-01T15:18:23.373Z"
   },
   {
    "duration": 13778,
    "start_time": "2022-11-01T15:23:19.187Z"
   },
   {
    "duration": 152,
    "start_time": "2022-11-01T15:26:53.014Z"
   },
   {
    "duration": 48,
    "start_time": "2022-11-01T15:27:23.844Z"
   },
   {
    "duration": 1190,
    "start_time": "2022-11-01T15:27:46.110Z"
   },
   {
    "duration": 1106,
    "start_time": "2022-11-01T15:27:47.302Z"
   },
   {
    "duration": 111,
    "start_time": "2022-11-01T15:27:49.488Z"
   },
   {
    "duration": 108,
    "start_time": "2022-11-01T15:27:50.271Z"
   },
   {
    "duration": 14,
    "start_time": "2022-11-01T15:27:50.851Z"
   },
   {
    "duration": 3,
    "start_time": "2022-11-01T15:27:51.858Z"
   },
   {
    "duration": 92,
    "start_time": "2022-11-01T15:27:52.287Z"
   },
   {
    "duration": 63,
    "start_time": "2022-11-01T15:27:53.087Z"
   },
   {
    "duration": 4,
    "start_time": "2022-11-01T15:27:53.897Z"
   },
   {
    "duration": 55,
    "start_time": "2022-11-01T15:27:54.245Z"
   },
   {
    "duration": 9,
    "start_time": "2022-11-01T15:27:54.740Z"
   },
   {
    "duration": 64,
    "start_time": "2022-11-01T15:27:54.917Z"
   },
   {
    "duration": 887,
    "start_time": "2022-11-01T15:27:55.571Z"
   },
   {
    "duration": 215,
    "start_time": "2022-11-01T15:27:56.459Z"
   },
   {
    "duration": 521,
    "start_time": "2022-11-01T15:27:56.676Z"
   },
   {
    "duration": 3,
    "start_time": "2022-11-01T15:27:57.816Z"
   },
   {
    "duration": 254,
    "start_time": "2022-11-01T15:27:58.655Z"
   },
   {
    "duration": 3,
    "start_time": "2022-11-01T15:27:59.320Z"
   },
   {
    "duration": 13583,
    "start_time": "2022-11-01T15:27:59.873Z"
   },
   {
    "duration": 49,
    "start_time": "2022-11-01T15:29:21.002Z"
   },
   {
    "duration": 1146,
    "start_time": "2022-11-01T15:32:07.038Z"
   },
   {
    "duration": 63,
    "start_time": "2022-11-01T15:32:14.497Z"
   },
   {
    "duration": 7,
    "start_time": "2022-11-01T15:32:24.338Z"
   },
   {
    "duration": 9,
    "start_time": "2022-11-01T15:32:24.935Z"
   },
   {
    "duration": 4,
    "start_time": "2022-11-01T15:32:31.148Z"
   },
   {
    "duration": 992,
    "start_time": "2022-11-01T15:32:31.569Z"
   },
   {
    "duration": 108,
    "start_time": "2022-11-01T15:32:32.563Z"
   },
   {
    "duration": 115,
    "start_time": "2022-11-01T15:32:32.759Z"
   },
   {
    "duration": 13,
    "start_time": "2022-11-01T15:32:33.115Z"
   },
   {
    "duration": 3,
    "start_time": "2022-11-01T15:32:33.726Z"
   },
   {
    "duration": 85,
    "start_time": "2022-11-01T15:32:33.929Z"
   },
   {
    "duration": 59,
    "start_time": "2022-11-01T15:32:34.270Z"
   },
   {
    "duration": 4,
    "start_time": "2022-11-01T15:32:34.613Z"
   },
   {
    "duration": 48,
    "start_time": "2022-11-01T15:32:34.795Z"
   },
   {
    "duration": 11,
    "start_time": "2022-11-01T15:32:35.124Z"
   },
   {
    "duration": 57,
    "start_time": "2022-11-01T15:32:35.330Z"
   },
   {
    "duration": 807,
    "start_time": "2022-11-01T15:32:36.006Z"
   },
   {
    "duration": 210,
    "start_time": "2022-11-01T15:32:36.984Z"
   },
   {
    "duration": 501,
    "start_time": "2022-11-01T15:32:37.658Z"
   },
   {
    "duration": 3,
    "start_time": "2022-11-01T15:32:39.123Z"
   },
   {
    "duration": 202,
    "start_time": "2022-11-01T15:32:40.176Z"
   },
   {
    "duration": 2,
    "start_time": "2022-11-01T15:32:43.201Z"
   },
   {
    "duration": 13367,
    "start_time": "2022-11-01T15:32:43.731Z"
   },
   {
    "duration": 201596,
    "start_time": "2022-11-01T15:32:57.100Z"
   },
   {
    "duration": 1295,
    "start_time": "2022-11-02T19:08:31.092Z"
   },
   {
    "duration": 3075,
    "start_time": "2022-11-02T19:08:32.389Z"
   },
   {
    "duration": 138,
    "start_time": "2022-11-02T19:08:35.467Z"
   },
   {
    "duration": 134,
    "start_time": "2022-11-02T19:08:36.754Z"
   },
   {
    "duration": 16,
    "start_time": "2022-11-02T19:08:37.897Z"
   },
   {
    "duration": 4,
    "start_time": "2022-11-02T19:08:39.036Z"
   },
   {
    "duration": 95,
    "start_time": "2022-11-02T19:08:39.542Z"
   },
   {
    "duration": 73,
    "start_time": "2022-11-02T19:08:40.560Z"
   },
   {
    "duration": 6,
    "start_time": "2022-11-02T19:08:41.701Z"
   },
   {
    "duration": 55,
    "start_time": "2022-11-02T19:08:42.260Z"
   },
   {
    "duration": 11,
    "start_time": "2022-11-02T19:08:43.216Z"
   },
   {
    "duration": 76,
    "start_time": "2022-11-02T19:08:43.750Z"
   },
   {
    "duration": 1028,
    "start_time": "2022-11-02T19:08:45.832Z"
   },
   {
    "duration": 215,
    "start_time": "2022-11-02T19:08:48.522Z"
   },
   {
    "duration": 523,
    "start_time": "2022-11-02T19:08:49.032Z"
   },
   {
    "duration": 3,
    "start_time": "2022-11-02T19:08:50.099Z"
   },
   {
    "duration": 229,
    "start_time": "2022-11-02T19:08:53.243Z"
   },
   {
    "duration": 2,
    "start_time": "2022-11-02T19:08:55.823Z"
   },
   {
    "duration": 15043,
    "start_time": "2022-11-02T19:08:57.038Z"
   },
   {
    "duration": 157,
    "start_time": "2022-11-02T19:10:28.208Z"
   },
   {
    "duration": 1185,
    "start_time": "2022-11-04T14:31:58.903Z"
   },
   {
    "duration": 1174,
    "start_time": "2022-11-04T14:32:00.458Z"
   },
   {
    "duration": 132,
    "start_time": "2022-11-04T14:32:01.863Z"
   },
   {
    "duration": 132,
    "start_time": "2022-11-04T14:32:02.421Z"
   },
   {
    "duration": 13,
    "start_time": "2022-11-04T14:32:02.866Z"
   },
   {
    "duration": 3,
    "start_time": "2022-11-04T14:32:03.866Z"
   },
   {
    "duration": 104,
    "start_time": "2022-11-04T14:32:04.303Z"
   },
   {
    "duration": 62,
    "start_time": "2022-11-04T14:32:05.170Z"
   },
   {
    "duration": 5,
    "start_time": "2022-11-04T14:32:06.140Z"
   },
   {
    "duration": 54,
    "start_time": "2022-11-04T14:32:06.633Z"
   },
   {
    "duration": 10,
    "start_time": "2022-11-04T14:32:07.617Z"
   },
   {
    "duration": 76,
    "start_time": "2022-11-04T14:32:08.134Z"
   },
   {
    "duration": 852,
    "start_time": "2022-11-04T14:32:10.055Z"
   },
   {
    "duration": 210,
    "start_time": "2022-11-04T14:32:12.583Z"
   },
   {
    "duration": 494,
    "start_time": "2022-11-04T14:32:13.269Z"
   },
   {
    "duration": 3,
    "start_time": "2022-11-04T14:32:16.082Z"
   },
   {
    "duration": 2410,
    "start_time": "2022-11-04T14:34:31.876Z"
   },
   {
    "duration": 157,
    "start_time": "2022-11-04T14:59:30.973Z"
   },
   {
    "duration": 128,
    "start_time": "2022-11-04T14:59:37.501Z"
   },
   {
    "duration": 17917,
    "start_time": "2022-11-04T14:59:39.005Z"
   },
   {
    "duration": 16594,
    "start_time": "2022-11-04T15:00:41.925Z"
   },
   {
    "duration": 11,
    "start_time": "2022-11-04T15:00:58.521Z"
   },
   {
    "duration": 3,
    "start_time": "2022-11-04T15:01:07.788Z"
   },
   {
    "duration": 16426,
    "start_time": "2022-11-04T15:01:12.425Z"
   },
   {
    "duration": 17762,
    "start_time": "2022-11-04T15:01:51.288Z"
   },
   {
    "duration": 21190,
    "start_time": "2022-11-04T15:05:26.367Z"
   },
   {
    "duration": 68,
    "start_time": "2022-11-04T15:15:09.093Z"
   },
   {
    "duration": 65,
    "start_time": "2022-11-04T15:15:20.688Z"
   },
   {
    "duration": 257375,
    "start_time": "2022-11-04T15:15:31.473Z"
   },
   {
    "duration": 258277,
    "start_time": "2022-11-04T15:22:31.855Z"
   },
   {
    "duration": 260774,
    "start_time": "2022-11-04T15:37:59.879Z"
   },
   {
    "duration": 46,
    "start_time": "2022-11-04T16:01:34.632Z"
   },
   {
    "duration": 67,
    "start_time": "2022-11-04T16:01:44.595Z"
   },
   {
    "duration": 5,
    "start_time": "2022-11-04T16:01:57.676Z"
   },
   {
    "duration": 3,
    "start_time": "2022-11-04T16:02:14.572Z"
   },
   {
    "duration": 122,
    "start_time": "2022-11-04T16:02:15.045Z"
   },
   {
    "duration": 50,
    "start_time": "2022-11-04T16:02:24.328Z"
   },
   {
    "duration": 3,
    "start_time": "2022-11-04T16:06:26.011Z"
   },
   {
    "duration": 57924,
    "start_time": "2022-11-04T16:06:26.503Z"
   },
   {
    "duration": 1479,
    "start_time": "2022-11-04T16:10:17.417Z"
   },
   {
    "duration": 127,
    "start_time": "2022-11-04T16:11:11.555Z"
   },
   {
    "duration": 1115,
    "start_time": "2022-11-04T16:11:17.554Z"
   },
   {
    "duration": 104,
    "start_time": "2022-11-04T16:11:21.453Z"
   },
   {
    "duration": 185,
    "start_time": "2022-11-04T17:10:50.829Z"
   },
   {
    "duration": 1109,
    "start_time": "2022-11-04T17:10:51.655Z"
   },
   {
    "duration": 180,
    "start_time": "2022-11-04T17:10:52.912Z"
   },
   {
    "duration": 134,
    "start_time": "2022-11-04T17:10:53.785Z"
   },
   {
    "duration": 14,
    "start_time": "2022-11-04T17:10:54.457Z"
   },
   {
    "duration": 4,
    "start_time": "2022-11-04T17:10:59.101Z"
   },
   {
    "duration": 85,
    "start_time": "2022-11-04T17:10:59.682Z"
   },
   {
    "duration": 66,
    "start_time": "2022-11-04T17:11:00.801Z"
   },
   {
    "duration": 4,
    "start_time": "2022-11-04T17:11:02.179Z"
   },
   {
    "duration": 54,
    "start_time": "2022-11-04T17:11:02.691Z"
   },
   {
    "duration": 12,
    "start_time": "2022-11-04T17:11:03.689Z"
   },
   {
    "duration": 75,
    "start_time": "2022-11-04T17:11:04.317Z"
   },
   {
    "duration": 908,
    "start_time": "2022-11-04T17:11:06.501Z"
   },
   {
    "duration": 212,
    "start_time": "2022-11-04T17:11:08.829Z"
   },
   {
    "duration": 493,
    "start_time": "2022-11-04T17:11:09.430Z"
   },
   {
    "duration": 3,
    "start_time": "2022-11-04T17:11:10.355Z"
   },
   {
    "duration": 2173,
    "start_time": "2022-11-04T17:11:12.466Z"
   },
   {
    "duration": 3,
    "start_time": "2022-11-04T17:11:14.641Z"
   },
   {
    "duration": 13131,
    "start_time": "2022-11-04T17:11:14.645Z"
   },
   {
    "duration": 75,
    "start_time": "2022-11-04T17:11:27.779Z"
   },
   {
    "duration": 16303,
    "start_time": "2022-11-04T17:11:27.856Z"
   },
   {
    "duration": 258587,
    "start_time": "2022-11-04T17:11:44.238Z"
   },
   {
    "duration": 2,
    "start_time": "2022-11-04T17:16:02.827Z"
   },
   {
    "duration": 91,
    "start_time": "2022-11-04T17:16:57.984Z"
   },
   {
    "duration": 1242,
    "start_time": "2022-11-04T17:17:39.362Z"
   },
   {
    "duration": 1182,
    "start_time": "2022-11-04T17:17:40.606Z"
   },
   {
    "duration": 151,
    "start_time": "2022-11-04T17:17:41.790Z"
   },
   {
    "duration": 143,
    "start_time": "2022-11-04T17:17:41.943Z"
   },
   {
    "duration": 14,
    "start_time": "2022-11-04T17:17:42.087Z"
   },
   {
    "duration": 4,
    "start_time": "2022-11-04T17:17:43.056Z"
   },
   {
    "duration": 104,
    "start_time": "2022-11-04T17:17:43.454Z"
   },
   {
    "duration": 63,
    "start_time": "2022-11-04T17:17:45.142Z"
   },
   {
    "duration": 4,
    "start_time": "2022-11-04T17:17:48.525Z"
   },
   {
    "duration": 52,
    "start_time": "2022-11-04T17:17:49.208Z"
   },
   {
    "duration": 11,
    "start_time": "2022-11-04T17:17:52.119Z"
   },
   {
    "duration": 72,
    "start_time": "2022-11-04T17:17:53.305Z"
   },
   {
    "duration": 23,
    "start_time": "2022-11-04T17:17:59.172Z"
   },
   {
    "duration": 133,
    "start_time": "2022-11-04T17:17:59.712Z"
   },
   {
    "duration": 2,
    "start_time": "2022-11-04T17:18:03.638Z"
   },
   {
    "duration": 141,
    "start_time": "2022-11-04T17:18:05.663Z"
   },
   {
    "duration": 3,
    "start_time": "2022-11-04T17:18:11.217Z"
   },
   {
    "duration": 59,
    "start_time": "2022-11-04T17:18:12.218Z"
   },
   {
    "duration": 51,
    "start_time": "2022-11-04T17:18:16.540Z"
   },
   {
    "duration": 145,
    "start_time": "2022-11-04T17:18:20.338Z"
   },
   {
    "duration": 67,
    "start_time": "2022-11-04T17:18:20.826Z"
   },
   {
    "duration": 995,
    "start_time": "2022-11-04T17:18:28.299Z"
   },
   {
    "duration": 222,
    "start_time": "2022-11-04T17:18:30.449Z"
   },
   {
    "duration": 494,
    "start_time": "2022-11-04T17:18:31.633Z"
   },
   {
    "duration": 2,
    "start_time": "2022-11-04T17:18:33.682Z"
   },
   {
    "duration": 2220,
    "start_time": "2022-11-04T17:18:36.086Z"
   },
   {
    "duration": 3,
    "start_time": "2022-11-04T17:18:38.308Z"
   },
   {
    "duration": 12966,
    "start_time": "2022-11-04T17:18:38.312Z"
   },
   {
    "duration": 2,
    "start_time": "2022-11-04T17:18:51.281Z"
   },
   {
    "duration": 16764,
    "start_time": "2022-11-04T17:18:51.284Z"
   },
   {
    "duration": 258321,
    "start_time": "2022-11-04T17:19:08.050Z"
   },
   {
    "duration": 29882,
    "start_time": "2022-11-04T17:23:26.373Z"
   },
   {
    "duration": 18435,
    "start_time": "2022-11-04T17:26:00.735Z"
   },
   {
    "duration": 19295,
    "start_time": "2022-11-04T17:26:44.763Z"
   },
   {
    "duration": 30787,
    "start_time": "2022-11-04T17:27:14.971Z"
   },
   {
    "duration": 1320,
    "start_time": "2022-11-05T17:08:35.997Z"
   },
   {
    "duration": 3206,
    "start_time": "2022-11-05T17:08:37.319Z"
   },
   {
    "duration": 150,
    "start_time": "2022-11-05T17:08:40.527Z"
   },
   {
    "duration": 154,
    "start_time": "2022-11-05T17:08:40.679Z"
   },
   {
    "duration": 15,
    "start_time": "2022-11-05T17:08:45.107Z"
   },
   {
    "duration": 3,
    "start_time": "2022-11-05T17:08:46.881Z"
   },
   {
    "duration": 117,
    "start_time": "2022-11-05T17:08:47.458Z"
   },
   {
    "duration": 73,
    "start_time": "2022-11-05T17:08:48.522Z"
   },
   {
    "duration": 5,
    "start_time": "2022-11-05T17:08:49.852Z"
   },
   {
    "duration": 56,
    "start_time": "2022-11-05T17:08:50.366Z"
   },
   {
    "duration": 12,
    "start_time": "2022-11-05T17:08:51.586Z"
   },
   {
    "duration": 104,
    "start_time": "2022-11-05T17:08:52.061Z"
   },
   {
    "duration": 973,
    "start_time": "2022-11-05T17:08:54.132Z"
   },
   {
    "duration": 217,
    "start_time": "2022-11-05T17:08:55.354Z"
   },
   {
    "duration": 521,
    "start_time": "2022-11-05T17:08:56.211Z"
   },
   {
    "duration": 3,
    "start_time": "2022-11-05T17:08:57.505Z"
   },
   {
    "duration": 2264,
    "start_time": "2022-11-05T17:08:58.940Z"
   },
   {
    "duration": 3,
    "start_time": "2022-11-05T17:09:01.478Z"
   },
   {
    "duration": 15073,
    "start_time": "2022-11-05T17:09:02.519Z"
   },
   {
    "duration": 145,
    "start_time": "2022-11-05T17:09:36.468Z"
   },
   {
    "duration": 34392,
    "start_time": "2022-11-05T17:09:40.044Z"
   },
   {
    "duration": 286124,
    "start_time": "2022-11-05T17:10:28.108Z"
   },
   {
    "duration": 187,
    "start_time": "2022-11-05T17:31:28.909Z"
   },
   {
    "duration": 71,
    "start_time": "2022-11-05T17:31:33.704Z"
   },
   {
    "duration": 1520,
    "start_time": "2022-11-05T17:41:05.667Z"
   },
   {
    "duration": 3361,
    "start_time": "2022-11-05T17:41:07.190Z"
   },
   {
    "duration": 161,
    "start_time": "2022-11-05T17:41:10.553Z"
   },
   {
    "duration": 227,
    "start_time": "2022-11-05T17:41:10.716Z"
   },
   {
    "duration": 27,
    "start_time": "2022-11-05T17:41:10.946Z"
   },
   {
    "duration": 4,
    "start_time": "2022-11-05T17:41:11.291Z"
   },
   {
    "duration": 191,
    "start_time": "2022-11-05T17:41:12.440Z"
   },
   {
    "duration": 99,
    "start_time": "2022-11-05T17:41:13.154Z"
   },
   {
    "duration": 6,
    "start_time": "2022-11-05T17:41:14.483Z"
   },
   {
    "duration": 53,
    "start_time": "2022-11-05T17:41:15.056Z"
   },
   {
    "duration": 13,
    "start_time": "2022-11-05T17:41:16.163Z"
   },
   {
    "duration": 102,
    "start_time": "2022-11-05T17:41:16.741Z"
   },
   {
    "duration": 1101,
    "start_time": "2022-11-05T17:41:18.831Z"
   },
   {
    "duration": 227,
    "start_time": "2022-11-05T17:41:20.220Z"
   },
   {
    "duration": 597,
    "start_time": "2022-11-05T17:41:21.002Z"
   },
   {
    "duration": 3,
    "start_time": "2022-11-05T17:41:22.471Z"
   },
   {
    "duration": 2273,
    "start_time": "2022-11-05T17:41:23.647Z"
   },
   {
    "duration": 3,
    "start_time": "2022-11-05T17:41:25.922Z"
   },
   {
    "duration": 13972,
    "start_time": "2022-11-05T17:41:25.927Z"
   },
   {
    "duration": 204,
    "start_time": "2022-11-05T17:41:42.017Z"
   },
   {
    "duration": 707114,
    "start_time": "2022-11-05T17:41:42.623Z"
   },
   {
    "duration": 91,
    "start_time": "2022-11-05T17:53:29.739Z"
   },
   {
    "duration": 118,
    "start_time": "2022-11-05T17:57:39.155Z"
   },
   {
    "duration": 1312,
    "start_time": "2022-11-05T17:57:42.579Z"
   },
   {
    "duration": 146,
    "start_time": "2022-11-05T17:57:43.892Z"
   },
   {
    "duration": 113,
    "start_time": "2022-11-05T19:25:51.324Z"
   },
   {
    "duration": 3260,
    "start_time": "2022-11-05T19:25:52.443Z"
   },
   {
    "duration": 234,
    "start_time": "2022-11-05T19:25:55.706Z"
   },
   {
    "duration": 143,
    "start_time": "2022-11-05T19:26:02.496Z"
   },
   {
    "duration": 17,
    "start_time": "2022-11-05T19:26:03.557Z"
   },
   {
    "duration": 4,
    "start_time": "2022-11-05T19:26:08.827Z"
   },
   {
    "duration": 104,
    "start_time": "2022-11-05T19:26:09.363Z"
   },
   {
    "duration": 88,
    "start_time": "2022-11-05T19:26:11.967Z"
   },
   {
    "duration": 5,
    "start_time": "2022-11-05T19:26:14.792Z"
   },
   {
    "duration": 68,
    "start_time": "2022-11-05T19:26:16.622Z"
   },
   {
    "duration": 12,
    "start_time": "2022-11-05T19:26:19.973Z"
   },
   {
    "duration": 91,
    "start_time": "2022-11-05T19:26:22.672Z"
   },
   {
    "duration": 1108,
    "start_time": "2022-11-05T19:30:26.219Z"
   },
   {
    "duration": 229,
    "start_time": "2022-11-05T19:35:49.936Z"
   },
   {
    "duration": 526,
    "start_time": "2022-11-05T19:35:52.157Z"
   },
   {
    "duration": 2385,
    "start_time": "2022-11-05T19:36:00.842Z"
   },
   {
    "duration": 3,
    "start_time": "2022-11-05T19:36:57.094Z"
   },
   {
    "duration": 99,
    "start_time": "2022-11-05T19:37:01.313Z"
   },
   {
    "duration": 3,
    "start_time": "2022-11-05T19:37:07.558Z"
   },
   {
    "duration": 3,
    "start_time": "2022-11-05T19:56:13.356Z"
   },
   {
    "duration": 16164,
    "start_time": "2022-11-05T20:47:12.564Z"
   },
   {
    "duration": 135,
    "start_time": "2022-11-05T20:51:31.798Z"
   },
   {
    "duration": 78,
    "start_time": "2022-11-05T20:51:57.429Z"
   },
   {
    "duration": 1397,
    "start_time": "2022-11-05T20:52:06.589Z"
   },
   {
    "duration": 3150,
    "start_time": "2022-11-05T20:52:07.988Z"
   },
   {
    "duration": 152,
    "start_time": "2022-11-05T20:52:11.140Z"
   },
   {
    "duration": 173,
    "start_time": "2022-11-05T20:52:11.294Z"
   },
   {
    "duration": 17,
    "start_time": "2022-11-05T20:52:11.469Z"
   },
   {
    "duration": 3,
    "start_time": "2022-11-05T20:52:11.488Z"
   },
   {
    "duration": 159,
    "start_time": "2022-11-05T20:52:11.493Z"
   },
   {
    "duration": 81,
    "start_time": "2022-11-05T20:52:11.653Z"
   },
   {
    "duration": 6,
    "start_time": "2022-11-05T20:52:11.949Z"
   },
   {
    "duration": 57,
    "start_time": "2022-11-05T20:52:12.324Z"
   },
   {
    "duration": 12,
    "start_time": "2022-11-05T20:52:13.019Z"
   },
   {
    "duration": 78,
    "start_time": "2022-11-05T20:52:13.241Z"
   },
   {
    "duration": 1011,
    "start_time": "2022-11-05T20:52:13.902Z"
   },
   {
    "duration": 230,
    "start_time": "2022-11-05T20:52:14.915Z"
   },
   {
    "duration": 544,
    "start_time": "2022-11-05T20:52:15.291Z"
   },
   {
    "duration": 2,
    "start_time": "2022-11-05T20:52:16.980Z"
   },
   {
    "duration": 2239,
    "start_time": "2022-11-05T20:52:17.848Z"
   },
   {
    "duration": 3,
    "start_time": "2022-11-05T20:52:20.757Z"
   },
   {
    "duration": 17102,
    "start_time": "2022-11-05T20:52:23.823Z"
   },
   {
    "duration": 1329,
    "start_time": "2022-11-05T20:54:07.948Z"
   },
   {
    "duration": 3257,
    "start_time": "2022-11-05T20:54:09.279Z"
   },
   {
    "duration": 155,
    "start_time": "2022-11-05T20:54:12.538Z"
   },
   {
    "duration": 159,
    "start_time": "2022-11-05T20:54:12.695Z"
   },
   {
    "duration": 17,
    "start_time": "2022-11-05T20:54:12.856Z"
   },
   {
    "duration": 4,
    "start_time": "2022-11-05T20:54:12.875Z"
   },
   {
    "duration": 138,
    "start_time": "2022-11-05T20:54:12.881Z"
   },
   {
    "duration": 71,
    "start_time": "2022-11-05T20:54:13.021Z"
   },
   {
    "duration": 5,
    "start_time": "2022-11-05T20:54:13.094Z"
   },
   {
    "duration": 75,
    "start_time": "2022-11-05T20:54:13.100Z"
   },
   {
    "duration": 13,
    "start_time": "2022-11-05T20:54:13.177Z"
   },
   {
    "duration": 95,
    "start_time": "2022-11-05T20:54:13.192Z"
   },
   {
    "duration": 1062,
    "start_time": "2022-11-05T20:54:13.355Z"
   },
   {
    "duration": 225,
    "start_time": "2022-11-05T20:54:14.423Z"
   },
   {
    "duration": 537,
    "start_time": "2022-11-05T20:54:14.650Z"
   },
   {
    "duration": 3,
    "start_time": "2022-11-05T20:54:15.189Z"
   },
   {
    "duration": 2194,
    "start_time": "2022-11-05T20:54:16.029Z"
   },
   {
    "duration": 3,
    "start_time": "2022-11-05T20:54:18.225Z"
   },
   {
    "duration": 15696,
    "start_time": "2022-11-05T20:54:18.229Z"
   },
   {
    "duration": 253,
    "start_time": "2022-11-05T20:54:33.930Z"
   },
   {
    "duration": 4,
    "start_time": "2022-11-05T21:33:43.278Z"
   },
   {
    "duration": 954,
    "start_time": "2022-11-05T21:34:00.816Z"
   },
   {
    "duration": 142,
    "start_time": "2022-11-05T21:34:04.227Z"
   },
   {
    "duration": 136,
    "start_time": "2022-11-05T21:34:07.597Z"
   },
   {
    "duration": 3,
    "start_time": "2022-11-05T21:34:12.205Z"
   },
   {
    "duration": 115,
    "start_time": "2022-11-05T21:34:12.776Z"
   },
   {
    "duration": 54,
    "start_time": "2022-11-05T21:34:14.245Z"
   },
   {
    "duration": 4,
    "start_time": "2022-11-05T21:34:16.516Z"
   },
   {
    "duration": 48,
    "start_time": "2022-11-05T21:34:18.377Z"
   },
   {
    "duration": 16,
    "start_time": "2022-11-05T21:34:21.302Z"
   },
   {
    "duration": 1055,
    "start_time": "2022-11-05T21:34:25.363Z"
   },
   {
    "duration": 225,
    "start_time": "2022-11-05T21:34:29.617Z"
   },
   {
    "duration": 532,
    "start_time": "2022-11-05T21:34:30.139Z"
   },
   {
    "duration": 2247,
    "start_time": "2022-11-05T21:34:32.595Z"
   },
   {
    "duration": 3,
    "start_time": "2022-11-05T21:34:35.095Z"
   },
   {
    "duration": 15807,
    "start_time": "2022-11-05T21:34:38.718Z"
   },
   {
    "duration": 1399,
    "start_time": "2022-11-05T21:35:37.977Z"
   },
   {
    "duration": 186,
    "start_time": "2022-11-05T21:36:24.718Z"
   },
   {
    "duration": 4,
    "start_time": "2022-11-05T21:39:31.571Z"
   },
   {
    "duration": 3196,
    "start_time": "2022-11-05T21:39:38.019Z"
   },
   {
    "duration": 136,
    "start_time": "2022-11-05T21:39:41.217Z"
   },
   {
    "duration": 3,
    "start_time": "2022-11-05T21:39:44.914Z"
   },
   {
    "duration": 100,
    "start_time": "2022-11-05T21:39:45.294Z"
   },
   {
    "duration": 85,
    "start_time": "2022-11-05T21:39:47.402Z"
   },
   {
    "duration": 10,
    "start_time": "2022-11-05T21:39:49.155Z"
   },
   {
    "duration": 64,
    "start_time": "2022-11-05T21:39:49.671Z"
   },
   {
    "duration": 1075,
    "start_time": "2022-11-05T21:39:54.547Z"
   },
   {
    "duration": 220,
    "start_time": "2022-11-05T21:39:57.828Z"
   },
   {
    "duration": 525,
    "start_time": "2022-11-05T21:39:59.416Z"
   },
   {
    "duration": 2240,
    "start_time": "2022-11-05T21:40:07.547Z"
   },
   {
    "duration": 16736,
    "start_time": "2022-11-05T21:40:09.789Z"
   },
   {
    "duration": 6137,
    "start_time": "2022-11-05T21:40:40.248Z"
   },
   {
    "duration": 283495,
    "start_time": "2022-11-05T21:45:38.897Z"
   },
   {
    "duration": 19470,
    "start_time": "2022-11-05T21:52:14.162Z"
   },
   {
    "duration": 1571,
    "start_time": "2022-11-05T22:01:05.895Z"
   },
   {
    "duration": 180,
    "start_time": "2022-11-05T22:01:15.588Z"
   },
   {
    "duration": 3144,
    "start_time": "2022-11-05T22:01:22.751Z"
   },
   {
    "duration": 3,
    "start_time": "2022-11-05T22:01:29.001Z"
   },
   {
    "duration": 101,
    "start_time": "2022-11-05T22:01:29.251Z"
   },
   {
    "duration": 82,
    "start_time": "2022-11-05T22:01:29.933Z"
   },
   {
    "duration": 9,
    "start_time": "2022-11-05T22:01:30.708Z"
   },
   {
    "duration": 60,
    "start_time": "2022-11-05T22:01:32.968Z"
   },
   {
    "duration": 995,
    "start_time": "2022-11-05T22:01:37.611Z"
   },
   {
    "duration": 214,
    "start_time": "2022-11-05T22:01:40.633Z"
   },
   {
    "duration": 510,
    "start_time": "2022-11-05T22:01:41.261Z"
   },
   {
    "duration": 2203,
    "start_time": "2022-11-05T22:01:44.163Z"
   },
   {
    "duration": 2382,
    "start_time": "2022-11-05T22:01:49.913Z"
   },
   {
    "duration": 6077,
    "start_time": "2022-11-05T22:08:10.442Z"
   },
   {
    "duration": 16094,
    "start_time": "2022-11-05T22:12:28.431Z"
   },
   {
    "duration": 11,
    "start_time": "2022-11-05T22:14:13.212Z"
   },
   {
    "duration": 2,
    "start_time": "2022-11-05T22:21:50.080Z"
   },
   {
    "duration": 3,
    "start_time": "2022-11-05T22:23:37.242Z"
   },
   {
    "duration": 3,
    "start_time": "2022-11-05T22:24:47.021Z"
   },
   {
    "duration": 2,
    "start_time": "2022-11-05T22:25:24.726Z"
   },
   {
    "duration": 3,
    "start_time": "2022-11-05T22:26:09.008Z"
   },
   {
    "duration": 2,
    "start_time": "2022-11-05T22:26:49.885Z"
   },
   {
    "duration": 4,
    "start_time": "2022-11-05T22:29:58.019Z"
   },
   {
    "duration": 8,
    "start_time": "2022-11-05T22:30:12.255Z"
   },
   {
    "duration": 355,
    "start_time": "2022-11-05T22:30:53.656Z"
   },
   {
    "duration": 4,
    "start_time": "2022-11-05T22:33:22.659Z"
   },
   {
    "duration": 4,
    "start_time": "2022-11-05T22:33:28.812Z"
   },
   {
    "duration": 15,
    "start_time": "2022-11-05T22:33:36.760Z"
   },
   {
    "duration": 8,
    "start_time": "2022-11-05T22:33:44.132Z"
   },
   {
    "duration": 15,
    "start_time": "2022-11-05T22:33:44.810Z"
   },
   {
    "duration": 4,
    "start_time": "2022-11-05T22:34:32.495Z"
   },
   {
    "duration": 15,
    "start_time": "2022-11-05T22:34:38.754Z"
   },
   {
    "duration": 16,
    "start_time": "2022-11-05T22:34:51.669Z"
   },
   {
    "duration": 4,
    "start_time": "2022-11-05T22:35:29.925Z"
   },
   {
    "duration": 5778,
    "start_time": "2022-11-05T22:39:52.356Z"
   },
   {
    "duration": 1951,
    "start_time": "2022-11-06T09:40:10.246Z"
   },
   {
    "duration": 2972,
    "start_time": "2022-11-06T09:40:17.133Z"
   },
   {
    "duration": 118,
    "start_time": "2022-11-06T09:40:20.777Z"
   },
   {
    "duration": 102,
    "start_time": "2022-11-06T09:40:21.719Z"
   },
   {
    "duration": 14,
    "start_time": "2022-11-06T09:40:22.519Z"
   },
   {
    "duration": 3,
    "start_time": "2022-11-06T09:40:23.802Z"
   },
   {
    "duration": 84,
    "start_time": "2022-11-06T09:40:24.367Z"
   },
   {
    "duration": 60,
    "start_time": "2022-11-06T09:40:25.517Z"
   },
   {
    "duration": 4,
    "start_time": "2022-11-06T09:40:28.155Z"
   },
   {
    "duration": 50,
    "start_time": "2022-11-06T09:40:29.896Z"
   },
   {
    "duration": 847,
    "start_time": "2022-11-06T09:40:35.277Z"
   },
   {
    "duration": 212,
    "start_time": "2022-11-06T09:40:38.752Z"
   },
   {
    "duration": 482,
    "start_time": "2022-11-06T09:40:40.653Z"
   },
   {
    "duration": 2103,
    "start_time": "2022-11-06T09:40:45.845Z"
   },
   {
    "duration": 13502,
    "start_time": "2022-11-06T09:40:58.084Z"
   },
   {
    "duration": 2,
    "start_time": "2022-11-06T09:41:26.982Z"
   },
   {
    "duration": 2,
    "start_time": "2022-11-06T09:41:36.517Z"
   },
   {
    "duration": 3,
    "start_time": "2022-11-06T09:41:40.688Z"
   },
   {
    "duration": 2,
    "start_time": "2022-11-06T09:41:44.984Z"
   },
   {
    "duration": 3,
    "start_time": "2022-11-06T09:41:47.877Z"
   },
   {
    "duration": 7,
    "start_time": "2022-11-06T09:41:50.346Z"
   },
   {
    "duration": 117754,
    "start_time": "2022-11-06T09:42:28.335Z"
   },
   {
    "duration": 15215,
    "start_time": "2022-11-06T09:44:42.475Z"
   },
   {
    "duration": 1407,
    "start_time": "2022-11-06T09:55:04.403Z"
   },
   {
    "duration": 1469,
    "start_time": "2022-11-06T09:55:21.972Z"
   },
   {
    "duration": 1599,
    "start_time": "2022-11-06T09:57:07.939Z"
   },
   {
    "duration": 1347,
    "start_time": "2022-11-06T09:57:24.818Z"
   },
   {
    "duration": 12,
    "start_time": "2022-11-06T09:57:28.577Z"
   },
   {
    "duration": 3,
    "start_time": "2022-11-06T09:57:35.481Z"
   },
   {
    "duration": 663,
    "start_time": "2022-11-06T09:57:36.178Z"
   },
   {
    "duration": 123,
    "start_time": "2022-11-06T09:57:37.778Z"
   },
   {
    "duration": 91,
    "start_time": "2022-11-06T09:57:38.673Z"
   },
   {
    "duration": 12,
    "start_time": "2022-11-06T09:57:39.288Z"
   },
   {
    "duration": 2,
    "start_time": "2022-11-06T09:57:40.668Z"
   },
   {
    "duration": 69,
    "start_time": "2022-11-06T09:57:41.416Z"
   },
   {
    "duration": 45,
    "start_time": "2022-11-06T09:57:42.758Z"
   },
   {
    "duration": 5,
    "start_time": "2022-11-06T09:57:44.481Z"
   },
   {
    "duration": 31,
    "start_time": "2022-11-06T09:57:45.295Z"
   },
   {
    "duration": 141,
    "start_time": "2022-11-06T09:57:45.980Z"
   },
   {
    "duration": 166,
    "start_time": "2022-11-06T09:57:48.236Z"
   },
   {
    "duration": 143,
    "start_time": "2022-11-06T09:57:49.600Z"
   },
   {
    "duration": 10,
    "start_time": "2022-11-06T09:57:52.260Z"
   },
   {
    "duration": 47,
    "start_time": "2022-11-06T09:57:54.536Z"
   },
   {
    "duration": 696,
    "start_time": "2022-11-06T09:57:56.790Z"
   },
   {
    "duration": 199,
    "start_time": "2022-11-06T09:58:01.617Z"
   },
   {
    "duration": 434,
    "start_time": "2022-11-06T09:58:02.970Z"
   },
   {
    "duration": 1962,
    "start_time": "2022-11-06T09:58:06.038Z"
   },
   {
    "duration": 15665,
    "start_time": "2022-11-06T09:58:09.519Z"
   },
   {
    "duration": 2,
    "start_time": "2022-11-06T09:58:44.888Z"
   },
   {
    "duration": 4994,
    "start_time": "2022-11-06T09:58:47.688Z"
   },
   {
    "duration": 2,
    "start_time": "2022-11-06T09:59:04.248Z"
   },
   {
    "duration": 216642,
    "start_time": "2022-11-06T09:59:07.239Z"
   },
   {
    "duration": 3,
    "start_time": "2022-11-06T10:03:06.462Z"
   },
   {
    "duration": 15476,
    "start_time": "2022-11-06T10:03:14.819Z"
   },
   {
    "duration": 2,
    "start_time": "2022-11-06T10:03:41.150Z"
   },
   {
    "duration": 1732,
    "start_time": "2022-11-06T10:03:44.601Z"
   },
   {
    "duration": 2,
    "start_time": "2022-11-06T10:04:02.920Z"
   },
   {
    "duration": 8,
    "start_time": "2022-11-06T10:04:06.919Z"
   },
   {
    "duration": 14077,
    "start_time": "2022-11-06T10:04:12.518Z"
   },
   {
    "duration": 384,
    "start_time": "2022-11-06T10:05:51.421Z"
   },
   {
    "duration": 2158,
    "start_time": "2022-11-06T10:05:54.988Z"
   },
   {
    "duration": 16187,
    "start_time": "2022-11-06T10:06:00.095Z"
   },
   {
    "duration": 5973,
    "start_time": "2022-11-06T10:06:23.544Z"
   },
   {
    "duration": 15863,
    "start_time": "2022-11-06T10:06:41.137Z"
   },
   {
    "duration": 3,
    "start_time": "2022-11-06T10:11:15.200Z"
   },
   {
    "duration": 12,
    "start_time": "2022-11-06T10:12:42.687Z"
   },
   {
    "duration": 10,
    "start_time": "2022-11-06T10:12:57.685Z"
   },
   {
    "duration": 9,
    "start_time": "2022-11-06T10:14:53.211Z"
   },
   {
    "duration": 9,
    "start_time": "2022-11-06T10:15:05.203Z"
   },
   {
    "duration": 387,
    "start_time": "2022-11-06T10:17:55.974Z"
   },
   {
    "duration": 17053,
    "start_time": "2022-11-06T10:18:01.030Z"
   },
   {
    "duration": 2200,
    "start_time": "2022-11-06T10:40:22.858Z"
   },
   {
    "duration": 2,
    "start_time": "2022-11-06T10:40:31.139Z"
   },
   {
    "duration": 113,
    "start_time": "2022-11-06T10:40:35.747Z"
   },
   {
    "duration": 404,
    "start_time": "2022-11-06T10:40:36.309Z"
   },
   {
    "duration": 2179,
    "start_time": "2022-11-06T10:40:38.742Z"
   },
   {
    "duration": 16327,
    "start_time": "2022-11-06T10:40:41.851Z"
   },
   {
    "duration": 3,
    "start_time": "2022-11-06T10:41:13.270Z"
   },
   {
    "duration": 6128,
    "start_time": "2022-11-06T10:41:16.809Z"
   },
   {
    "duration": 2,
    "start_time": "2022-11-06T10:41:35.490Z"
   },
   {
    "duration": 273102,
    "start_time": "2022-11-06T10:41:38.260Z"
   },
   {
    "duration": 2,
    "start_time": "2022-11-06T10:54:51.604Z"
   },
   {
    "duration": 15897,
    "start_time": "2022-11-06T10:54:54.282Z"
   },
   {
    "duration": 2,
    "start_time": "2022-11-06T10:55:21.639Z"
   },
   {
    "duration": 1791,
    "start_time": "2022-11-06T10:55:24.299Z"
   },
   {
    "duration": 2,
    "start_time": "2022-11-06T10:55:37.155Z"
   },
   {
    "duration": 8,
    "start_time": "2022-11-06T10:55:40.777Z"
   },
   {
    "duration": 22222,
    "start_time": "2022-11-06T10:55:50.663Z"
   },
   {
    "duration": 12021,
    "start_time": "2022-11-06T10:58:03.167Z"
   },
   {
    "duration": 18302,
    "start_time": "2022-11-06T10:58:26.498Z"
   },
   {
    "duration": 16236,
    "start_time": "2022-11-06T10:58:49.254Z"
   },
   {
    "duration": 3,
    "start_time": "2022-11-06T11:42:19.766Z"
   },
   {
    "duration": 693,
    "start_time": "2022-11-06T11:42:38.476Z"
   },
   {
    "duration": 105,
    "start_time": "2022-11-06T11:42:40.108Z"
   },
   {
    "duration": 94,
    "start_time": "2022-11-06T11:42:40.995Z"
   },
   {
    "duration": 12,
    "start_time": "2022-11-06T11:42:41.915Z"
   },
   {
    "duration": 3,
    "start_time": "2022-11-06T11:42:43.185Z"
   },
   {
    "duration": 74,
    "start_time": "2022-11-06T11:42:43.808Z"
   },
   {
    "duration": 64,
    "start_time": "2022-11-06T11:42:44.968Z"
   },
   {
    "duration": 5,
    "start_time": "2022-11-06T11:42:46.795Z"
   },
   {
    "duration": 49,
    "start_time": "2022-11-06T11:42:47.747Z"
   },
   {
    "duration": 143,
    "start_time": "2022-11-06T11:43:42.047Z"
   },
   {
    "duration": 171,
    "start_time": "2022-11-06T11:43:42.817Z"
   },
   {
    "duration": 133,
    "start_time": "2022-11-06T11:43:43.947Z"
   },
   {
    "duration": 13,
    "start_time": "2022-11-06T11:43:47.858Z"
   },
   {
    "duration": 51,
    "start_time": "2022-11-06T11:43:49.118Z"
   },
   {
    "duration": 653,
    "start_time": "2022-11-06T11:43:51.950Z"
   },
   {
    "duration": 194,
    "start_time": "2022-11-06T11:43:55.350Z"
   },
   {
    "duration": 427,
    "start_time": "2022-11-06T11:43:57.485Z"
   },
   {
    "duration": 2184,
    "start_time": "2022-11-06T11:43:59.618Z"
   },
   {
    "duration": 17773,
    "start_time": "2022-11-06T11:44:02.505Z"
   },
   {
    "duration": 3,
    "start_time": "2022-11-06T11:44:27.273Z"
   },
   {
    "duration": 2,
    "start_time": "2022-11-06T11:44:36.086Z"
   },
   {
    "duration": 6030,
    "start_time": "2022-11-06T11:44:37.753Z"
   },
   {
    "duration": 3,
    "start_time": "2022-11-06T11:44:51.020Z"
   },
   {
    "duration": 273409,
    "start_time": "2022-11-06T11:44:54.095Z"
   },
   {
    "duration": 3,
    "start_time": "2022-11-06T11:50:10.249Z"
   },
   {
    "duration": 16534,
    "start_time": "2022-11-06T11:50:12.474Z"
   },
   {
    "duration": 2,
    "start_time": "2022-11-06T11:50:39.884Z"
   },
   {
    "duration": 1833,
    "start_time": "2022-11-06T11:50:42.869Z"
   },
   {
    "duration": 2,
    "start_time": "2022-11-06T11:50:59.468Z"
   },
   {
    "duration": 7,
    "start_time": "2022-11-06T11:51:02.888Z"
   },
   {
    "duration": 15881,
    "start_time": "2022-11-06T11:51:09.906Z"
   },
   {
    "duration": 3,
    "start_time": "2022-11-06T11:53:08.809Z"
   },
   {
    "duration": 10,
    "start_time": "2022-11-06T11:53:14.577Z"
   },
   {
    "duration": 5,
    "start_time": "2022-11-06T11:53:59.099Z"
   },
   {
    "duration": 5,
    "start_time": "2022-11-06T11:54:33.856Z"
   },
   {
    "duration": 1262,
    "start_time": "2022-11-06T15:57:44.453Z"
   },
   {
    "duration": 1196,
    "start_time": "2022-11-06T15:57:45.725Z"
   },
   {
    "duration": 139,
    "start_time": "2022-11-06T15:57:46.923Z"
   },
   {
    "duration": 119,
    "start_time": "2022-11-06T15:57:47.286Z"
   },
   {
    "duration": 16,
    "start_time": "2022-11-06T15:57:48.063Z"
   },
   {
    "duration": 5,
    "start_time": "2022-11-06T15:57:53.722Z"
   },
   {
    "duration": 116,
    "start_time": "2022-11-06T15:57:56.426Z"
   },
   {
    "duration": 60,
    "start_time": "2022-11-06T15:57:58.624Z"
   },
   {
    "duration": 4,
    "start_time": "2022-11-06T15:58:00.534Z"
   },
   {
    "duration": 49,
    "start_time": "2022-11-06T15:58:02.045Z"
   },
   {
    "duration": 223,
    "start_time": "2022-11-06T15:58:06.061Z"
   },
   {
    "duration": 253,
    "start_time": "2022-11-06T15:58:07.021Z"
   },
   {
    "duration": 192,
    "start_time": "2022-11-06T15:58:08.078Z"
   },
   {
    "duration": 91,
    "start_time": "2022-11-06T15:58:25.933Z"
   },
   {
    "duration": 8,
    "start_time": "2022-11-06T16:01:31.929Z"
   },
   {
    "duration": 61,
    "start_time": "2022-11-06T16:07:13.139Z"
   },
   {
    "duration": 11,
    "start_time": "2022-11-06T16:08:26.893Z"
   },
   {
    "duration": 12,
    "start_time": "2022-11-06T16:09:25.026Z"
   },
   {
    "duration": 16,
    "start_time": "2022-11-06T16:09:30.241Z"
   },
   {
    "duration": 130,
    "start_time": "2022-11-06T16:10:29.272Z"
   },
   {
    "duration": 10,
    "start_time": "2022-11-06T16:10:36.672Z"
   },
   {
    "duration": 9,
    "start_time": "2022-11-06T16:12:05.972Z"
   },
   {
    "duration": 10,
    "start_time": "2022-11-06T16:13:34.529Z"
   },
   {
    "duration": 10,
    "start_time": "2022-11-06T16:13:49.376Z"
   },
   {
    "duration": 13,
    "start_time": "2022-11-06T16:14:13.133Z"
   },
   {
    "duration": 8,
    "start_time": "2022-11-06T16:14:19.732Z"
   },
   {
    "duration": 8,
    "start_time": "2022-11-06T16:14:33.141Z"
   },
   {
    "duration": 10,
    "start_time": "2022-11-06T16:14:44.532Z"
   },
   {
    "duration": 10,
    "start_time": "2022-11-06T16:14:56.465Z"
   },
   {
    "duration": 11,
    "start_time": "2022-11-06T16:49:03.525Z"
   },
   {
    "duration": 12,
    "start_time": "2022-11-06T16:49:14.614Z"
   },
   {
    "duration": 12,
    "start_time": "2022-11-06T16:49:27.304Z"
   },
   {
    "duration": 11,
    "start_time": "2022-11-06T16:49:44.450Z"
   },
   {
    "duration": 651,
    "start_time": "2022-11-06T16:50:56.528Z"
   },
   {
    "duration": 8,
    "start_time": "2022-11-06T16:51:07.276Z"
   },
   {
    "duration": 8,
    "start_time": "2022-11-06T16:52:58.149Z"
   },
   {
    "duration": 9,
    "start_time": "2022-11-06T16:53:03.424Z"
   },
   {
    "duration": 8,
    "start_time": "2022-11-06T16:53:10.172Z"
   },
   {
    "duration": 10,
    "start_time": "2022-11-06T16:53:16.161Z"
   },
   {
    "duration": 9,
    "start_time": "2022-11-06T16:53:20.682Z"
   },
   {
    "duration": 7,
    "start_time": "2022-11-06T16:53:58.484Z"
   },
   {
    "duration": 1046,
    "start_time": "2022-11-06T16:54:02.067Z"
   },
   {
    "duration": 22,
    "start_time": "2022-11-06T16:54:11.483Z"
   },
   {
    "duration": 9,
    "start_time": "2022-11-06T16:55:04.589Z"
   },
   {
    "duration": 1213,
    "start_time": "2022-11-08T09:10:36.691Z"
   },
   {
    "duration": 4,
    "start_time": "2022-11-08T09:30:40.136Z"
   },
   {
    "duration": 2744,
    "start_time": "2022-11-08T09:30:42.803Z"
   },
   {
    "duration": 140,
    "start_time": "2022-11-08T09:30:46.285Z"
   },
   {
    "duration": 150,
    "start_time": "2022-11-08T09:30:50.671Z"
   },
   {
    "duration": 13,
    "start_time": "2022-11-08T09:30:52.861Z"
   },
   {
    "duration": 3,
    "start_time": "2022-11-08T09:30:58.362Z"
   },
   {
    "duration": 86,
    "start_time": "2022-11-08T09:31:51.404Z"
   },
   {
    "duration": 64,
    "start_time": "2022-11-08T09:31:58.243Z"
   },
   {
    "duration": 4,
    "start_time": "2022-11-08T09:32:00.652Z"
   },
   {
    "duration": 66,
    "start_time": "2022-11-08T09:32:01.611Z"
   },
   {
    "duration": 211,
    "start_time": "2022-11-08T09:32:10.621Z"
   },
   {
    "duration": 261,
    "start_time": "2022-11-08T09:32:14.660Z"
   },
   {
    "duration": 146,
    "start_time": "2022-11-08T09:32:15.799Z"
   },
   {
    "duration": 14,
    "start_time": "2022-11-08T09:32:19.775Z"
   },
   {
    "duration": 89,
    "start_time": "2022-11-08T09:33:18.963Z"
   },
   {
    "duration": 10,
    "start_time": "2022-11-08T09:33:20.807Z"
   },
   {
    "duration": 18,
    "start_time": "2022-11-08T09:33:22.593Z"
   },
   {
    "duration": 9,
    "start_time": "2022-11-08T09:33:25.376Z"
   },
   {
    "duration": 955,
    "start_time": "2022-11-08T09:36:52.960Z"
   },
   {
    "duration": 5,
    "start_time": "2022-11-08T09:36:58.712Z"
   },
   {
    "duration": 1019,
    "start_time": "2022-11-08T09:37:00.160Z"
   },
   {
    "duration": 162,
    "start_time": "2022-11-08T09:37:01.181Z"
   },
   {
    "duration": 137,
    "start_time": "2022-11-08T09:37:01.578Z"
   },
   {
    "duration": 12,
    "start_time": "2022-11-08T09:37:02.088Z"
   },
   {
    "duration": 3,
    "start_time": "2022-11-08T09:37:04.950Z"
   },
   {
    "duration": 92,
    "start_time": "2022-11-08T09:37:07.406Z"
   },
   {
    "duration": 43,
    "start_time": "2022-11-08T09:37:09.551Z"
   },
   {
    "duration": 4,
    "start_time": "2022-11-08T09:37:11.750Z"
   },
   {
    "duration": 45,
    "start_time": "2022-11-08T09:37:13.771Z"
   },
   {
    "duration": 34,
    "start_time": "2022-11-08T09:37:44.585Z"
   },
   {
    "duration": 24,
    "start_time": "2022-11-08T09:38:24.146Z"
   },
   {
    "duration": 24,
    "start_time": "2022-11-08T09:38:34.061Z"
   },
   {
    "duration": 43,
    "start_time": "2022-11-08T09:43:32.649Z"
   },
   {
    "duration": 36,
    "start_time": "2022-11-08T09:43:43.175Z"
   },
   {
    "duration": 38,
    "start_time": "2022-11-08T09:43:53.664Z"
   },
   {
    "duration": 33,
    "start_time": "2022-11-08T09:44:08.719Z"
   },
   {
    "duration": 35,
    "start_time": "2022-11-08T09:44:25.722Z"
   },
   {
    "duration": 156,
    "start_time": "2022-11-08T09:44:28.269Z"
   },
   {
    "duration": 194,
    "start_time": "2022-11-08T09:44:30.186Z"
   },
   {
    "duration": 145,
    "start_time": "2022-11-08T09:44:32.047Z"
   },
   {
    "duration": 11,
    "start_time": "2022-11-08T09:44:34.567Z"
   },
   {
    "duration": 65,
    "start_time": "2022-11-08T09:44:37.082Z"
   },
   {
    "duration": 90,
    "start_time": "2022-11-08T09:44:44.097Z"
   },
   {
    "duration": 9,
    "start_time": "2022-11-08T09:44:47.738Z"
   },
   {
    "duration": 18,
    "start_time": "2022-11-08T09:44:48.471Z"
   },
   {
    "duration": 7,
    "start_time": "2022-11-08T09:44:51.493Z"
   },
   {
    "duration": 15,
    "start_time": "2022-11-08T09:45:50.163Z"
   },
   {
    "duration": 8,
    "start_time": "2022-11-08T09:46:28.065Z"
   },
   {
    "duration": 58,
    "start_time": "2022-11-08T09:49:03.280Z"
   },
   {
    "duration": 62,
    "start_time": "2022-11-08T09:49:16.983Z"
   },
   {
    "duration": 19,
    "start_time": "2022-11-08T09:53:45.157Z"
   },
   {
    "duration": 30,
    "start_time": "2022-11-08T09:55:12.698Z"
   },
   {
    "duration": 12,
    "start_time": "2022-11-08T09:55:37.139Z"
   },
   {
    "duration": 17,
    "start_time": "2022-11-08T09:56:11.097Z"
   },
   {
    "duration": 8,
    "start_time": "2022-11-08T09:56:17.679Z"
   },
   {
    "duration": 6,
    "start_time": "2022-11-08T09:56:36.161Z"
   },
   {
    "duration": 6,
    "start_time": "2022-11-08T09:56:46.278Z"
   },
   {
    "duration": 12,
    "start_time": "2022-11-08T09:59:13.732Z"
   },
   {
    "duration": 1324,
    "start_time": "2022-11-08T10:00:09.185Z"
   },
   {
    "duration": 2654,
    "start_time": "2022-11-08T10:00:11.765Z"
   },
   {
    "duration": 135,
    "start_time": "2022-11-08T10:00:14.421Z"
   },
   {
    "duration": 139,
    "start_time": "2022-11-08T10:00:17.746Z"
   },
   {
    "duration": 16,
    "start_time": "2022-11-08T10:00:21.845Z"
   },
   {
    "duration": 4,
    "start_time": "2022-11-08T10:00:24.914Z"
   },
   {
    "duration": 110,
    "start_time": "2022-11-08T10:00:27.520Z"
   },
   {
    "duration": 60,
    "start_time": "2022-11-08T10:00:29.948Z"
   },
   {
    "duration": 4,
    "start_time": "2022-11-08T10:00:32.626Z"
   },
   {
    "duration": 51,
    "start_time": "2022-11-08T10:00:34.337Z"
   },
   {
    "duration": 203,
    "start_time": "2022-11-08T10:00:37.133Z"
   },
   {
    "duration": 245,
    "start_time": "2022-11-08T10:00:38.514Z"
   },
   {
    "duration": 149,
    "start_time": "2022-11-08T10:00:39.580Z"
   },
   {
    "duration": 10,
    "start_time": "2022-11-08T10:00:42.277Z"
   },
   {
    "duration": 66,
    "start_time": "2022-11-08T10:00:44.762Z"
   },
   {
    "duration": 81,
    "start_time": "2022-11-08T10:00:48.179Z"
   },
   {
    "duration": 11,
    "start_time": "2022-11-08T10:00:50.886Z"
   },
   {
    "duration": 17,
    "start_time": "2022-11-08T10:00:52.356Z"
   },
   {
    "duration": 10,
    "start_time": "2022-11-08T10:00:57.528Z"
   },
   {
    "duration": 8,
    "start_time": "2022-11-08T10:00:58.191Z"
   },
   {
    "duration": 124,
    "start_time": "2022-11-08T10:01:00.019Z"
   },
   {
    "duration": 865,
    "start_time": "2022-11-08T10:01:11.656Z"
   },
   {
    "duration": 27,
    "start_time": "2022-11-08T10:02:01.337Z"
   },
   {
    "duration": 10,
    "start_time": "2022-11-08T14:02:14.129Z"
   },
   {
    "duration": 6,
    "start_time": "2022-11-08T14:04:29.096Z"
   },
   {
    "duration": 6,
    "start_time": "2022-11-08T14:05:05.814Z"
   },
   {
    "duration": 6,
    "start_time": "2022-11-08T14:05:13.983Z"
   },
   {
    "duration": 5,
    "start_time": "2022-11-08T14:07:00.399Z"
   },
   {
    "duration": 6,
    "start_time": "2022-11-08T14:07:04.795Z"
   },
   {
    "duration": 10,
    "start_time": "2022-11-08T14:08:03.696Z"
   },
   {
    "duration": 10,
    "start_time": "2022-11-08T14:08:14.441Z"
   },
   {
    "duration": 12,
    "start_time": "2022-11-08T14:11:16.083Z"
   },
   {
    "duration": 18,
    "start_time": "2022-11-08T14:15:45.033Z"
   },
   {
    "duration": 17,
    "start_time": "2022-11-08T14:17:33.823Z"
   },
   {
    "duration": 64,
    "start_time": "2022-11-08T14:18:05.485Z"
   },
   {
    "duration": 816,
    "start_time": "2022-11-08T14:19:45.719Z"
   },
   {
    "duration": 732,
    "start_time": "2022-11-08T14:19:53.125Z"
   },
   {
    "duration": 734,
    "start_time": "2022-11-08T14:20:06.250Z"
   },
   {
    "duration": 740,
    "start_time": "2022-11-08T14:20:58.925Z"
   },
   {
    "duration": 3,
    "start_time": "2022-11-08T14:21:11.924Z"
   },
   {
    "duration": 1449,
    "start_time": "2022-11-08T14:21:15.025Z"
   },
   {
    "duration": 194,
    "start_time": "2022-11-08T14:21:17.776Z"
   },
   {
    "duration": 126,
    "start_time": "2022-11-08T14:21:20.448Z"
   },
   {
    "duration": 12,
    "start_time": "2022-11-08T14:21:22.641Z"
   },
   {
    "duration": 4,
    "start_time": "2022-11-08T14:21:25.586Z"
   },
   {
    "duration": 86,
    "start_time": "2022-11-08T14:21:27.766Z"
   },
   {
    "duration": 38,
    "start_time": "2022-11-08T14:21:31.364Z"
   },
   {
    "duration": 4,
    "start_time": "2022-11-08T14:21:34.242Z"
   },
   {
    "duration": 32,
    "start_time": "2022-11-08T14:21:36.207Z"
   },
   {
    "duration": 159,
    "start_time": "2022-11-08T14:21:39.504Z"
   },
   {
    "duration": 194,
    "start_time": "2022-11-08T14:21:41.474Z"
   },
   {
    "duration": 149,
    "start_time": "2022-11-08T14:21:43.038Z"
   },
   {
    "duration": 13,
    "start_time": "2022-11-08T14:21:47.513Z"
   },
   {
    "duration": 65,
    "start_time": "2022-11-08T14:21:51.401Z"
   },
   {
    "duration": 80,
    "start_time": "2022-11-08T14:21:54.151Z"
   },
   {
    "duration": 8,
    "start_time": "2022-11-08T14:21:55.914Z"
   },
   {
    "duration": 19,
    "start_time": "2022-11-08T14:21:59.313Z"
   },
   {
    "duration": 9,
    "start_time": "2022-11-08T14:22:02.667Z"
   },
   {
    "duration": 6,
    "start_time": "2022-11-08T14:22:05.898Z"
   },
   {
    "duration": 20,
    "start_time": "2022-11-08T14:22:08.270Z"
   },
   {
    "duration": 6,
    "start_time": "2022-11-08T14:22:11.258Z"
   },
   {
    "duration": 10,
    "start_time": "2022-11-08T14:22:13.340Z"
   },
   {
    "duration": 18,
    "start_time": "2022-11-08T14:22:14.950Z"
   },
   {
    "duration": 14,
    "start_time": "2022-11-08T14:22:17.849Z"
   },
   {
    "duration": 8,
    "start_time": "2022-11-08T14:23:02.103Z"
   },
   {
    "duration": 3,
    "start_time": "2022-11-08T14:24:16.368Z"
   },
   {
    "duration": 17,
    "start_time": "2022-11-08T14:24:40.675Z"
   },
   {
    "duration": 58,
    "start_time": "2022-11-08T14:24:51.452Z"
   },
   {
    "duration": 443,
    "start_time": "2022-11-08T14:25:24.198Z"
   },
   {
    "duration": 153,
    "start_time": "2022-11-08T14:25:41.384Z"
   },
   {
    "duration": 289,
    "start_time": "2022-11-08T14:25:43.792Z"
   },
   {
    "duration": 1769,
    "start_time": "2022-11-08T14:25:47.026Z"
   },
   {
    "duration": 12637,
    "start_time": "2022-11-08T14:25:51.796Z"
   },
   {
    "duration": 4609,
    "start_time": "2022-11-08T14:26:26.245Z"
   },
   {
    "duration": 13549,
    "start_time": "2022-11-08T14:26:34.185Z"
   },
   {
    "duration": 13611,
    "start_time": "2022-11-08T14:27:09.733Z"
   },
   {
    "duration": 1777,
    "start_time": "2022-11-08T14:27:29.777Z"
   },
   {
    "duration": 17552,
    "start_time": "2022-11-08T14:27:42.489Z"
   },
   {
    "duration": 3,
    "start_time": "2022-11-08T14:28:25.604Z"
   },
   {
    "duration": 723,
    "start_time": "2022-11-08T14:28:27.899Z"
   },
   {
    "duration": 130,
    "start_time": "2022-11-08T14:28:29.537Z"
   },
   {
    "duration": 123,
    "start_time": "2022-11-08T14:28:31.574Z"
   },
   {
    "duration": 13,
    "start_time": "2022-11-08T14:28:33.399Z"
   },
   {
    "duration": 4,
    "start_time": "2022-11-08T14:28:36.754Z"
   },
   {
    "duration": 86,
    "start_time": "2022-11-08T14:28:38.861Z"
   },
   {
    "duration": 14,
    "start_time": "2022-11-08T14:30:31.088Z"
   },
   {
    "duration": 16,
    "start_time": "2022-11-08T14:31:06.115Z"
   },
   {
    "duration": 172,
    "start_time": "2022-11-08T14:31:09.731Z"
   },
   {
    "duration": 236,
    "start_time": "2022-11-08T14:31:11.128Z"
   },
   {
    "duration": 173,
    "start_time": "2022-11-08T14:31:13.529Z"
   },
   {
    "duration": 10,
    "start_time": "2022-11-08T14:31:17.009Z"
   },
   {
    "duration": 9,
    "start_time": "2022-11-08T14:31:22.054Z"
   },
   {
    "duration": 18,
    "start_time": "2022-11-08T14:31:23.391Z"
   },
   {
    "duration": 8,
    "start_time": "2022-11-08T14:31:26.261Z"
   },
   {
    "duration": 6,
    "start_time": "2022-11-08T14:31:27.694Z"
   },
   {
    "duration": 21,
    "start_time": "2022-11-08T14:31:29.557Z"
   },
   {
    "duration": 7,
    "start_time": "2022-11-08T14:31:31.672Z"
   },
   {
    "duration": 10,
    "start_time": "2022-11-08T14:31:33.132Z"
   },
   {
    "duration": 11,
    "start_time": "2022-11-08T14:31:36.187Z"
   },
   {
    "duration": 85,
    "start_time": "2022-11-08T14:31:41.446Z"
   },
   {
    "duration": 22,
    "start_time": "2022-11-08T14:31:49.840Z"
   },
   {
    "duration": 20,
    "start_time": "2022-11-08T14:31:54.077Z"
   },
   {
    "duration": 17,
    "start_time": "2022-11-08T14:31:56.748Z"
   },
   {
    "duration": 67,
    "start_time": "2022-11-08T14:31:58.635Z"
   },
   {
    "duration": 10,
    "start_time": "2022-11-08T14:32:13.053Z"
   },
   {
    "duration": 23,
    "start_time": "2022-11-08T14:32:29.641Z"
   },
   {
    "duration": 10,
    "start_time": "2022-11-08T14:32:36.845Z"
   },
   {
    "duration": 17,
    "start_time": "2022-11-08T14:34:42.742Z"
   },
   {
    "duration": 67,
    "start_time": "2022-11-08T14:34:45.467Z"
   },
   {
    "duration": 395,
    "start_time": "2022-11-08T14:38:09.253Z"
   },
   {
    "duration": 2,
    "start_time": "2022-11-08T14:38:18.617Z"
   },
   {
    "duration": 185,
    "start_time": "2022-11-08T14:39:39.154Z"
   },
   {
    "duration": 12369,
    "start_time": "2022-11-08T14:40:13.573Z"
   },
   {
    "duration": 158820,
    "start_time": "2022-11-08T14:40:47.347Z"
   },
   {
    "duration": 78,
    "start_time": "2022-11-08T14:43:46.440Z"
   },
   {
    "duration": 137554,
    "start_time": "2022-11-08T14:44:01.794Z"
   },
   {
    "duration": 1771,
    "start_time": "2022-11-08T14:46:34.755Z"
   },
   {
    "duration": 1592,
    "start_time": "2022-11-08T14:46:47.199Z"
   },
   {
    "duration": 33088,
    "start_time": "2022-11-08T14:47:22.165Z"
   },
   {
    "duration": 17504,
    "start_time": "2022-11-08T14:48:30.092Z"
   },
   {
    "duration": 6,
    "start_time": "2022-11-08T14:50:48.944Z"
   },
   {
    "duration": 6,
    "start_time": "2022-11-08T14:51:01.636Z"
   },
   {
    "duration": 3,
    "start_time": "2022-11-08T14:54:10.176Z"
   },
   {
    "duration": 68,
    "start_time": "2022-11-08T14:55:12.881Z"
   },
   {
    "duration": 76,
    "start_time": "2022-11-08T14:55:47.971Z"
   },
   {
    "duration": 75,
    "start_time": "2022-11-08T14:55:52.160Z"
   },
   {
    "duration": 3,
    "start_time": "2022-11-08T14:56:12.096Z"
   },
   {
    "duration": 67,
    "start_time": "2022-11-08T14:56:17.714Z"
   },
   {
    "duration": 5,
    "start_time": "2022-11-08T15:01:55.340Z"
   },
   {
    "duration": 72,
    "start_time": "2022-11-08T15:02:17.140Z"
   },
   {
    "duration": 78,
    "start_time": "2022-11-08T15:02:54.656Z"
   },
   {
    "duration": 94,
    "start_time": "2022-11-08T15:03:15.297Z"
   },
   {
    "duration": 4,
    "start_time": "2022-11-08T15:04:40.946Z"
   },
   {
    "duration": 851,
    "start_time": "2022-11-08T15:04:43.326Z"
   },
   {
    "duration": 3,
    "start_time": "2022-11-08T15:04:48.596Z"
   },
   {
    "duration": 105,
    "start_time": "2022-11-08T15:04:51.234Z"
   },
   {
    "duration": 47,
    "start_time": "2022-11-08T15:04:53.207Z"
   },
   {
    "duration": 5,
    "start_time": "2022-11-08T15:04:54.860Z"
   },
   {
    "duration": 50,
    "start_time": "2022-11-08T15:04:57.117Z"
   },
   {
    "duration": 180,
    "start_time": "2022-11-08T15:04:59.625Z"
   },
   {
    "duration": 202,
    "start_time": "2022-11-08T15:05:01.946Z"
   },
   {
    "duration": 165,
    "start_time": "2022-11-08T15:05:02.371Z"
   },
   {
    "duration": 9,
    "start_time": "2022-11-08T15:05:08.068Z"
   },
   {
    "duration": 23,
    "start_time": "2022-11-08T15:05:08.748Z"
   },
   {
    "duration": 9,
    "start_time": "2022-11-08T15:05:10.253Z"
   },
   {
    "duration": 6,
    "start_time": "2022-11-08T15:05:10.488Z"
   },
   {
    "duration": 31,
    "start_time": "2022-11-08T15:05:10.759Z"
   },
   {
    "duration": 6,
    "start_time": "2022-11-08T15:05:11.072Z"
   },
   {
    "duration": 11,
    "start_time": "2022-11-08T15:05:11.299Z"
   },
   {
    "duration": 19,
    "start_time": "2022-11-08T15:05:11.687Z"
   },
   {
    "duration": 8,
    "start_time": "2022-11-08T15:05:12.967Z"
   },
   {
    "duration": 19,
    "start_time": "2022-11-08T15:05:13.416Z"
   },
   {
    "duration": 11,
    "start_time": "2022-11-08T15:05:16.803Z"
   },
   {
    "duration": 14,
    "start_time": "2022-11-08T15:05:21.026Z"
   },
   {
    "duration": 73,
    "start_time": "2022-11-08T15:05:21.556Z"
   },
   {
    "duration": 4,
    "start_time": "2022-11-08T15:05:24.788Z"
   },
   {
    "duration": 165,
    "start_time": "2022-11-08T15:05:27.187Z"
   },
   {
    "duration": 67,
    "start_time": "2022-11-08T15:05:34.845Z"
   },
   {
    "duration": 77,
    "start_time": "2022-11-08T15:06:06.418Z"
   },
   {
    "duration": 1499,
    "start_time": "2022-11-08T15:06:14.868Z"
   },
   {
    "duration": 2,
    "start_time": "2022-11-08T15:06:35.428Z"
   },
   {
    "duration": 1551,
    "start_time": "2022-11-08T15:06:56.429Z"
   },
   {
    "duration": 102,
    "start_time": "2022-11-08T15:08:03.309Z"
   },
   {
    "duration": 213,
    "start_time": "2022-11-08T15:18:01.085Z"
   },
   {
    "duration": 1993,
    "start_time": "2022-11-08T15:18:29.131Z"
   },
   {
    "duration": 14,
    "start_time": "2022-11-08T15:25:48.669Z"
   },
   {
    "duration": 21,
    "start_time": "2022-11-08T15:41:15.067Z"
   },
   {
    "duration": 51,
    "start_time": "2022-11-08T15:41:17.841Z"
   },
   {
    "duration": 884,
    "start_time": "2022-11-08T15:42:28.473Z"
   },
   {
    "duration": 854,
    "start_time": "2022-11-08T15:42:49.661Z"
   },
   {
    "duration": 81,
    "start_time": "2022-11-08T15:43:29.143Z"
   },
   {
    "duration": 20,
    "start_time": "2022-11-08T15:43:32.215Z"
   },
   {
    "duration": 8,
    "start_time": "2022-11-08T15:43:40.649Z"
   },
   {
    "duration": 46,
    "start_time": "2022-11-08T15:43:42.101Z"
   },
   {
    "duration": 2,
    "start_time": "2022-11-08T15:43:44.841Z"
   },
   {
    "duration": 142,
    "start_time": "2022-11-08T15:43:46.816Z"
   },
   {
    "duration": 2427,
    "start_time": "2022-11-08T15:43:56.969Z"
   },
   {
    "duration": 8538,
    "start_time": "2022-11-08T15:44:08.009Z"
   },
   {
    "duration": 9176,
    "start_time": "2022-11-08T15:44:33.272Z"
   },
   {
    "duration": 7949,
    "start_time": "2022-11-08T15:45:03.596Z"
   },
   {
    "duration": 5,
    "start_time": "2022-11-08T15:46:26.165Z"
   },
   {
    "duration": 6,
    "start_time": "2022-11-08T15:46:33.241Z"
   },
   {
    "duration": 7,
    "start_time": "2022-11-08T15:46:37.226Z"
   },
   {
    "duration": 4,
    "start_time": "2022-11-08T15:47:09.330Z"
   },
   {
    "duration": 705,
    "start_time": "2022-11-08T15:47:11.370Z"
   },
   {
    "duration": 132,
    "start_time": "2022-11-08T15:47:13.340Z"
   },
   {
    "duration": 124,
    "start_time": "2022-11-08T15:47:15.274Z"
   },
   {
    "duration": 12,
    "start_time": "2022-11-08T15:47:17.508Z"
   },
   {
    "duration": 3,
    "start_time": "2022-11-08T15:47:21.097Z"
   },
   {
    "duration": 99,
    "start_time": "2022-11-08T15:47:46.651Z"
   },
   {
    "duration": 39,
    "start_time": "2022-11-08T15:47:48.982Z"
   },
   {
    "duration": 5,
    "start_time": "2022-11-08T15:47:50.790Z"
   },
   {
    "duration": 44,
    "start_time": "2022-11-08T15:47:52.281Z"
   },
   {
    "duration": 161,
    "start_time": "2022-11-08T15:47:54.720Z"
   },
   {
    "duration": 193,
    "start_time": "2022-11-08T15:47:56.086Z"
   },
   {
    "duration": 151,
    "start_time": "2022-11-08T15:47:57.218Z"
   },
   {
    "duration": 10,
    "start_time": "2022-11-08T15:47:59.971Z"
   },
   {
    "duration": 8,
    "start_time": "2022-11-08T15:48:14.824Z"
   },
   {
    "duration": 18,
    "start_time": "2022-11-08T15:48:15.499Z"
   },
   {
    "duration": 10,
    "start_time": "2022-11-08T15:48:17.699Z"
   },
   {
    "duration": 6,
    "start_time": "2022-11-08T15:48:18.585Z"
   },
   {
    "duration": 20,
    "start_time": "2022-11-08T15:48:19.312Z"
   },
   {
    "duration": 6,
    "start_time": "2022-11-08T15:48:20.419Z"
   },
   {
    "duration": 11,
    "start_time": "2022-11-08T15:48:21.828Z"
   },
   {
    "duration": 18,
    "start_time": "2022-11-08T15:48:22.401Z"
   },
   {
    "duration": 9,
    "start_time": "2022-11-08T15:48:23.323Z"
   },
   {
    "duration": 17,
    "start_time": "2022-11-08T15:48:23.883Z"
   },
   {
    "duration": 99,
    "start_time": "2022-11-08T15:48:25.863Z"
   },
   {
    "duration": 20,
    "start_time": "2022-11-08T15:48:26.900Z"
   },
   {
    "duration": 18,
    "start_time": "2022-11-08T15:54:33.945Z"
   },
   {
    "duration": 11,
    "start_time": "2022-11-08T15:54:55.590Z"
   },
   {
    "duration": 11,
    "start_time": "2022-11-08T16:04:59.700Z"
   },
   {
    "duration": 3,
    "start_time": "2022-11-08T16:05:44.332Z"
   },
   {
    "duration": 308,
    "start_time": "2022-11-08T16:05:52.905Z"
   },
   {
    "duration": 21,
    "start_time": "2022-11-08T16:06:15.365Z"
   },
   {
    "duration": 339,
    "start_time": "2022-11-08T16:07:27.121Z"
   },
   {
    "duration": 12,
    "start_time": "2022-11-08T16:07:34.485Z"
   },
   {
    "duration": 6,
    "start_time": "2022-11-08T16:07:38.819Z"
   },
   {
    "duration": 44,
    "start_time": "2022-11-08T16:07:39.891Z"
   },
   {
    "duration": 327,
    "start_time": "2022-11-08T16:07:41.836Z"
   },
   {
    "duration": 2,
    "start_time": "2022-11-08T16:07:43.930Z"
   },
   {
    "duration": 401,
    "start_time": "2022-11-08T16:07:44.761Z"
   },
   {
    "duration": 192,
    "start_time": "2022-11-08T16:07:50.429Z"
   },
   {
    "duration": 13742,
    "start_time": "2022-11-08T16:08:00.192Z"
   },
   {
    "duration": 92,
    "start_time": "2022-11-08T16:08:37.023Z"
   },
   {
    "duration": 12,
    "start_time": "2022-11-08T16:09:26.616Z"
   },
   {
    "duration": 5,
    "start_time": "2022-11-08T16:09:29.956Z"
   },
   {
    "duration": 46,
    "start_time": "2022-11-08T16:09:30.468Z"
   },
   {
    "duration": 330,
    "start_time": "2022-11-08T16:09:32.789Z"
   },
   {
    "duration": 3,
    "start_time": "2022-11-08T16:09:34.800Z"
   },
   {
    "duration": 185,
    "start_time": "2022-11-08T16:09:36.774Z"
   },
   {
    "duration": 14696,
    "start_time": "2022-11-08T16:09:40.060Z"
   },
   {
    "duration": 3,
    "start_time": "2022-11-08T16:10:17.792Z"
   },
   {
    "duration": 1406,
    "start_time": "2022-11-09T13:31:22.620Z"
   },
   {
    "duration": 1073,
    "start_time": "2022-11-09T13:31:28.119Z"
   },
   {
    "duration": 135,
    "start_time": "2022-11-09T13:31:30.455Z"
   },
   {
    "duration": 132,
    "start_time": "2022-11-09T13:31:33.242Z"
   },
   {
    "duration": 20,
    "start_time": "2022-11-09T13:31:37.457Z"
   },
   {
    "duration": 5,
    "start_time": "2022-11-09T13:31:41.225Z"
   },
   {
    "duration": 123,
    "start_time": "2022-11-09T13:31:44.353Z"
   },
   {
    "duration": 64,
    "start_time": "2022-11-09T13:31:46.358Z"
   },
   {
    "duration": 4,
    "start_time": "2022-11-09T13:31:48.769Z"
   },
   {
    "duration": 54,
    "start_time": "2022-11-09T13:31:50.582Z"
   },
   {
    "duration": 196,
    "start_time": "2022-11-09T13:31:53.328Z"
   },
   {
    "duration": 254,
    "start_time": "2022-11-09T13:31:55.054Z"
   },
   {
    "duration": 153,
    "start_time": "2022-11-09T13:31:56.215Z"
   },
   {
    "duration": 10,
    "start_time": "2022-11-09T13:31:58.760Z"
   },
   {
    "duration": 73,
    "start_time": "2022-11-09T13:32:00.769Z"
   },
   {
    "duration": 90,
    "start_time": "2022-11-09T13:32:03.712Z"
   },
   {
    "duration": 11,
    "start_time": "2022-11-09T13:32:06.619Z"
   },
   {
    "duration": 17,
    "start_time": "2022-11-09T13:32:08.252Z"
   },
   {
    "duration": 10,
    "start_time": "2022-11-09T13:32:09.872Z"
   },
   {
    "duration": 6,
    "start_time": "2022-11-09T13:32:11.274Z"
   },
   {
    "duration": 22,
    "start_time": "2022-11-09T13:32:12.008Z"
   },
   {
    "duration": 7,
    "start_time": "2022-11-09T13:32:14.718Z"
   },
   {
    "duration": 11,
    "start_time": "2022-11-09T13:32:16.011Z"
   },
   {
    "duration": 20,
    "start_time": "2022-11-09T13:32:16.749Z"
   },
   {
    "duration": 10,
    "start_time": "2022-11-09T13:32:18.983Z"
   },
   {
    "duration": 16,
    "start_time": "2022-11-09T13:32:20.395Z"
   },
   {
    "duration": 101,
    "start_time": "2022-11-09T13:32:22.232Z"
   },
   {
    "duration": 20,
    "start_time": "2022-11-09T13:32:26.993Z"
   },
   {
    "duration": 12,
    "start_time": "2022-11-09T13:32:31.847Z"
   },
   {
    "duration": 6,
    "start_time": "2022-11-09T13:32:37.947Z"
   },
   {
    "duration": 45,
    "start_time": "2022-11-09T13:32:39.294Z"
   },
   {
    "duration": 360,
    "start_time": "2022-11-09T13:32:50.102Z"
   },
   {
    "duration": 3,
    "start_time": "2022-11-09T13:32:54.701Z"
   },
   {
    "duration": 223,
    "start_time": "2022-11-09T13:33:00.151Z"
   },
   {
    "duration": 18596,
    "start_time": "2022-11-09T13:33:07.802Z"
   },
   {
    "duration": 444,
    "start_time": "2022-11-09T13:33:55.159Z"
   },
   {
    "duration": 832,
    "start_time": "2022-11-09T13:34:06.542Z"
   },
   {
    "duration": 111,
    "start_time": "2022-11-09T13:34:30.564Z"
   },
   {
    "duration": 4,
    "start_time": "2022-11-09T13:34:37.175Z"
   },
   {
    "duration": 2,
    "start_time": "2022-11-09T13:34:40.758Z"
   },
   {
    "duration": 32626,
    "start_time": "2022-11-09T13:36:34.206Z"
   },
   {
    "duration": 32856,
    "start_time": "2022-11-09T13:37:14.995Z"
   },
   {
    "duration": 121,
    "start_time": "2022-11-09T13:42:42.312Z"
   },
   {
    "duration": 4,
    "start_time": "2022-11-09T13:44:18.774Z"
   },
   {
    "duration": 858,
    "start_time": "2022-11-09T13:44:20.996Z"
   },
   {
    "duration": 150,
    "start_time": "2022-11-09T13:44:22.710Z"
   },
   {
    "duration": 141,
    "start_time": "2022-11-09T13:44:24.651Z"
   },
   {
    "duration": 14,
    "start_time": "2022-11-09T13:44:25.615Z"
   },
   {
    "duration": 4,
    "start_time": "2022-11-09T13:44:28.749Z"
   },
   {
    "duration": 100,
    "start_time": "2022-11-09T13:44:31.292Z"
   },
   {
    "duration": 44,
    "start_time": "2022-11-09T13:44:33.251Z"
   },
   {
    "duration": 5,
    "start_time": "2022-11-09T13:44:35.406Z"
   },
   {
    "duration": 47,
    "start_time": "2022-11-09T13:44:36.609Z"
   },
   {
    "duration": 175,
    "start_time": "2022-11-09T13:44:38.625Z"
   },
   {
    "duration": 231,
    "start_time": "2022-11-09T13:44:39.159Z"
   },
   {
    "duration": 199,
    "start_time": "2022-11-09T13:44:39.651Z"
   },
   {
    "duration": 11,
    "start_time": "2022-11-09T13:44:41.927Z"
   },
   {
    "duration": 73,
    "start_time": "2022-11-09T13:44:44.395Z"
   },
   {
    "duration": 92,
    "start_time": "2022-11-09T13:44:47.119Z"
   },
   {
    "duration": 10,
    "start_time": "2022-11-09T13:44:49.263Z"
   },
   {
    "duration": 18,
    "start_time": "2022-11-09T13:44:49.845Z"
   },
   {
    "duration": 10,
    "start_time": "2022-11-09T13:44:50.790Z"
   },
   {
    "duration": 5,
    "start_time": "2022-11-09T13:44:51.194Z"
   },
   {
    "duration": 21,
    "start_time": "2022-11-09T13:44:51.647Z"
   },
   {
    "duration": 6,
    "start_time": "2022-11-09T13:44:53.722Z"
   },
   {
    "duration": 12,
    "start_time": "2022-11-09T13:44:54.079Z"
   },
   {
    "duration": 21,
    "start_time": "2022-11-09T13:44:54.408Z"
   },
   {
    "duration": 10,
    "start_time": "2022-11-09T13:44:55.062Z"
   },
   {
    "duration": 17,
    "start_time": "2022-11-09T13:44:55.406Z"
   },
   {
    "duration": 111,
    "start_time": "2022-11-09T13:44:57.183Z"
   },
   {
    "duration": 19,
    "start_time": "2022-11-09T13:44:58.611Z"
   },
   {
    "duration": 18,
    "start_time": "2022-11-09T13:45:01.352Z"
   },
   {
    "duration": 7,
    "start_time": "2022-11-09T13:45:21.368Z"
   },
   {
    "duration": 46,
    "start_time": "2022-11-09T13:45:22.706Z"
   },
   {
    "duration": 333,
    "start_time": "2022-11-09T13:45:25.271Z"
   },
   {
    "duration": 3,
    "start_time": "2022-11-09T13:45:27.828Z"
   },
   {
    "duration": 243,
    "start_time": "2022-11-09T13:45:28.443Z"
   },
   {
    "duration": 211,
    "start_time": "2022-11-09T13:45:33.860Z"
   },
   {
    "duration": 14,
    "start_time": "2022-11-09T13:45:37.606Z"
   },
   {
    "duration": 12,
    "start_time": "2022-11-09T13:46:27.245Z"
   },
   {
    "duration": 3,
    "start_time": "2022-11-09T13:47:15.684Z"
   },
   {
    "duration": 263,
    "start_time": "2022-11-09T13:47:16.248Z"
   },
   {
    "duration": 193,
    "start_time": "2022-11-09T13:47:18.252Z"
   },
   {
    "duration": 15,
    "start_time": "2022-11-09T13:47:18.999Z"
   },
   {
    "duration": 11,
    "start_time": "2022-11-09T13:48:38.253Z"
   },
   {
    "duration": 11,
    "start_time": "2022-11-09T13:48:41.611Z"
   },
   {
    "duration": 13440,
    "start_time": "2022-11-09T13:48:44.862Z"
   },
   {
    "duration": 241,
    "start_time": "2022-11-09T13:49:18.771Z"
   },
   {
    "duration": 4738,
    "start_time": "2022-11-09T13:49:33.907Z"
   },
   {
    "duration": 3,
    "start_time": "2022-11-09T14:21:14.436Z"
   },
   {
    "duration": 760,
    "start_time": "2022-11-09T14:21:14.440Z"
   },
   {
    "duration": 132,
    "start_time": "2022-11-09T14:21:15.202Z"
   },
   {
    "duration": 136,
    "start_time": "2022-11-09T14:21:15.335Z"
   },
   {
    "duration": 19,
    "start_time": "2022-11-09T14:21:15.473Z"
   },
   {
    "duration": 120,
    "start_time": "2022-11-09T14:22:58.057Z"
   },
   {
    "duration": 132,
    "start_time": "2022-11-09T14:23:00.215Z"
   },
   {
    "duration": 13,
    "start_time": "2022-11-09T14:23:02.035Z"
   },
   {
    "duration": 3,
    "start_time": "2022-11-09T14:23:04.762Z"
   },
   {
    "duration": 100,
    "start_time": "2022-11-09T14:23:07.876Z"
   },
   {
    "duration": 42,
    "start_time": "2022-11-09T14:23:10.301Z"
   },
   {
    "duration": 4,
    "start_time": "2022-11-09T14:23:12.151Z"
   },
   {
    "duration": 35,
    "start_time": "2022-11-09T14:23:13.537Z"
   },
   {
    "duration": 179,
    "start_time": "2022-11-09T14:23:17.159Z"
   },
   {
    "duration": 188,
    "start_time": "2022-11-09T14:23:20.435Z"
   },
   {
    "duration": 166,
    "start_time": "2022-11-09T14:23:21.968Z"
   },
   {
    "duration": 11,
    "start_time": "2022-11-09T14:23:26.428Z"
   },
   {
    "duration": 90,
    "start_time": "2022-11-09T14:23:29.745Z"
   },
   {
    "duration": 9,
    "start_time": "2022-11-09T14:23:32.520Z"
   },
   {
    "duration": 19,
    "start_time": "2022-11-09T14:23:33.377Z"
   },
   {
    "duration": 10,
    "start_time": "2022-11-09T14:23:35.217Z"
   },
   {
    "duration": 5,
    "start_time": "2022-11-09T14:23:35.859Z"
   },
   {
    "duration": 21,
    "start_time": "2022-11-09T14:23:36.282Z"
   },
   {
    "duration": 7,
    "start_time": "2022-11-09T14:23:38.712Z"
   },
   {
    "duration": 11,
    "start_time": "2022-11-09T14:23:39.249Z"
   },
   {
    "duration": 20,
    "start_time": "2022-11-09T14:23:39.749Z"
   },
   {
    "duration": 10,
    "start_time": "2022-11-09T14:23:42.802Z"
   },
   {
    "duration": 17,
    "start_time": "2022-11-09T14:23:43.405Z"
   },
   {
    "duration": 101,
    "start_time": "2022-11-09T14:23:45.925Z"
   },
   {
    "duration": 19,
    "start_time": "2022-11-09T14:23:47.563Z"
   },
   {
    "duration": 12,
    "start_time": "2022-11-09T14:23:50.762Z"
   },
   {
    "duration": 6,
    "start_time": "2022-11-09T14:23:55.168Z"
   },
   {
    "duration": 46,
    "start_time": "2022-11-09T14:23:56.390Z"
   },
   {
    "duration": 319,
    "start_time": "2022-11-09T14:24:03.070Z"
   },
   {
    "duration": 3,
    "start_time": "2022-11-09T14:24:05.823Z"
   },
   {
    "duration": 250,
    "start_time": "2022-11-09T14:24:07.102Z"
   },
   {
    "duration": 202,
    "start_time": "2022-11-09T14:24:10.247Z"
   },
   {
    "duration": 11,
    "start_time": "2022-11-09T14:24:11.619Z"
   },
   {
    "duration": 12914,
    "start_time": "2022-11-09T14:25:58.878Z"
   },
   {
    "duration": 5,
    "start_time": "2022-11-09T14:26:19.489Z"
   },
   {
    "duration": 14170,
    "start_time": "2022-11-09T14:26:25.622Z"
   },
   {
    "duration": 15069,
    "start_time": "2022-11-09T14:34:15.521Z"
   },
   {
    "duration": 41,
    "start_time": "2022-11-09T14:34:44.682Z"
   },
   {
    "duration": 14052,
    "start_time": "2022-11-09T14:34:49.942Z"
   },
   {
    "duration": 13102,
    "start_time": "2022-11-09T14:39:17.193Z"
   },
   {
    "duration": 131,
    "start_time": "2022-11-09T14:39:32.654Z"
   },
   {
    "duration": 12950,
    "start_time": "2022-11-09T14:41:18.136Z"
   },
   {
    "duration": 13044,
    "start_time": "2022-11-09T14:41:34.143Z"
   },
   {
    "duration": 13956,
    "start_time": "2022-11-09T14:42:27.635Z"
   },
   {
    "duration": 13505,
    "start_time": "2022-11-09T14:48:00.086Z"
   },
   {
    "duration": 13507,
    "start_time": "2022-11-09T14:51:59.481Z"
   },
   {
    "duration": 14839,
    "start_time": "2022-11-09T14:52:50.548Z"
   },
   {
    "duration": 13248,
    "start_time": "2022-11-09T14:53:07.843Z"
   },
   {
    "duration": 13591,
    "start_time": "2022-11-09T14:53:45.611Z"
   },
   {
    "duration": 10,
    "start_time": "2022-11-09T15:00:54.709Z"
   },
   {
    "duration": 14734,
    "start_time": "2022-11-09T15:01:32.651Z"
   },
   {
    "duration": 13422,
    "start_time": "2022-11-09T15:03:30.667Z"
   },
   {
    "duration": 4,
    "start_time": "2022-11-09T15:03:45.055Z"
   },
   {
    "duration": 3,
    "start_time": "2022-11-09T15:04:31.039Z"
   },
   {
    "duration": 230,
    "start_time": "2022-11-09T15:05:15.144Z"
   },
   {
    "duration": 11,
    "start_time": "2022-11-09T15:05:56.086Z"
   },
   {
    "duration": 5,
    "start_time": "2022-11-09T15:11:52.511Z"
   },
   {
    "duration": 20,
    "start_time": "2022-11-09T15:12:12.286Z"
   },
   {
    "duration": 71,
    "start_time": "2022-11-09T15:13:12.466Z"
   },
   {
    "duration": 251,
    "start_time": "2022-11-09T15:13:18.020Z"
   },
   {
    "duration": 5,
    "start_time": "2022-11-09T15:13:21.813Z"
   },
   {
    "duration": 317,
    "start_time": "2022-11-09T15:13:27.653Z"
   },
   {
    "duration": 19,
    "start_time": "2022-11-09T15:13:33.317Z"
   },
   {
    "duration": 279,
    "start_time": "2022-11-09T15:14:22.694Z"
   },
   {
    "duration": 20,
    "start_time": "2022-11-09T15:14:26.286Z"
   },
   {
    "duration": 4,
    "start_time": "2022-11-09T15:14:32.007Z"
   },
   {
    "duration": 44,
    "start_time": "2022-11-09T15:14:42.699Z"
   },
   {
    "duration": 6,
    "start_time": "2022-11-09T15:14:45.213Z"
   },
   {
    "duration": 45,
    "start_time": "2022-11-09T15:14:45.875Z"
   },
   {
    "duration": 315,
    "start_time": "2022-11-09T15:14:48.013Z"
   },
   {
    "duration": 3,
    "start_time": "2022-11-09T15:14:48.495Z"
   },
   {
    "duration": 313,
    "start_time": "2022-11-09T15:14:49.042Z"
   },
   {
    "duration": 4,
    "start_time": "2022-11-09T15:14:51.197Z"
   },
   {
    "duration": 229,
    "start_time": "2022-11-09T15:15:41.149Z"
   },
   {
    "duration": 5,
    "start_time": "2022-11-09T15:15:43.946Z"
   },
   {
    "duration": 267,
    "start_time": "2022-11-09T15:15:57.350Z"
   },
   {
    "duration": 10,
    "start_time": "2022-11-09T15:16:54.115Z"
   },
   {
    "duration": 378,
    "start_time": "2022-11-09T15:20:40.971Z"
   },
   {
    "duration": 15,
    "start_time": "2022-11-09T15:20:58.614Z"
   },
   {
    "duration": 310,
    "start_time": "2022-11-09T15:24:00.755Z"
   },
   {
    "duration": 13,
    "start_time": "2022-11-09T15:24:03.769Z"
   },
   {
    "duration": 283,
    "start_time": "2022-11-09T15:24:07.854Z"
   },
   {
    "duration": 14,
    "start_time": "2022-11-09T15:24:08.506Z"
   },
   {
    "duration": 21,
    "start_time": "2022-11-09T15:25:10.580Z"
   },
   {
    "duration": 253,
    "start_time": "2022-11-09T15:31:01.790Z"
   },
   {
    "duration": 414,
    "start_time": "2022-11-09T15:31:20.275Z"
   },
   {
    "duration": 21,
    "start_time": "2022-11-09T15:31:49.524Z"
   },
   {
    "duration": 272,
    "start_time": "2022-11-09T15:32:41.045Z"
   },
   {
    "duration": 333,
    "start_time": "2022-11-09T15:32:49.746Z"
   },
   {
    "duration": 14,
    "start_time": "2022-11-09T15:33:00.546Z"
   },
   {
    "duration": 246,
    "start_time": "2022-11-09T15:33:32.141Z"
   },
   {
    "duration": 326,
    "start_time": "2022-11-09T15:33:40.905Z"
   },
   {
    "duration": 21,
    "start_time": "2022-11-09T15:33:48.060Z"
   },
   {
    "duration": 3,
    "start_time": "2022-11-09T15:43:05.240Z"
   },
   {
    "duration": 13,
    "start_time": "2022-11-09T15:59:53.298Z"
   },
   {
    "duration": 8,
    "start_time": "2022-11-09T16:07:59.125Z"
   },
   {
    "duration": 408,
    "start_time": "2022-11-09T16:08:42.902Z"
   },
   {
    "duration": 20,
    "start_time": "2022-11-09T16:08:52.137Z"
   },
   {
    "duration": 200,
    "start_time": "2022-11-09T16:09:06.841Z"
   },
   {
    "duration": 145,
    "start_time": "2022-11-09T16:09:31.631Z"
   },
   {
    "duration": 12630,
    "start_time": "2022-11-09T16:09:37.058Z"
   },
   {
    "duration": 96,
    "start_time": "2022-11-09T16:09:49.692Z"
   },
   {
    "duration": 3,
    "start_time": "2022-11-09T16:10:00.081Z"
   },
   {
    "duration": 793,
    "start_time": "2022-11-09T16:10:19.026Z"
   },
   {
    "duration": 843,
    "start_time": "2022-11-09T16:11:01.849Z"
   },
   {
    "duration": 773,
    "start_time": "2022-11-09T16:11:07.800Z"
   },
   {
    "duration": 813,
    "start_time": "2022-11-09T16:11:41.018Z"
   },
   {
    "duration": 73,
    "start_time": "2022-11-09T16:11:59.399Z"
   },
   {
    "duration": 862,
    "start_time": "2022-11-09T16:12:07.118Z"
   },
   {
    "duration": 2,
    "start_time": "2022-11-09T16:13:32.506Z"
   },
   {
    "duration": 81,
    "start_time": "2022-11-09T16:13:48.565Z"
   },
   {
    "duration": 76,
    "start_time": "2022-11-09T16:14:05.111Z"
   },
   {
    "duration": 31833,
    "start_time": "2022-11-09T16:14:17.833Z"
   },
   {
    "duration": 32296,
    "start_time": "2022-11-09T16:15:44.308Z"
   },
   {
    "duration": 4,
    "start_time": "2022-11-09T16:16:30.918Z"
   },
   {
    "duration": 9826,
    "start_time": "2022-11-09T16:16:39.071Z"
   },
   {
    "duration": 9933,
    "start_time": "2022-11-09T16:17:12.666Z"
   },
   {
    "duration": 3,
    "start_time": "2022-11-09T16:17:40.468Z"
   },
   {
    "duration": 2013,
    "start_time": "2022-11-09T16:18:04.958Z"
   },
   {
    "duration": 2028,
    "start_time": "2022-11-09T16:18:36.537Z"
   },
   {
    "duration": 1993,
    "start_time": "2022-11-09T16:19:46.749Z"
   },
   {
    "duration": 1971,
    "start_time": "2022-11-09T16:19:52.452Z"
   },
   {
    "duration": 11,
    "start_time": "2022-11-09T16:21:06.697Z"
   },
   {
    "duration": 4,
    "start_time": "2022-11-09T16:21:14.267Z"
   },
   {
    "duration": 792,
    "start_time": "2022-11-09T16:21:20.117Z"
   },
   {
    "duration": 141,
    "start_time": "2022-11-09T16:21:22.222Z"
   },
   {
    "duration": 120,
    "start_time": "2022-11-09T16:21:24.017Z"
   },
   {
    "duration": 14,
    "start_time": "2022-11-09T16:21:25.632Z"
   },
   {
    "duration": 4,
    "start_time": "2022-11-09T16:21:29.215Z"
   },
   {
    "duration": 90,
    "start_time": "2022-11-09T16:21:31.205Z"
   },
   {
    "duration": 54,
    "start_time": "2022-11-09T16:21:33.348Z"
   },
   {
    "duration": 5,
    "start_time": "2022-11-09T16:21:35.262Z"
   },
   {
    "duration": 50,
    "start_time": "2022-11-09T16:21:36.321Z"
   },
   {
    "duration": 178,
    "start_time": "2022-11-09T16:21:38.799Z"
   },
   {
    "duration": 211,
    "start_time": "2022-11-09T16:21:39.334Z"
   },
   {
    "duration": 149,
    "start_time": "2022-11-09T16:21:39.813Z"
   },
   {
    "duration": 11,
    "start_time": "2022-11-09T16:21:42.133Z"
   },
   {
    "duration": 84,
    "start_time": "2022-11-09T16:21:45.311Z"
   },
   {
    "duration": 11,
    "start_time": "2022-11-09T16:21:47.687Z"
   },
   {
    "duration": 19,
    "start_time": "2022-11-09T16:21:48.311Z"
   },
   {
    "duration": 10,
    "start_time": "2022-11-09T16:21:49.637Z"
   },
   {
    "duration": 6,
    "start_time": "2022-11-09T16:21:49.830Z"
   },
   {
    "duration": 22,
    "start_time": "2022-11-09T16:21:50.019Z"
   },
   {
    "duration": 7,
    "start_time": "2022-11-09T16:21:50.535Z"
   },
   {
    "duration": 11,
    "start_time": "2022-11-09T16:21:50.867Z"
   },
   {
    "duration": 20,
    "start_time": "2022-11-09T16:21:51.219Z"
   },
   {
    "duration": 10,
    "start_time": "2022-11-09T16:21:51.947Z"
   },
   {
    "duration": 17,
    "start_time": "2022-11-09T16:21:52.333Z"
   },
   {
    "duration": 96,
    "start_time": "2022-11-09T16:21:53.789Z"
   },
   {
    "duration": 18,
    "start_time": "2022-11-09T16:21:54.254Z"
   },
   {
    "duration": 16,
    "start_time": "2022-11-09T16:22:05.639Z"
   },
   {
    "duration": 6,
    "start_time": "2022-11-09T16:22:34.868Z"
   },
   {
    "duration": 44,
    "start_time": "2022-11-09T16:22:36.127Z"
   },
   {
    "duration": 335,
    "start_time": "2022-11-09T16:22:38.585Z"
   },
   {
    "duration": 4,
    "start_time": "2022-11-09T16:22:40.301Z"
   },
   {
    "duration": 345,
    "start_time": "2022-11-09T16:23:41.868Z"
   },
   {
    "duration": 3,
    "start_time": "2022-11-09T16:23:42.526Z"
   },
   {
    "duration": 7,
    "start_time": "2022-11-09T16:23:43.618Z"
   },
   {
    "duration": 469,
    "start_time": "2022-11-09T16:23:44.828Z"
   },
   {
    "duration": 208,
    "start_time": "2022-11-09T16:28:19.476Z"
   },
   {
    "duration": 166,
    "start_time": "2022-11-09T16:28:20.468Z"
   },
   {
    "duration": 1480,
    "start_time": "2022-11-09T16:30:17.266Z"
   },
   {
    "duration": 3,
    "start_time": "2022-11-09T16:30:58.921Z"
   },
   {
    "duration": 14,
    "start_time": "2022-11-09T16:31:03.403Z"
   },
   {
    "duration": 4,
    "start_time": "2022-11-09T16:31:16.640Z"
   },
   {
    "duration": 3,
    "start_time": "2022-11-09T16:31:21.629Z"
   },
   {
    "duration": 2,
    "start_time": "2022-11-09T16:31:25.390Z"
   },
   {
    "duration": 3,
    "start_time": "2022-11-09T16:31:27.697Z"
   },
   {
    "duration": 3,
    "start_time": "2022-11-09T16:31:31.085Z"
   },
   {
    "duration": 16,
    "start_time": "2022-11-09T16:31:34.349Z"
   },
   {
    "duration": 9,
    "start_time": "2022-11-09T16:32:16.522Z"
   },
   {
    "duration": 2,
    "start_time": "2022-11-09T16:32:54.244Z"
   },
   {
    "duration": 11,
    "start_time": "2022-11-09T16:32:57.084Z"
   },
   {
    "duration": 9802,
    "start_time": "2022-11-09T16:34:50.901Z"
   },
   {
    "duration": 6,
    "start_time": "2022-11-09T16:35:05.505Z"
   }
  ],
  "kernelspec": {
   "display_name": "Python 3 (ipykernel)",
   "language": "python",
   "name": "python3"
  },
  "language_info": {
   "codemirror_mode": {
    "name": "ipython",
    "version": 3
   },
   "file_extension": ".py",
   "mimetype": "text/x-python",
   "name": "python",
   "nbconvert_exporter": "python",
   "pygments_lexer": "ipython3",
   "version": "3.9.5"
  },
  "toc": {
   "base_numbering": 1,
   "nav_menu": {},
   "number_sections": true,
   "sideBar": true,
   "skip_h1_title": true,
   "title_cell": "Table of Contents",
   "title_sidebar": "Contents",
   "toc_cell": false,
   "toc_position": {},
   "toc_section_display": true,
   "toc_window_display": false
  }
 },
 "nbformat": 4,
 "nbformat_minor": 2
}
